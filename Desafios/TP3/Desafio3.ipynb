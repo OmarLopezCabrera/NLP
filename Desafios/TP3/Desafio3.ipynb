{
  "nbformat": 4,
  "nbformat_minor": 0,
  "metadata": {
    "colab": {
      "provenance": [],
      "gpuType": "T4",
      "machine_shape": "hm"
    },
    "kernelspec": {
      "name": "python3",
      "display_name": "Python 3"
    },
    "language_info": {
      "name": "python"
    },
    "accelerator": "GPU"
  },
  "cells": [
    {
      "cell_type": "code",
      "execution_count": null,
      "metadata": {
        "id": "puzKp0JgixnK"
      },
      "outputs": [],
      "source": []
    },
    {
      "cell_type": "markdown",
      "source": [
        "<img src=\"https://github.com/hernancontigiani/ceia_memorias_especializacion/raw/master/Figures/logoFIUBA.jpg\" width=\"500\" align=\"center\">\n",
        "\n",
        "\n",
        "# Procesamiento de lenguaje natural\n",
        "## Alumno: Omar Lopez Cabrera\n",
        "## Desafio 3 - Predicción de próxima palabra\n",
        "\n",
        "## Utilizar otro dataset y poner en práctica la generación de secuencias con las estrategias presentadas"
      ],
      "metadata": {
        "id": "gv8k5FRpi2Hp"
      }
    },
    {
      "cell_type": "code",
      "source": [
        "import random\n",
        "import io\n",
        "import pickle\n",
        "\n",
        "import numpy as np\n",
        "import pandas as pd\n",
        "import matplotlib.pyplot as plt\n",
        "from sklearn.model_selection import train_test_split\n",
        "\n",
        "from tensorflow import keras\n",
        "from tensorflow.keras import layers\n",
        "from keras.utils import to_categorical\n",
        "from keras.models import Sequential\n",
        "from keras.layers import Dense, LSTM, Embedding, Dropout\n",
        "from tensorflow.keras.losses import SparseCategoricalCrossentropy"
      ],
      "metadata": {
        "id": "6vBtdIaDtKXR"
      },
      "execution_count": 1,
      "outputs": []
    },
    {
      "cell_type": "code",
      "source": [
        "# Se puede usar gradio para probar el modelo\n",
        "# Gradio es una herramienta muy útil para crear interfaces para ensayar modelos\n",
        "# https://gradio.app/\n",
        "\n",
        "!pip install -q gradio"
      ],
      "metadata": {
        "id": "ClnQnIIuzhpP",
        "colab": {
          "base_uri": "https://localhost:8080/"
        },
        "outputId": "c783107a-5d55-4b8d-cc69-8108335191b1"
      },
      "execution_count": 2,
      "outputs": [
        {
          "output_type": "stream",
          "name": "stdout",
          "text": [
            "\u001b[2K   \u001b[90m━━━━━━━━━━━━━━━━━━━━━━━━━━━━━━━━━━━━━━━━\u001b[0m \u001b[32m57.1/57.1 MB\u001b[0m \u001b[31m37.7 MB/s\u001b[0m eta \u001b[36m0:00:00\u001b[0m\n",
            "\u001b[2K   \u001b[90m━━━━━━━━━━━━━━━━━━━━━━━━━━━━━━━━━━━━━━━━\u001b[0m \u001b[32m320.1/320.1 kB\u001b[0m \u001b[31m23.8 MB/s\u001b[0m eta \u001b[36m0:00:00\u001b[0m\n",
            "\u001b[2K   \u001b[90m━━━━━━━━━━━━━━━━━━━━━━━━━━━━━━━━━━━━━━━━\u001b[0m \u001b[32m94.9/94.9 kB\u001b[0m \u001b[31m7.6 MB/s\u001b[0m eta \u001b[36m0:00:00\u001b[0m\n",
            "\u001b[2K   \u001b[90m━━━━━━━━━━━━━━━━━━━━━━━━━━━━━━━━━━━━━━━━\u001b[0m \u001b[32m11.2/11.2 MB\u001b[0m \u001b[31m104.3 MB/s\u001b[0m eta \u001b[36m0:00:00\u001b[0m\n",
            "\u001b[2K   \u001b[90m━━━━━━━━━━━━━━━━━━━━━━━━━━━━━━━━━━━━━━━━\u001b[0m \u001b[32m73.2/73.2 kB\u001b[0m \u001b[31m3.0 MB/s\u001b[0m eta \u001b[36m0:00:00\u001b[0m\n",
            "\u001b[2K   \u001b[90m━━━━━━━━━━━━━━━━━━━━━━━━━━━━━━━━━━━━━━━━\u001b[0m \u001b[32m63.8/63.8 kB\u001b[0m \u001b[31m5.2 MB/s\u001b[0m eta \u001b[36m0:00:00\u001b[0m\n",
            "\u001b[2K   \u001b[90m━━━━━━━━━━━━━━━━━━━━━━━━━━━━━━━━━━━━━━━━\u001b[0m \u001b[32m130.2/130.2 kB\u001b[0m \u001b[31m10.6 MB/s\u001b[0m eta \u001b[36m0:00:00\u001b[0m\n",
            "\u001b[?25h"
          ]
        }
      ]
    },
    {
      "cell_type": "code",
      "source": [
        "#levanto el archivo Los_miserables.txt de mi drive en un df\n",
        "from google.colab import drive\n",
        "drive.mount('/content/drive')\n",
        "file_path = '/content/drive/My Drive/Los_miserables.txt'\n",
        "\n"
      ],
      "metadata": {
        "id": "r1OohFTS97go",
        "colab": {
          "base_uri": "https://localhost:8080/"
        },
        "outputId": "e1f31727-4716-44ec-9827-6e6b9c968760"
      },
      "execution_count": 3,
      "outputs": [
        {
          "output_type": "stream",
          "name": "stdout",
          "text": [
            "Mounted at /content/drive\n"
          ]
        }
      ]
    },
    {
      "cell_type": "code",
      "source": [
        "# Armar el dataset utilizando salto de línea para separar las oraciones/docs\n",
        "df = pd.read_csv(file_path, sep='/n', header=None, engine='python')\n",
        "df.head()"
      ],
      "metadata": {
        "id": "FgU9vnOAF3JD",
        "colab": {
          "base_uri": "https://localhost:8080/",
          "height": 206
        },
        "outputId": "bfd7e672-e1d9-4d38-b30f-998bb1ecdeb1"
      },
      "execution_count": 4,
      "outputs": [
        {
          "output_type": "execute_result",
          "data": {
            "text/plain": [
              "                                0\n",
              "0  Los Miserables, de Victor Hugo\n",
              "1                  Los Miserables\n",
              "2                     Victor Hugo\n",
              "3                          Novela\n",
              "4                          Índice"
            ],
            "text/html": [
              "\n",
              "  <div id=\"df-efd8777c-016b-4c50-96a3-4d16b73c40ad\" class=\"colab-df-container\">\n",
              "    <div>\n",
              "<style scoped>\n",
              "    .dataframe tbody tr th:only-of-type {\n",
              "        vertical-align: middle;\n",
              "    }\n",
              "\n",
              "    .dataframe tbody tr th {\n",
              "        vertical-align: top;\n",
              "    }\n",
              "\n",
              "    .dataframe thead th {\n",
              "        text-align: right;\n",
              "    }\n",
              "</style>\n",
              "<table border=\"1\" class=\"dataframe\">\n",
              "  <thead>\n",
              "    <tr style=\"text-align: right;\">\n",
              "      <th></th>\n",
              "      <th>0</th>\n",
              "    </tr>\n",
              "  </thead>\n",
              "  <tbody>\n",
              "    <tr>\n",
              "      <th>0</th>\n",
              "      <td>Los Miserables, de Victor Hugo</td>\n",
              "    </tr>\n",
              "    <tr>\n",
              "      <th>1</th>\n",
              "      <td>Los Miserables</td>\n",
              "    </tr>\n",
              "    <tr>\n",
              "      <th>2</th>\n",
              "      <td>Victor Hugo</td>\n",
              "    </tr>\n",
              "    <tr>\n",
              "      <th>3</th>\n",
              "      <td>Novela</td>\n",
              "    </tr>\n",
              "    <tr>\n",
              "      <th>4</th>\n",
              "      <td>Índice</td>\n",
              "    </tr>\n",
              "  </tbody>\n",
              "</table>\n",
              "</div>\n",
              "    <div class=\"colab-df-buttons\">\n",
              "\n",
              "  <div class=\"colab-df-container\">\n",
              "    <button class=\"colab-df-convert\" onclick=\"convertToInteractive('df-efd8777c-016b-4c50-96a3-4d16b73c40ad')\"\n",
              "            title=\"Convert this dataframe to an interactive table.\"\n",
              "            style=\"display:none;\">\n",
              "\n",
              "  <svg xmlns=\"http://www.w3.org/2000/svg\" height=\"24px\" viewBox=\"0 -960 960 960\">\n",
              "    <path d=\"M120-120v-720h720v720H120Zm60-500h600v-160H180v160Zm220 220h160v-160H400v160Zm0 220h160v-160H400v160ZM180-400h160v-160H180v160Zm440 0h160v-160H620v160ZM180-180h160v-160H180v160Zm440 0h160v-160H620v160Z\"/>\n",
              "  </svg>\n",
              "    </button>\n",
              "\n",
              "  <style>\n",
              "    .colab-df-container {\n",
              "      display:flex;\n",
              "      gap: 12px;\n",
              "    }\n",
              "\n",
              "    .colab-df-convert {\n",
              "      background-color: #E8F0FE;\n",
              "      border: none;\n",
              "      border-radius: 50%;\n",
              "      cursor: pointer;\n",
              "      display: none;\n",
              "      fill: #1967D2;\n",
              "      height: 32px;\n",
              "      padding: 0 0 0 0;\n",
              "      width: 32px;\n",
              "    }\n",
              "\n",
              "    .colab-df-convert:hover {\n",
              "      background-color: #E2EBFA;\n",
              "      box-shadow: 0px 1px 2px rgba(60, 64, 67, 0.3), 0px 1px 3px 1px rgba(60, 64, 67, 0.15);\n",
              "      fill: #174EA6;\n",
              "    }\n",
              "\n",
              "    .colab-df-buttons div {\n",
              "      margin-bottom: 4px;\n",
              "    }\n",
              "\n",
              "    [theme=dark] .colab-df-convert {\n",
              "      background-color: #3B4455;\n",
              "      fill: #D2E3FC;\n",
              "    }\n",
              "\n",
              "    [theme=dark] .colab-df-convert:hover {\n",
              "      background-color: #434B5C;\n",
              "      box-shadow: 0px 1px 3px 1px rgba(0, 0, 0, 0.15);\n",
              "      filter: drop-shadow(0px 1px 2px rgba(0, 0, 0, 0.3));\n",
              "      fill: #FFFFFF;\n",
              "    }\n",
              "  </style>\n",
              "\n",
              "    <script>\n",
              "      const buttonEl =\n",
              "        document.querySelector('#df-efd8777c-016b-4c50-96a3-4d16b73c40ad button.colab-df-convert');\n",
              "      buttonEl.style.display =\n",
              "        google.colab.kernel.accessAllowed ? 'block' : 'none';\n",
              "\n",
              "      async function convertToInteractive(key) {\n",
              "        const element = document.querySelector('#df-efd8777c-016b-4c50-96a3-4d16b73c40ad');\n",
              "        const dataTable =\n",
              "          await google.colab.kernel.invokeFunction('convertToInteractive',\n",
              "                                                    [key], {});\n",
              "        if (!dataTable) return;\n",
              "\n",
              "        const docLinkHtml = 'Like what you see? Visit the ' +\n",
              "          '<a target=\"_blank\" href=https://colab.research.google.com/notebooks/data_table.ipynb>data table notebook</a>'\n",
              "          + ' to learn more about interactive tables.';\n",
              "        element.innerHTML = '';\n",
              "        dataTable['output_type'] = 'display_data';\n",
              "        await google.colab.output.renderOutput(dataTable, element);\n",
              "        const docLink = document.createElement('div');\n",
              "        docLink.innerHTML = docLinkHtml;\n",
              "        element.appendChild(docLink);\n",
              "      }\n",
              "    </script>\n",
              "  </div>\n",
              "\n",
              "\n",
              "<div id=\"df-fe9e5175-ef1a-4395-aabb-f323abe9d6f7\">\n",
              "  <button class=\"colab-df-quickchart\" onclick=\"quickchart('df-fe9e5175-ef1a-4395-aabb-f323abe9d6f7')\"\n",
              "            title=\"Suggest charts\"\n",
              "            style=\"display:none;\">\n",
              "\n",
              "<svg xmlns=\"http://www.w3.org/2000/svg\" height=\"24px\"viewBox=\"0 0 24 24\"\n",
              "     width=\"24px\">\n",
              "    <g>\n",
              "        <path d=\"M19 3H5c-1.1 0-2 .9-2 2v14c0 1.1.9 2 2 2h14c1.1 0 2-.9 2-2V5c0-1.1-.9-2-2-2zM9 17H7v-7h2v7zm4 0h-2V7h2v10zm4 0h-2v-4h2v4z\"/>\n",
              "    </g>\n",
              "</svg>\n",
              "  </button>\n",
              "\n",
              "<style>\n",
              "  .colab-df-quickchart {\n",
              "      --bg-color: #E8F0FE;\n",
              "      --fill-color: #1967D2;\n",
              "      --hover-bg-color: #E2EBFA;\n",
              "      --hover-fill-color: #174EA6;\n",
              "      --disabled-fill-color: #AAA;\n",
              "      --disabled-bg-color: #DDD;\n",
              "  }\n",
              "\n",
              "  [theme=dark] .colab-df-quickchart {\n",
              "      --bg-color: #3B4455;\n",
              "      --fill-color: #D2E3FC;\n",
              "      --hover-bg-color: #434B5C;\n",
              "      --hover-fill-color: #FFFFFF;\n",
              "      --disabled-bg-color: #3B4455;\n",
              "      --disabled-fill-color: #666;\n",
              "  }\n",
              "\n",
              "  .colab-df-quickchart {\n",
              "    background-color: var(--bg-color);\n",
              "    border: none;\n",
              "    border-radius: 50%;\n",
              "    cursor: pointer;\n",
              "    display: none;\n",
              "    fill: var(--fill-color);\n",
              "    height: 32px;\n",
              "    padding: 0;\n",
              "    width: 32px;\n",
              "  }\n",
              "\n",
              "  .colab-df-quickchart:hover {\n",
              "    background-color: var(--hover-bg-color);\n",
              "    box-shadow: 0 1px 2px rgba(60, 64, 67, 0.3), 0 1px 3px 1px rgba(60, 64, 67, 0.15);\n",
              "    fill: var(--button-hover-fill-color);\n",
              "  }\n",
              "\n",
              "  .colab-df-quickchart-complete:disabled,\n",
              "  .colab-df-quickchart-complete:disabled:hover {\n",
              "    background-color: var(--disabled-bg-color);\n",
              "    fill: var(--disabled-fill-color);\n",
              "    box-shadow: none;\n",
              "  }\n",
              "\n",
              "  .colab-df-spinner {\n",
              "    border: 2px solid var(--fill-color);\n",
              "    border-color: transparent;\n",
              "    border-bottom-color: var(--fill-color);\n",
              "    animation:\n",
              "      spin 1s steps(1) infinite;\n",
              "  }\n",
              "\n",
              "  @keyframes spin {\n",
              "    0% {\n",
              "      border-color: transparent;\n",
              "      border-bottom-color: var(--fill-color);\n",
              "      border-left-color: var(--fill-color);\n",
              "    }\n",
              "    20% {\n",
              "      border-color: transparent;\n",
              "      border-left-color: var(--fill-color);\n",
              "      border-top-color: var(--fill-color);\n",
              "    }\n",
              "    30% {\n",
              "      border-color: transparent;\n",
              "      border-left-color: var(--fill-color);\n",
              "      border-top-color: var(--fill-color);\n",
              "      border-right-color: var(--fill-color);\n",
              "    }\n",
              "    40% {\n",
              "      border-color: transparent;\n",
              "      border-right-color: var(--fill-color);\n",
              "      border-top-color: var(--fill-color);\n",
              "    }\n",
              "    60% {\n",
              "      border-color: transparent;\n",
              "      border-right-color: var(--fill-color);\n",
              "    }\n",
              "    80% {\n",
              "      border-color: transparent;\n",
              "      border-right-color: var(--fill-color);\n",
              "      border-bottom-color: var(--fill-color);\n",
              "    }\n",
              "    90% {\n",
              "      border-color: transparent;\n",
              "      border-bottom-color: var(--fill-color);\n",
              "    }\n",
              "  }\n",
              "</style>\n",
              "\n",
              "  <script>\n",
              "    async function quickchart(key) {\n",
              "      const quickchartButtonEl =\n",
              "        document.querySelector('#' + key + ' button');\n",
              "      quickchartButtonEl.disabled = true;  // To prevent multiple clicks.\n",
              "      quickchartButtonEl.classList.add('colab-df-spinner');\n",
              "      try {\n",
              "        const charts = await google.colab.kernel.invokeFunction(\n",
              "            'suggestCharts', [key], {});\n",
              "      } catch (error) {\n",
              "        console.error('Error during call to suggestCharts:', error);\n",
              "      }\n",
              "      quickchartButtonEl.classList.remove('colab-df-spinner');\n",
              "      quickchartButtonEl.classList.add('colab-df-quickchart-complete');\n",
              "    }\n",
              "    (() => {\n",
              "      let quickchartButtonEl =\n",
              "        document.querySelector('#df-fe9e5175-ef1a-4395-aabb-f323abe9d6f7 button');\n",
              "      quickchartButtonEl.style.display =\n",
              "        google.colab.kernel.accessAllowed ? 'block' : 'none';\n",
              "    })();\n",
              "  </script>\n",
              "</div>\n",
              "\n",
              "    </div>\n",
              "  </div>\n"
            ],
            "application/vnd.google.colaboratory.intrinsic+json": {
              "type": "dataframe",
              "variable_name": "df",
              "summary": "{\n  \"name\": \"df\",\n  \"rows\": 6079,\n  \"fields\": [\n    {\n      \"column\": 0,\n      \"properties\": {\n        \"dtype\": \"string\",\n        \"num_unique_values\": 5959,\n        \"samples\": [\n          \"Esto no era cierto. Cosette ment\\u00eda.\",\n          \"Y as\\u00ed pas\\u00f3 un a\\u00f1o, y despu\\u00e9s otro.\",\n          \"\\u2014\\u00bfYo? No \\u2014respondi\\u00f3 Jean Valjean\\u2014, me siento bien. S\\u00f3lo que...\"\n        ],\n        \"semantic_type\": \"\",\n        \"description\": \"\"\n      }\n    }\n  ]\n}"
            }
          },
          "metadata": {},
          "execution_count": 4
        }
      ]
    },
    {
      "cell_type": "code",
      "source": [
        "print(\"Cantidad de documentos:\", df.shape[0])"
      ],
      "metadata": {
        "id": "qLKCEk02GTBu",
        "colab": {
          "base_uri": "https://localhost:8080/"
        },
        "outputId": "53f35233-e6a6-4374-d745-04147322d000"
      },
      "execution_count": 5,
      "outputs": [
        {
          "output_type": "stream",
          "name": "stdout",
          "text": [
            "Cantidad de documentos: 6079\n"
          ]
        }
      ]
    },
    {
      "cell_type": "code",
      "source": [
        "# prompt: me quedo con 1/10 del dataset, sino se queda sin memoria. Tambien probe con google colab pro para tener mas memoria,\n",
        "#Pero la perplejidad se me va a infinito.\n",
        "\n",
        "# Tomar una cuarta parte del dataset\n",
        "df_reduced = df.sample(frac=0.02, random_state=42)  # random_state para reproducibilidad\n",
        "print(\"Cantidad de documentos luego de reducir:\", df_reduced.shape[0])\n",
        "df = df_reduced # Reemplaza el df original con el reducido"
      ],
      "metadata": {
        "id": "01vJrOl8aMDi",
        "colab": {
          "base_uri": "https://localhost:8080/"
        },
        "outputId": "4782ac43-0fc7-481f-df22-75d1e16aec41"
      },
      "execution_count": 6,
      "outputs": [
        {
          "output_type": "stream",
          "name": "stdout",
          "text": [
            "Cantidad de documentos luego de reducir: 122\n"
          ]
        }
      ]
    },
    {
      "cell_type": "markdown",
      "source": [
        "### Elegir el tamaño del contexto"
      ],
      "metadata": {
        "id": "J0YTxvqHIjM9"
      }
    },
    {
      "cell_type": "code",
      "source": [
        "# Usaremos las utilidades de procesamiento de textos y secuencias de Keras\n",
        "from tensorflow.keras.preprocessing.text import Tokenizer # equivalente a ltokenizer de nltk\n",
        "from tensorflow.keras.preprocessing.text import text_to_word_sequence # equivalente a word_tokenize de nltk\n",
        "from tensorflow.keras.utils import pad_sequences # se utilizará para padding\n",
        "# cada renglón lo guardamos en una lista\n",
        "text = list(df.loc[:,0])\n",
        "text"
      ],
      "metadata": {
        "id": "eKy1C9f2IjxW",
        "colab": {
          "base_uri": "https://localhost:8080/"
        },
        "outputId": "8a83dd44-f4f8-4fe1-a8d5-e261b23eec40"
      },
      "execution_count": 7,
      "outputs": [
        {
          "output_type": "execute_result",
          "data": {
            "text/plain": [
              "['—Toma esta carta. Ya sabes lo que tienes que hacer. Abajo hay un cabriolé esperándote, parte de inmediato y vuelve volando.',\n",
              " 'V. El interior de la desesperación',\n",
              " 'Había dormido más de cuatro horas. No acos\\xadtumbraba dedicar más tiempo al reposo.',\n",
              " 'Javert repitió a media voz:',\n",
              " '—Es un papel que esos señores han dejado abajo para estas señoritas.',\n",
              " '—¿Lo habéis traído aquí desde la barricada?',\n",
              " 'Esta piedra no se halla menos expuesta que las demás a la lepra del tiempo, a los efectos de la humedad, del líquen y de las inmundicias de los pájaros. El agua la pone verde y el aire la enne\\xadgrece. No está próxima a ninguna senda, y no es agradable ir a pasear por aquel lado a causa de la altura de la hierba. Cuando la bañan los rayos del sol, se suben a ella los lagartos. A su alrededor se mecen los tallos de avena agitados por el viento, y en la primavera cantan en el árbol las currucas.',\n",
              " 'Los niños aceptan inmediatamente y con toda naturalidad la alegría y la dicha, siendo ellos mis\\xadmos naturalmente dicha y alegría.',\n",
              " 'Examinó el despiadado problema en todas sus fases.',\n",
              " 'Eponina acercó la mano a los ojos de Marius, y le mostró en ella un agujero negro.',\n",
              " '—Yo.',\n",
              " '—Me es imposible no deciros algo sobre el depósito que tan fiel y honradamente habéis en\\xadtregado. Es un acto de probidad. Merecéis que se os recompense. Fijad vos mismo la cantidad, y no temáis que sea muy elevada.',\n",
              " 'Mientras Marius crecía en esta atmósfera, cada dos o tres meses se escapaba el coronel, iba furti\\xadvamente a París y se apostaba en San Sulpicio, a la hora en que la señorita Gillenormand llevaba a Marius a misa; y allí, temblando al pensar que la tía podía darse vuelta y verlo, oculto detrás de un pilar, inmóvil, sin atreverse apenas a respirar, miraba a su hijo. Aquel hombre, lleno de cicatrices, tenía miedo de una vieja solterona.',\n",
              " '—Eso sí que es algo real y no hay que ir a rebuscarlo.',\n",
              " 'Una hora después, el veredicto del jurado de\\xadclaraba inocente a Champmathieu, quien, puesto en libertad inmediatamente, se fue estupefacto, pensando que todos estaban locos, y sin com\\xadprender nada de lo que había visto.',\n",
              " '—¡Oh!, ¡mi bienhechor! —exclamó Jondrette de\\xadlirante.',\n",
              " '—¿Cómo sabéis que me llamo Eponina?',\n",
              " 'Una de las mujeres hizo el viaje a Montfer\\xadmeil, habló con los Thenardier, y dijo a su vuelta:',\n",
              " 'Las tres criaturas jugaban y reían, felices.',\n",
              " 'Mientras Napoleón regresaba vencido a París, setenta mil hombres se desangraban poco a poco y algo de su paz se esparcía por el mundo.',\n",
              " '—Entonces, si vos lo coméis, yo también lo comeré.',\n",
              " 'En un abrir y cerrar de ojos estuvo en la verga; llegó a la punta, ató a ella un cabo de la cuerda que llevaba, y dejó suelto el otro cabo; después empezó a bajar deslizándose por esta cuerda y se acercó al marinero. Entonces hubo una doble angustia; en vez de un hombre suspen\\xaddido sobre el abismo había dos.',\n",
              " '—Ahora, ¡engullid, monigotes!',\n",
              " 'Jondrette replicó con amabilidad:',\n",
              " '—¡Así es, señor! —contestó Santos—. Hacia Saint\\xadMerry.',\n",
              " 'Y no pensó más en ello.',\n",
              " 'París tiene debajo de sí otro París. Un París de alcantarillas; con sus calles, encrucijadas, plazas, callejuelas sin salida; con sus arterias y su circula\\xadción, llenas de fango.',\n",
              " 'Cuando acabó la misa, Marius permaneció me\\xadditabundo a algunos pasos de distancia; el viejo se acercó otra vez y le dijo:',\n",
              " 'En medio de todo esto se recibió de abogado; dio parte a su abuelo en una carta fría, pero llena de sumisión y de respeto. El señor Gillenormand cogió la carta temblando, la leyó, y la tiró hecha cuatro pedazos al cesto. Dos o tres días después, la señorita Gillenormand oyó a su padre, que estaba solo en su cuarto, hablar en voz alta, lo que le sucedía siempre que estaba muy agitado; oyó que el anciano decía:',\n",
              " '—¿Qué es eso?, ¿qué es eso? ¡Buen Dios! ¡Echan abajo la puerta! ¡Están derribando la casa!',\n",
              " 'Por la noche el pilluelo, gracias a algunas mo\\xadnedas que siempre halla medio de procurarse, va al teatro, y allí se transfigura. También basta que él esté allí con su alegría, con su poderoso entu\\xadsiasmo, con sus aplausos, para que esa sala estre\\xadcha, fétida, obscura, fea, malsana, repugnante, sea el paraíso.',\n",
              " 'I. Compasión para los desdichados a indulgencia para los dichosos',\n",
              " '—Juega, pues, Cosette —dijo el desconocido.',\n",
              " 'Ante él se encontraba una muchacha flaca, desco\\xadlorida, descarnada; no tenía más que una mala camisa y un vestido sobre su helada y temblorosa desnudez; las manos rojas, la boca entreabierta y desfigurada, con algunos dientes de menos, los ojos sin brillo de mirada insolente, las formas abor\\xadtadas de una joven, y la mirada de una vieja corrompida; cincuenta años mezclados con quin\\xadce. Uno de esos seres que son a la vez débiles y horribles, y que hacen estremecer a aquellos a quienes no hacen llorar. Un resto de belleza moría en aquel rostro de dieciséis años.',\n",
              " 'Aquel hombre tenía un semblante no menos feroz y no menos temible que Jondrette; algunas veces causa tanta inquietud un encuentro con un perro de presa como con un lobo.',\n",
              " '—Tienes para seis meses.',\n",
              " '—¿Mi nombre?',\n",
              " 'Sus cabellos se erizaron.',\n",
              " '—No entiendo lo que queréis decir.',\n",
              " 'Mientras hablaba había dejado el saco y el palo en un rincón, guardado su pasaporte en el bolsillo y tomado asiento. La señorita Baptistina lo miraba con dulzura.',\n",
              " 'Eran cerca de las ocho de la noche cuando el carruaje, después de un accidentado viaje, entró por la puerta cochera de la hostería de Arras.',\n",
              " '—¿Habéis dormido mal?',\n",
              " 'Algunas naturalezas no pueden amar a alguien sin odiar a otro. La Thenardier amaba apasionada\\xadmente a sus hijas, lo cual fue causa de que detes\\xadtara a la forastera. Es triste pensar que el amor de una madre tenga aspectos tan terribles. Por poco que se preocupara de la niña, siempre le parecía que algo le quitaba a sus hijas, hasta el aire que respiraban, y no pasaba día sin que la golpeara cruelmente. Siendo la Thenardier mala con Coset\\xadte, Eponina y Azelma lo fueron también. Las niñas a esa edad no son más que imitadoras de su madre.',\n",
              " 'Para llegar a esta situación floreciente le fue\\xadron necesarios algunos años muy difíciles y duros. Todo lo había padecido en materia de desamparo; todo lo había hecho excepto contraer deudas. Pre\\xadfería no comer a pedir prestado, y así había pasa\\xaddo muchos días ayunando.',\n",
              " '—¿Qué tenéis en la mano? —le preguntó.',\n",
              " 'Ya ves que tenemos que trabajar aquí —agre\\xadgó Babet.',\n",
              " 'El viajero fue a sentarse junto al hogar y ex\\xadtendió hacia el fuego sus pies doloridos por el cansancio.',\n",
              " 'Los principales eran: Enjolras, Combeferre, Prouvaire, Feuilly, Courfeyrac, Bahorel, Laigle, Joly, Grantaire.',\n",
              " 'Jean Valjean aprovechó esa vacilación de sus perseguidores y salió de la puerta en que se había ocultado, con Cosette en brazos. Cruzó el puente de Austerlitz a la sombra de una carreta, con la esperanza de que no lo hubieran visto. Pensó que si entraba en la callejuela que tenía delante y conseguía llegar a los terrenos en que no había casas, podía escapar. Decidió entonces que debía entrar en aquella callejuela silenciosa, y entró.',\n",
              " '—Tienes razón —fue su respuesta.',\n",
              " 'Replicó:',\n",
              " 'Los tres quedaron mudos a indicaron con un movimiento de cabeza que no lo conocían. El señor Magdalena se volvió hacia los jurados y dijo con voz tranquila:',\n",
              " 'Jondrette se paseaba por el desván, de un extremo a otro, a largos pasos, y sus ojos brilla\\xadban.',\n",
              " 'Fue un espectáculo extraño aquél, cuando los harapos de Cosette se estrecharon con las cintas rosadas de la muñeca.',\n",
              " '—Monseñor —dijo el cabo—. ¿Es verdad enton\\xadces lo que decía este hombre? Lo encontramos como si fuera huyendo, y lo hemos detenido. Tenía esos cubiertos...',\n",
              " '—Bizcocho —respondió Babet.',\n",
              " 'En este libro no se ha visto aún a los Thenardier más que de perfil; ha llegado el momento de mirarlos por todas sus fases.',\n",
              " '—A pie.',\n",
              " 'Y con la prontitud de un mono, echándose hacia atrás los cabellos, arrancándose los anteojos y sacándose la nariz, se quitó el rostro como quien se quita el sombrero.',\n",
              " 'Cosa curiosa y triste, en aquel momento, Ma\\xadrius no había recibido aún la carta de Cosette y la traidora casualidad se la había dado ya a Jean Valjean.',\n",
              " '—Después que nosotros —aullaron los demás bandidos.',\n",
              " '—Sí —contestó el hombre.',\n",
              " 'El viejo lanzó una carcajada estridente y lúgu\\xadbre, en medio de la cual tosía y hablaba:',\n",
              " 'En uno de sus anteriores paseos había visto allí un jardín cuidado por un anciano y donde crecía un buen manzano. Una manzana es una cena, una manzana es la vida. Lo que perdió a Adán podía salvar a Gavroche.',\n",
              " '—¡Ah! ¡Conque me quieres! —dijo el anciano.',\n",
              " '—Notad bien que estáis en nuestro poder —dijo—, a nuestra discreción; que ningún poder humano puede sacaros de aquí, y que nos afligi\\xadría verdaderamente el vernos obligados a recurrir a desagradables extremos. No sé ni vuestro hom\\xadbre, ni las señas de vuestra casa; pero os preven\\xadgo que seguiréis atado aquí hasta que vuelva la persona encargada de llevar esta carta. Ahora dignaos escribir.',\n",
              " 'Esto es lo que aterraba a la pequeña Cosette. La pobre niña servía de criada a los Thenardier y ella era la que iba a buscar agua cuando faltaba. Así es que, espantada con la idea de ir a la fuente por la noche, cuidaba de que no faltara nunca en la casa.',\n",
              " 'En eso la niña abrió los ojos, unos enormes ojos azules como los de su madre, descubrió a las otras dos que jugaban y sacó la lengua en señal de admiración.',\n",
              " 'El obispo lo miró y le dijo:',\n",
              " '—Decididamente —dijo el abuelo—, el joven se mueve.',\n",
              " '—Pst —dijo el viejo.',\n",
              " 'Su madre escribía, o mejor dicho hacía escribir todos los meses para tener noticias de su hija. Los Thenardier contestaban siempre: \"Cosette está per\\xadfectamente\". Transcurridos los seis primeros me\\xadses, la madre remitió siete francos para el séptimo mes, y continuó con bastante exactitud haciendo sus remesas de mes en mes. Antes de terminar el año, Thenardier le escribió exigiéndole doce. La madre, a quien se le decía que la niña estaba feliz, se sometió y envió los doce francos.',\n",
              " 'Marius puso atención. Laigle continuó:',\n",
              " '—¡Todos fuera! —gritó Enjolras.',\n",
              " '—Perdonad, ¿de qué me hablabais, señor Fa\\xadbontou?',\n",
              " 'La niña volvió a ocupar su sitio debajo de la mesa de la cocina, y se puso a tejer. El hombre la contemplaba con atención extraña.',\n",
              " '—Señora —dijo sonriéndose casi con timidez—. ¡Dejadla jugar!',\n",
              " 'El pilluelo ama la ciudad y ama también la soledad; tiene mucho de sabio.',\n",
              " 'Pontmercy y el señor Fauchelevent no se ha\\xadblaban. Parecía algo convenido.',\n",
              " '—¿Y entonces?',\n",
              " '—El carnicero nos niega el crédito.',\n",
              " 'Añadía también:',\n",
              " 'Jean Valjean, mudo, miraba la pared que tenía enfrente.',\n",
              " 'Marius Pontmercy había arreglado así su exis\\xadtencia:',\n",
              " 'Pensó en el porvenir. ¡Denunciarse! Se pintó con inmensa desesperación todo lo que tenía que abandonar y todo lo que tenía que volver a vivir.',\n",
              " 'El palacio episcopal de D. estaba contiguo al hos\\xadpital, y era un vasto y hermoso edificio construido en piedra a principios del último siglo. Todo en él respiraba cierto aire de grandeza: las habitaciones del obispo, los salones, las habitaciones interiores, el patio de honor muy amplio con galerías de arcos según la antigua costumbre florentina, los jardines plantados de magníficos árboles.',\n",
              " 'montado en una perra.',\n",
              " '—¡Ladrón! —gritó Boulatruelle, amenazando con sus puños hacia el horizonte.',\n",
              " '—Tenemos uno —replicó Combeferre—, pero so\\xadbre él están los heridos.',\n",
              " '—No —dijo Marius.',\n",
              " '—Pues bien —añadió Jean Valjean—; yo debo recibir la carta para llevársela. Dámela.',\n",
              " 'Y al mismo tiempo que la bala dio contra la barricada se vio a Gravroche lanzarse dentro.',\n",
              " 'Fauchelevent respondió:',\n",
              " '—Está bien.',\n",
              " 'Pasaron algunos minutos y la luz desapareció; pero no oyó ruido de pasos, lo que parecía indi\\xadcar que el que había ido a escuchar a la puerta se había quitado los zapatos.',\n",
              " 'Además llevaba un abultado bolso de viaje que parecía muy pesado.',\n",
              " '—¿Cosette? —murmuró Gavroche—; sí, creo que es ese endiablado nombre.',\n",
              " '—Tengo mi legajo —dijo con calma.',\n",
              " '—¡Sígueme!',\n",
              " '—Esta mañana mi padre ha dicho que tenga prontas todas mis cosas, y esté dispuesta para partir; que prepare mi ropa para guardarla en una maleta, que se verá obligado a hacer un viaje; que teníamos que partir, que necesitábamos una male\\xadta grande para mí y una pequeña para él y que lo preparase todo en una semana, porque iríamos tal vez a Inglaterra.',\n",
              " '—La dirección del padre y de la hija. Eso es lo que quiero. .',\n",
              " 'Envió a Nicolasa para saber si estaba enfermo, y por qué no había venido la víspera.',\n",
              " 'No se dirigía al Sena. La curva que hace el suelo de París en la ribera derecha vacía una de sus vertientes en el Sena y la otra en la gran cloaca. Hacia allá se dirigía Jean Valjean; estaba en el buen camino, pero no lo sabía.',\n",
              " 'Sus gritos desesperados resuenan en las pro\\xadfundidades. Observa aquel espectro de una vela que se aleja. La mira, la mira desesperado. Pero la vela se aleja, decrece, desaparece. Allí estaba él: hacía un momento, formaba parte de la tripula\\xadción, iba y venía por el puente con los demás, tenía su parte de aire y de sol; estaba vivo. Pero ¿qué ha sucedido? Resbaló; cayó. Todo ha termi\\xadnado.',\n",
              " 'Otra bala arrancó chispas del empedrado jun\\xadto a él. La tercera volcó el canasto.',\n",
              " 'Subieron al carruaje, y el cochero ocupó su asiénto.',\n",
              " '—Ven, mujer.',\n",
              " 'Frente a la puerta de los Thenardier se había instalado una tienda de juguetes relumbrante de lentejuelas, de abalorios y vidrios de colores. De\\xadlante de todo había puesto el tendero una inmen\\xadsa muñeca de cerca de dos pies de altura, vestida con un traje color rosa, con espigas doradas en la cabeza, y que tenía pelo verdadero y ojos de vidrio esmaltado. Esta maravilla había sido duran\\xadte todo el día objeto de la admiración de los mirones de menos de diez años, sin que hubiera en Montfermeil una madre bastante rica o bastan\\xadte pródiga para comprársela a su hija. Eponina y Azelma habían pasado horas enteras contemplán\\xaddola y hasta la misma Cosette, aunque es cierto que furtivamente, se había atrevido a mirarla.',\n",
              " '—Ah, sí —contestó—, ¡el carruaje!',\n",
              " '—No tengas miedo, no pueden entrar. Además, estoy yo aquí. Tómate de mi mano. Cállate y duerme.',\n",
              " 'Laigle soltó una carcajada.',\n",
              " '—Ahora, llévame.',\n",
              " '—¡Qué! ¿No tiene dote?',\n",
              " '—¡Qué queréis, monseñor! —dijo el director—: es menester resignarse.',\n",
              " '—De cualquier modo —decía—, si la Alondra es Ella, la veré, porque la Thenardier va a traerla aquí. Entonces todo acabará: daré mi vida y mi sangre si es preciso, pero la libertaré. Nada me detendrá.',\n",
              " '—¿Pero qué es lo que hace? —continuó el des\\xadconocido con una dulce voz que contrastaba ex\\xadtrañamente con su traje de mendigo.',\n",
              " '—Quizá mañana. Llegará de un momento a otro.',\n",
              " 'Hacia 1830, el dueño murió y su viuda no supo mantener el prestigio de la taberna; la coci\\xadna bajó su calidad y el vino, que siempre fue malo, se hizo intomable. Sin embargo, Courfeyrac y sus camaradas continuaron yendo allí, por com\\xadpasión, decía Laigle.',\n",
              " 'Y adoptando un acento de tierna autoridad y de dulce protección, añadió:',\n",
              " '—Bueno.',\n",
              " 'LIBRO PRIMERO. Algunas páginas de historia',\n",
              " '—Señor, ¿qué le digo al cochero?']"
            ]
          },
          "metadata": {},
          "execution_count": 7
        }
      ]
    },
    {
      "cell_type": "code",
      "source": [
        "# segmentamos el texto con la utilidad de Keras\n",
        "segmented_sentences = [text_to_word_sequence(sentence, filters='«»¡!\"#$%&()*+,-./:;<=>¿?@[\\\\]^_`{|}~\\t\\n—') for sentence in text]"
      ],
      "metadata": {
        "id": "tENlSy_pIp0f"
      },
      "execution_count": 8,
      "outputs": []
    },
    {
      "cell_type": "code",
      "source": [
        "text[0]"
      ],
      "metadata": {
        "id": "S9dpQXAoIrur",
        "colab": {
          "base_uri": "https://localhost:8080/",
          "height": 35
        },
        "outputId": "fb26c3eb-dccf-42fa-a6a9-8979889944ce"
      },
      "execution_count": 9,
      "outputs": [
        {
          "output_type": "execute_result",
          "data": {
            "text/plain": [
              "'—Toma esta carta. Ya sabes lo que tienes que hacer. Abajo hay un cabriolé esperándote, parte de inmediato y vuelve volando.'"
            ],
            "application/vnd.google.colaboratory.intrinsic+json": {
              "type": "string"
            }
          },
          "metadata": {},
          "execution_count": 9
        }
      ]
    },
    {
      "cell_type": "code",
      "source": [
        "segmented_sentences[0]"
      ],
      "metadata": {
        "id": "NpgfnjSPItqc",
        "colab": {
          "base_uri": "https://localhost:8080/"
        },
        "outputId": "3be8888d-b36c-4b15-c3d1-6067d7160b75"
      },
      "execution_count": 10,
      "outputs": [
        {
          "output_type": "execute_result",
          "data": {
            "text/plain": [
              "['toma',\n",
              " 'esta',\n",
              " 'carta',\n",
              " 'ya',\n",
              " 'sabes',\n",
              " 'lo',\n",
              " 'que',\n",
              " 'tienes',\n",
              " 'que',\n",
              " 'hacer',\n",
              " 'abajo',\n",
              " 'hay',\n",
              " 'un',\n",
              " 'cabriolé',\n",
              " 'esperándote',\n",
              " 'parte',\n",
              " 'de',\n",
              " 'inmediato',\n",
              " 'y',\n",
              " 'vuelve',\n",
              " 'volando']"
            ]
          },
          "metadata": {},
          "execution_count": 10
        }
      ]
    },
    {
      "cell_type": "code",
      "source": [
        "# calculamos la longitud de cada secuencia\n",
        "length_sentences = [len(sentence) for sentence in segmented_sentences]"
      ],
      "metadata": {
        "id": "23bCPaXBIvdu"
      },
      "execution_count": 11,
      "outputs": []
    },
    {
      "cell_type": "code",
      "source": [
        "print(set(length_sentences))  # Muestra los valores únicos"
      ],
      "metadata": {
        "id": "hdW4Cbu7KScw",
        "colab": {
          "base_uri": "https://localhost:8080/"
        },
        "outputId": "862d63b2-0ae8-4d49-e7f4-df2e9802c8d1"
      },
      "execution_count": 12,
      "outputs": [
        {
          "output_type": "stream",
          "name": "stdout",
          "text": [
            "{1, 2, 3, 4, 5, 6, 7, 8, 9, 10, 11, 12, 13, 14, 16, 17, 18, 19, 20, 21, 24, 25, 26, 28, 29, 30, 31, 32, 33, 36, 38, 40, 43, 44, 47, 51, 53, 60, 62, 63, 64, 67, 76, 77, 78, 79, 97, 98, 100, 122}\n"
          ]
        }
      ]
    },
    {
      "cell_type": "code",
      "source": [
        "# podemos ver su distribución\n",
        "# Filtrar los valores distintos de 0\n",
        "length_sentences_non_zero = [length for length in length_sentences if length > 0]\n",
        "\n",
        "# Crear el histograma\n",
        "plt.hist(length_sentences_non_zero, bins=50, edgecolor='black')\n",
        "plt.show()"
      ],
      "metadata": {
        "id": "2MdUSOZVIxNA",
        "colab": {
          "base_uri": "https://localhost:8080/",
          "height": 430
        },
        "outputId": "46d2f169-76b8-4fca-b320-92d5efc220d9"
      },
      "execution_count": 13,
      "outputs": [
        {
          "output_type": "display_data",
          "data": {
            "text/plain": [
              "<Figure size 640x480 with 1 Axes>"
            ],
            "image/png": "[encoded data removed]"
          },
          "metadata": {}
        }
      ]
    },
    {
      "cell_type": "code",
      "source": [
        "# a partir de la distribución de longitudes de secuencias elegimos algún criterio\n",
        "# para determinar el máximo tamaño de contexto. En este caso es un percentil, pero\n",
        "# otros criterios también pueden ser válidos con la justificación adecuada.\n",
        "# También puede ser una selección \"a mano\"\n",
        "\n",
        "# el -1 es porque el último token será el target\n",
        "max_context_size = int(np.percentile(length_sentences, 90) - 1)\n",
        "\n",
        "# max_context_size = int(np.ceil(np.mean(length_sentences))) # criterio de media\n",
        "# max_context_size = int(np.ceil(np.median(length_sentences))) # criterio de mediana\n",
        "print(f'max_context_size: {max_context_size}')"
      ],
      "metadata": {
        "id": "FULboTXMKkbQ",
        "colab": {
          "base_uri": "https://localhost:8080/"
        },
        "outputId": "a6cf1986-b3fe-4210-fcca-3bc0dae4d9ff"
      },
      "execution_count": 14,
      "outputs": [
        {
          "output_type": "stream",
          "name": "stdout",
          "text": [
            "max_context_size: 58\n"
          ]
        }
      ]
    },
    {
      "cell_type": "markdown",
      "source": [
        "###  Tokenizar"
      ],
      "metadata": {
        "id": "6FyhUyc2Kozj"
      }
    },
    {
      "cell_type": "code",
      "source": [
        "# instanciamos el tokenizador\n",
        "tok = Tokenizer()\n",
        "\n",
        "# El tokenizer \"aprende\" las palabras que se usaran\n",
        "# Se construye (fit) una vez por proyecto, se aplica N veces (tal cual un encoder)\n",
        "# El token 0 es reservado y no es asignado. Se utiliza para designar a palabras\n",
        "# fuera del vocabulario aprendido\n",
        "tok.fit_on_texts(segmented_sentences)\n",
        "\n",
        "# Convertimos las palabras a números\n",
        "# entran palabras -> salen números\n",
        "tokenized_sentences = tok.texts_to_sequences(segmented_sentences)"
      ],
      "metadata": {
        "id": "0lxGSjgMKq-5"
      },
      "execution_count": 15,
      "outputs": []
    },
    {
      "cell_type": "code",
      "source": [
        "tokenized_sentences[0]"
      ],
      "metadata": {
        "id": "ONq30XKjKs2A",
        "colab": {
          "base_uri": "https://localhost:8080/"
        },
        "outputId": "e6664ae5-71e6-40a5-b8c7-4caf68c0ce8f"
      },
      "execution_count": 16,
      "outputs": [
        {
          "output_type": "execute_result",
          "data": {
            "text/plain": [
              "[267,\n",
              " 30,\n",
              " 41,\n",
              " 90,\n",
              " 268,\n",
              " 13,\n",
              " 4,\n",
              " 91,\n",
              " 4,\n",
              " 140,\n",
              " 92,\n",
              " 141,\n",
              " 12,\n",
              " 269,\n",
              " 270,\n",
              " 71,\n",
              " 1,\n",
              " 271,\n",
              " 3,\n",
              " 272,\n",
              " 273]"
            ]
          },
          "metadata": {},
          "execution_count": 16
        }
      ]
    },
    {
      "cell_type": "code",
      "source": [
        "segmented_sentences[0]"
      ],
      "metadata": {
        "id": "m0NV329HKuOB",
        "colab": {
          "base_uri": "https://localhost:8080/"
        },
        "outputId": "4176ddfc-ae67-4110-bfc1-8caef28b68f6"
      },
      "execution_count": 17,
      "outputs": [
        {
          "output_type": "execute_result",
          "data": {
            "text/plain": [
              "['toma',\n",
              " 'esta',\n",
              " 'carta',\n",
              " 'ya',\n",
              " 'sabes',\n",
              " 'lo',\n",
              " 'que',\n",
              " 'tienes',\n",
              " 'que',\n",
              " 'hacer',\n",
              " 'abajo',\n",
              " 'hay',\n",
              " 'un',\n",
              " 'cabriolé',\n",
              " 'esperándote',\n",
              " 'parte',\n",
              " 'de',\n",
              " 'inmediato',\n",
              " 'y',\n",
              " 'vuelve',\n",
              " 'volando']"
            ]
          },
          "metadata": {},
          "execution_count": 17
        }
      ]
    },
    {
      "cell_type": "markdown",
      "source": [
        "### Organizando y estructurando el dataset"
      ],
      "metadata": {
        "id": "EhYuZF1LLrjZ"
      }
    },
    {
      "cell_type": "markdown",
      "source": [
        "En este punto tenemos en la variable `tokenized_sentences` los versos tokenizados. Vamos a quedarnos con un conjunto de validación que utilizaremos para medir la calidad de la generación de secuencias con la métrica de Perplejidad."
      ],
      "metadata": {
        "id": "C7rFgds3LtA2"
      }
    },
    {
      "cell_type": "code",
      "source": [
        "tokenized_sentences_train, tokenized_sentences_val, _, _ = train_test_split(tokenized_sentences, tokenized_sentences, test_size=0.2, random_state=42)"
      ],
      "metadata": {
        "id": "WVo0ImU5LvNZ"
      },
      "execution_count": 18,
      "outputs": []
    },
    {
      "cell_type": "markdown",
      "source": [
        "Por ejemplo, si tenemos el texto *La bella y graciosa moza marchóse a lavar la ropa* y nuestro contexto es de 5 palabras, tendremos:\n",
        "\n",
        "- *La bella y graciosa moza*\n",
        "- *bella y graciosa moza marchóse*\n",
        "- *y graciosa moza marchóse a*\n",
        "- *graciosa moza marchóse a lavar*\n",
        "- *moza marchóse a lavar la*\n",
        "- *marchóse a lavar la ropa*"
      ],
      "metadata": {
        "id": "LrfyhCYPMSYn"
      }
    },
    {
      "cell_type": "code",
      "source": [
        "tok_sent = []\n",
        "\n",
        "for sent in tokenized_sentences_train:\n",
        "\n",
        "  # si la secuencia tiene más términos que el tamaño de contexto máximo,\n",
        "  # armo varias sub-secuencias de tamaño máximo\n",
        "  if len(sent) > (max_context_size+1):\n",
        "    extra = len(sent)-(max_context_size+1) + 1\n",
        "    for i in range(extra):\n",
        "      tok_sent.append(sent[i:i+max_context_size+1])\n",
        "  else: # si la secuencia tiene menos términos el tamaño de contexto máximo, dejo la secuencia como está\n",
        "    tok_sent.append(sent)"
      ],
      "metadata": {
        "id": "WopJ0S7uL2Zv"
      },
      "execution_count": 19,
      "outputs": []
    },
    {
      "cell_type": "code",
      "source": [
        "len(tok_sent)"
      ],
      "metadata": {
        "id": "iWEdHowVL4Jg",
        "colab": {
          "base_uri": "https://localhost:8080/"
        },
        "outputId": "46f9422f-5e74-4117-c2ec-7d883e00356d"
      },
      "execution_count": 20,
      "outputs": [
        {
          "output_type": "execute_result",
          "data": {
            "text/plain": [
              "310"
            ]
          },
          "metadata": {},
          "execution_count": 20
        }
      ]
    },
    {
      "cell_type": "markdown",
      "source": [
        "Ahora aumentamos los datos aprovechando que de una secuencia grande se pueden generar varias más pequeñas:\n",
        "- *La hermosa casa en el prado*\n",
        "- *La hermosa*\n",
        "- *La hermosa casa*\n",
        "- *La hermosa casa en*\n",
        "- *La hermosa casa en el*\n",
        "- *La hermosa casa en el prado*"
      ],
      "metadata": {
        "id": "KhYCHlEiMNe_"
      }
    },
    {
      "cell_type": "code",
      "source": [
        "tok_sent_augm = []\n",
        "\n",
        "for sent in tok_sent:\n",
        "\n",
        "  # generamos todas las sub-secuencias\n",
        "  subseq = [sent[:i+2] for i in range(len(sent)-1)]\n",
        "  # en esta línea paddeamos al tamaño de contexto máximo\n",
        "  tok_sent_augm.append(pad_sequences(subseq, maxlen=max_context_size+1, padding='pre'))"
      ],
      "metadata": {
        "id": "T9qxWO8YMUeH"
      },
      "execution_count": 21,
      "outputs": []
    },
    {
      "cell_type": "code",
      "source": [
        "# finalmente concatenamos todas las secuencias en un único array de numpy\n",
        "train_seqs = np.concatenate(tok_sent_augm, axis=0)"
      ],
      "metadata": {
        "id": "88BDQKTxM0Co"
      },
      "execution_count": 22,
      "outputs": []
    },
    {
      "cell_type": "code",
      "source": [
        "train_seqs.shape"
      ],
      "metadata": {
        "id": "sJqlVRBMM1gG",
        "colab": {
          "base_uri": "https://localhost:8080/"
        },
        "outputId": "3e3e89dd-1a71-4075-a36b-cc6bacc99ef2"
      },
      "execution_count": 23,
      "outputs": [
        {
          "output_type": "execute_result",
          "data": {
            "text/plain": [
              "(14099, 59)"
            ]
          },
          "metadata": {},
          "execution_count": 23
        }
      ]
    },
    {
      "cell_type": "code",
      "source": [
        "# y de aquí sacamos las entradas y los targets que consumirá nuestro sistema en\n",
        "# tiempo de entrenamiento\n",
        "X = train_seqs[:,:-1]\n",
        "y = train_seqs[:,1:]"
      ],
      "metadata": {
        "id": "8aoE0Y2sM4Ca"
      },
      "execution_count": 24,
      "outputs": []
    },
    {
      "cell_type": "markdown",
      "source": [
        "Nótese que estamos estructurando el problema de aprendizaje como *many-to-many*:\n",
        "\n",
        "Entrada: secuencia de tokens [$x_0$, $x_1$, ..., $x_N$]\n",
        "\n",
        "Target: secuencia de tokens [$x_1$, $x_2$, ..., $x_{N+1}$]\n",
        "\n",
        "De manera que la red tiene que aprender que su salida deben ser los tokens desplazados en una posición y un nuevo token predicho (el N+1).\n",
        "\n",
        "La ventaja de estructurar el aprendizaje de esta manera es que para cada token de target se propaga una señal de gradiente por el grafo de cómputo recurrente, que es mejor que estructurar el problema como *many-to-one* en donde sólo una señal de gradiente se propaga."
      ],
      "metadata": {
        "id": "OwJD43U7M7-u"
      }
    },
    {
      "cell_type": "code",
      "source": [
        "y.shape"
      ],
      "metadata": {
        "id": "De_9krzSM9RI",
        "colab": {
          "base_uri": "https://localhost:8080/"
        },
        "outputId": "a1b46f42-489c-44f5-8c9f-47dcf291a9cd"
      },
      "execution_count": 25,
      "outputs": [
        {
          "output_type": "execute_result",
          "data": {
            "text/plain": [
              "(14099, 58)"
            ]
          },
          "metadata": {},
          "execution_count": 25
        }
      ]
    },
    {
      "cell_type": "code",
      "source": [
        "# Palabras del vocabulario\n",
        "tok.index_word"
      ],
      "metadata": {
        "id": "5_jkyKssM-sI",
        "colab": {
          "base_uri": "https://localhost:8080/"
        },
        "outputId": "356e49f8-26b6-41b3-d358-d87f1a470ebe"
      },
      "execution_count": 26,
      "outputs": [
        {
          "output_type": "execute_result",
          "data": {
            "text/plain": [
              "{1: 'de',\n",
              " 2: 'la',\n",
              " 3: 'y',\n",
              " 4: 'que',\n",
              " 5: 'a',\n",
              " 6: 'el',\n",
              " 7: 'en',\n",
              " 8: 'se',\n",
              " 9: 'no',\n",
              " 10: 'los',\n",
              " 11: 'con',\n",
              " 12: 'un',\n",
              " 13: 'lo',\n",
              " 14: 'una',\n",
              " 15: 'su',\n",
              " 16: 'es',\n",
              " 17: 'había',\n",
              " 18: 'sus',\n",
              " 19: 'para',\n",
              " 20: 'las',\n",
              " 21: 'por',\n",
              " 22: 'dijo',\n",
              " 23: 'al',\n",
              " 24: 'le',\n",
              " 25: 'todo',\n",
              " 26: 'tenía',\n",
              " 27: 'qué',\n",
              " 28: 'thenardier',\n",
              " 29: 'pero',\n",
              " 30: 'esta',\n",
              " 31: 'del',\n",
              " 32: 'sin',\n",
              " 33: 'mi',\n",
              " 34: 'estaba',\n",
              " 35: 'cosette',\n",
              " 36: 'ojos',\n",
              " 37: 'marius',\n",
              " 38: 'hacia',\n",
              " 39: 'él',\n",
              " 40: 'madre',\n",
              " 41: 'carta',\n",
              " 42: 'más',\n",
              " 43: 'aquí',\n",
              " 44: 'aquel',\n",
              " 45: 'parís',\n",
              " 46: 'allí',\n",
              " 47: 'hombre',\n",
              " 48: 'fue',\n",
              " 49: 'si',\n",
              " 50: 'señor',\n",
              " 51: 'menos',\n",
              " 52: 'cuando',\n",
              " 53: 'ella',\n",
              " 54: 'me',\n",
              " 55: 'algo',\n",
              " 56: 'muy',\n",
              " 57: 'dos',\n",
              " 58: 'eso',\n",
              " 59: 'sí',\n",
              " 60: 'después',\n",
              " 61: 'entonces',\n",
              " 62: 'también',\n",
              " 63: 'otro',\n",
              " 64: 'siempre',\n",
              " 65: 'decía',\n",
              " 66: 'puerta',\n",
              " 67: 'niña',\n",
              " 68: 'jean',\n",
              " 69: 'valjean',\n",
              " 70: 'ha',\n",
              " 71: 'parte',\n",
              " 72: 'voz',\n",
              " 73: 'aire',\n",
              " 74: 'eponina',\n",
              " 75: 'yo',\n",
              " 76: 'o',\n",
              " 77: 'tres',\n",
              " 78: 'visto',\n",
              " 79: 'jondrette',\n",
              " 80: 'viaje',\n",
              " 81: 'vez',\n",
              " 82: 'así',\n",
              " 83: 'algunos',\n",
              " 84: 'algunas',\n",
              " 85: 'años',\n",
              " 86: 'como',\n",
              " 87: 'parecía',\n",
              " 88: 'laigle',\n",
              " 89: 'momento',\n",
              " 90: 'ya',\n",
              " 91: 'tienes',\n",
              " 92: 'abajo',\n",
              " 93: 'tiempo',\n",
              " 94: 'esos',\n",
              " 95: 'habéis',\n",
              " 96: 'demás',\n",
              " 97: 'está',\n",
              " 98: 'ir',\n",
              " 99: 'causa',\n",
              " 100: 'alegría',\n",
              " 101: 'todas',\n",
              " 102: 'acercó',\n",
              " 103: 'mano',\n",
              " 104: 'sobre',\n",
              " 105: 'mientras',\n",
              " 106: 'meses',\n",
              " 107: 'iba',\n",
              " 108: 'señorita',\n",
              " 109: 'gillenormand',\n",
              " 110: 'llevaba',\n",
              " 111: 'podía',\n",
              " 112: 'miraba',\n",
              " 113: 'quien',\n",
              " 114: 'todos',\n",
              " 115: 'poco',\n",
              " 116: 'cabo',\n",
              " 117: 'ahora',\n",
              " 118: 'replicó',\n",
              " 119: 'contestó',\n",
              " 120: 'pensó',\n",
              " 121: 'tiene',\n",
              " 122: 'pasos',\n",
              " 123: 'viejo',\n",
              " 124: 'otra',\n",
              " 125: 'medio',\n",
              " 126: 'oyó',\n",
              " 127: 'padre',\n",
              " 128: 'anciano',\n",
              " 129: 'buen',\n",
              " 130: 'casa',\n",
              " 131: 'noche',\n",
              " 132: 'esa',\n",
              " 133: 'uno',\n",
              " 134: 'carruaje',\n",
              " 135: 'hasta',\n",
              " 136: 'bien',\n",
              " 137: 'hija',\n",
              " 138: 'mes',\n",
              " 139: 'continuó',\n",
              " 140: 'hacer',\n",
              " 141: 'hay',\n",
              " 142: 'desesperación',\n",
              " 143: 'dormido',\n",
              " 144: 'cuatro',\n",
              " 145: 'horas',\n",
              " 146: 'dejado',\n",
              " 147: 'barricada',\n",
              " 148: 'piedra',\n",
              " 149: 'halla',\n",
              " 150: 'agua',\n",
              " 151: 'altura',\n",
              " 152: 'sol',\n",
              " 153: 'inmediatamente',\n",
              " 154: 'dicha',\n",
              " 155: 'siendo',\n",
              " 156: 'fases',\n",
              " 157: 'tan',\n",
              " 158: 'os',\n",
              " 159: 'vos',\n",
              " 160: 'mismo',\n",
              " 161: 'sea',\n",
              " 162: 'crecía',\n",
              " 163: 'hora',\n",
              " 164: 'misa',\n",
              " 165: 'temblando',\n",
              " 166: 'pensar',\n",
              " 167: 'vuelta',\n",
              " 168: 'miedo',\n",
              " 169: 'vieja',\n",
              " 170: 'puesto',\n",
              " 171: 'nada',\n",
              " 172: 'hizo',\n",
              " 173: 'jugaban',\n",
              " 174: 'cuerda',\n",
              " 175: 'debajo',\n",
              " 176: 'esto',\n",
              " 177: 'dio',\n",
              " 178: 'abuelo',\n",
              " 179: 'días',\n",
              " 180: 'están',\n",
              " 181: 'pilluelo',\n",
              " 182: 'va',\n",
              " 183: 'esté',\n",
              " 184: 'pues',\n",
              " 185: 'mala',\n",
              " 186: 'mirada',\n",
              " 187: 'joven',\n",
              " 188: 'son',\n",
              " 189: 'hacen',\n",
              " 190: 'rostro',\n",
              " 191: 'seis',\n",
              " 192: 'nombre',\n",
              " 193: 'cabellos',\n",
              " 194: 'queréis',\n",
              " 195: 'hablaba',\n",
              " 196: 'eran',\n",
              " 197: 'cerca',\n",
              " 198: 'entró',\n",
              " 199: 'pueden',\n",
              " 200: 'hijas',\n",
              " 201: 'cual',\n",
              " 202: 'triste',\n",
              " 203: 'tenga',\n",
              " 204: 'día',\n",
              " 205: 'azelma',\n",
              " 206: 'llegar',\n",
              " 207: 'tenemos',\n",
              " 208: 'babet',\n",
              " 209: 'pies',\n",
              " 210: 'enjolras',\n",
              " 211: 'combeferre',\n",
              " 212: 'courfeyrac',\n",
              " 213: 'puente',\n",
              " 214: 'callejuela',\n",
              " 215: 'entrar',\n",
              " 216: 'cabeza',\n",
              " 217: 'volvió',\n",
              " 218: 'muñeca',\n",
              " 219: 'monseñor',\n",
              " 220: 'este',\n",
              " 221: 'fuera',\n",
              " 222: 'respondió',\n",
              " 223: 'libro',\n",
              " 224: 'aún',\n",
              " 225: 'carcajada',\n",
              " 226: 'manzana',\n",
              " 227: 'vida',\n",
              " 228: 'gavroche',\n",
              " 229: 'ah',\n",
              " 230: 'poder',\n",
              " 231: 'nos',\n",
              " 232: 'ni',\n",
              " 233: 'escribir',\n",
              " 234: 'pequeña',\n",
              " 235: 'era',\n",
              " 236: 'admiración',\n",
              " 237: 'obispo',\n",
              " 238: 'dicho',\n",
              " 239: 'hacía',\n",
              " 240: 'francos',\n",
              " 241: 'bastante',\n",
              " 242: 'doce',\n",
              " 243: 'envió',\n",
              " 244: 'puso',\n",
              " 245: 'atención',\n",
              " 246: 'gritó',\n",
              " 247: 'ama',\n",
              " 248: 'pontmercy',\n",
              " 249: 'fauchelevent',\n",
              " 250: 'cierto',\n",
              " 251: 'habitaciones',\n",
              " 252: 'añadió',\n",
              " 253: 'bala',\n",
              " 254: 'además',\n",
              " 255: 'mañana',\n",
              " 256: 'partir',\n",
              " 257: 'porque',\n",
              " 258: 'dirigía',\n",
              " 259: 'sena',\n",
              " 260: 'hace',\n",
              " 261: 'vela',\n",
              " 262: 'aleja',\n",
              " 263: 'mira',\n",
              " 264: 'cochero',\n",
              " 265: 'traje',\n",
              " 266: 'dulce',\n",
              " 267: 'toma',\n",
              " 268: 'sabes',\n",
              " 269: 'cabriolé',\n",
              " 270: 'esperándote',\n",
              " 271: 'inmediato',\n",
              " 272: 'vuelve',\n",
              " 273: 'volando',\n",
              " 274: 'v',\n",
              " 275: 'interior',\n",
              " 276: 'acos\\xadtumbraba',\n",
              " 277: 'dedicar',\n",
              " 278: 'reposo',\n",
              " 279: 'javert',\n",
              " 280: 'repitió',\n",
              " 281: 'media',\n",
              " 282: 'papel',\n",
              " 283: 'señores',\n",
              " 284: 'han',\n",
              " 285: 'estas',\n",
              " 286: 'señoritas',\n",
              " 287: 'traído',\n",
              " 288: 'desde',\n",
              " 289: 'expuesta',\n",
              " 290: 'lepra',\n",
              " 291: 'efectos',\n",
              " 292: 'humedad',\n",
              " 293: 'líquen',\n",
              " 294: 'inmundicias',\n",
              " 295: 'pájaros',\n",
              " 296: 'pone',\n",
              " 297: 'verde',\n",
              " 298: 'enne\\xadgrece',\n",
              " 299: 'próxima',\n",
              " 300: 'ninguna',\n",
              " 301: 'senda',\n",
              " 302: 'agradable',\n",
              " 303: 'pasear',\n",
              " 304: 'lado',\n",
              " 305: 'hierba',\n",
              " 306: 'bañan',\n",
              " 307: 'rayos',\n",
              " 308: 'suben',\n",
              " 309: 'lagartos',\n",
              " 310: 'alrededor',\n",
              " 311: 'mecen',\n",
              " 312: 'tallos',\n",
              " 313: 'avena',\n",
              " 314: 'agitados',\n",
              " 315: 'viento',\n",
              " 316: 'primavera',\n",
              " 317: 'cantan',\n",
              " 318: 'árbol',\n",
              " 319: 'currucas',\n",
              " 320: 'niños',\n",
              " 321: 'aceptan',\n",
              " 322: 'toda',\n",
              " 323: 'naturalidad',\n",
              " 324: 'ellos',\n",
              " 325: 'mis\\xadmos',\n",
              " 326: 'naturalmente',\n",
              " 327: 'examinó',\n",
              " 328: 'despiadado',\n",
              " 329: 'problema',\n",
              " 330: 'mostró',\n",
              " 331: 'agujero',\n",
              " 332: 'negro',\n",
              " 333: 'imposible',\n",
              " 334: 'deciros',\n",
              " 335: 'depósito',\n",
              " 336: 'fiel',\n",
              " 337: 'honradamente',\n",
              " 338: 'en\\xadtregado',\n",
              " 339: 'acto',\n",
              " 340: 'probidad',\n",
              " 341: 'merecéis',\n",
              " 342: 'recompense',\n",
              " 343: 'fijad',\n",
              " 344: 'cantidad',\n",
              " 345: 'temáis',\n",
              " 346: 'elevada',\n",
              " 347: 'atmósfera',\n",
              " 348: 'cada',\n",
              " 349: 'escapaba',\n",
              " 350: 'coronel',\n",
              " 351: 'furti\\xadvamente',\n",
              " 352: 'apostaba',\n",
              " 353: 'san',\n",
              " 354: 'sulpicio',\n",
              " 355: 'tía',\n",
              " 356: 'darse',\n",
              " 357: 'verlo',\n",
              " 358: 'oculto',\n",
              " 359: 'detrás',\n",
              " 360: 'pilar',\n",
              " 361: 'inmóvil',\n",
              " 362: 'atreverse',\n",
              " 363: 'apenas',\n",
              " 364: 'respirar',\n",
              " 365: 'hijo',\n",
              " 366: 'lleno',\n",
              " 367: 'cicatrices',\n",
              " 368: 'solterona',\n",
              " 369: 'real',\n",
              " 370: 'rebuscarlo',\n",
              " 371: 'veredicto',\n",
              " 372: 'jurado',\n",
              " 373: 'de\\xadclaraba',\n",
              " 374: 'inocente',\n",
              " 375: 'champmathieu',\n",
              " 376: 'libertad',\n",
              " 377: 'estupefacto',\n",
              " 378: 'pensando',\n",
              " 379: 'estaban',\n",
              " 380: 'locos',\n",
              " 381: 'com\\xadprender',\n",
              " 382: 'oh',\n",
              " 383: 'bienhechor',\n",
              " 384: 'exclamó',\n",
              " 385: 'de\\xadlirante',\n",
              " 386: 'cómo',\n",
              " 387: 'sabéis',\n",
              " 388: 'llamo',\n",
              " 389: 'mujeres',\n",
              " 390: 'montfer\\xadmeil',\n",
              " 391: 'habló',\n",
              " 392: 'criaturas',\n",
              " 393: 'reían',\n",
              " 394: 'felices',\n",
              " 395: 'napoleón',\n",
              " 396: 'regresaba',\n",
              " 397: 'vencido',\n",
              " 398: 'setenta',\n",
              " 399: 'mil',\n",
              " 400: 'hombres',\n",
              " 401: 'desangraban',\n",
              " 402: 'paz',\n",
              " 403: 'esparcía',\n",
              " 404: 'mundo',\n",
              " 405: 'coméis',\n",
              " 406: 'comeré',\n",
              " 407: 'abrir',\n",
              " 408: 'cerrar',\n",
              " 409: 'estuvo',\n",
              " 410: 'verga',\n",
              " 411: 'llegó',\n",
              " 412: 'punta',\n",
              " 413: 'ató',\n",
              " 414: 'dejó',\n",
              " 415: 'suelto',\n",
              " 416: 'empezó',\n",
              " 417: 'bajar',\n",
              " 418: 'deslizándose',\n",
              " 419: 'marinero',\n",
              " 420: 'hubo',\n",
              " 421: 'doble',\n",
              " 422: 'angustia',\n",
              " 423: 'suspen\\xaddido',\n",
              " 424: 'abismo',\n",
              " 425: 'engullid',\n",
              " 426: 'monigotes',\n",
              " 427: 'amabilidad',\n",
              " 428: 'santos',\n",
              " 429: 'saint\\xadmerry',\n",
              " 430: 'ello',\n",
              " 431: 'alcantarillas',\n",
              " 432: 'calles',\n",
              " 433: 'encrucijadas',\n",
              " 434: 'plazas',\n",
              " 435: 'callejuelas',\n",
              " 436: 'salida',\n",
              " 437: 'arterias',\n",
              " 438: 'circula\\xadción',\n",
              " 439: 'llenas',\n",
              " 440: 'fango',\n",
              " 441: 'acabó',\n",
              " 442: 'permaneció',\n",
              " 443: 'me\\xadditabundo',\n",
              " 444: 'distancia',\n",
              " 445: 'recibió',\n",
              " 446: 'abogado',\n",
              " 447: 'fría',\n",
              " 448: 'llena',\n",
              " 449: 'sumisión',\n",
              " 450: 'respeto',\n",
              " 451: 'cogió',\n",
              " 452: 'leyó',\n",
              " 453: 'tiró',\n",
              " 454: 'hecha',\n",
              " 455: 'pedazos',\n",
              " 456: 'cesto',\n",
              " 457: 'solo',\n",
              " 458: 'cuarto',\n",
              " 459: 'hablar',\n",
              " 460: 'alta',\n",
              " 461: 'sucedía',\n",
              " 462: 'agitado',\n",
              " 463: 'dios',\n",
              " 464: 'echan',\n",
              " 465: 'derribando',\n",
              " 466: 'gracias',\n",
              " 467: 'mo\\xadnedas',\n",
              " 468: 'procurarse',\n",
              " 469: 'teatro',\n",
              " 470: 'transfigura',\n",
              " 471: 'basta',\n",
              " 472: 'poderoso',\n",
              " 473: 'entu\\xadsiasmo',\n",
              " 474: 'aplausos',\n",
              " 475: 'sala',\n",
              " 476: 'estre\\xadcha',\n",
              " 477: 'fétida',\n",
              " 478: 'obscura',\n",
              " 479: 'fea',\n",
              " 480: 'malsana',\n",
              " 481: 'repugnante',\n",
              " 482: 'paraíso',\n",
              " 483: 'i',\n",
              " 484: 'compasión',\n",
              " 485: 'desdichados',\n",
              " 486: 'indulgencia',\n",
              " 487: 'dichosos',\n",
              " 488: 'juega',\n",
              " 489: 'desconocido',\n",
              " 490: 'ante',\n",
              " 491: 'encontraba',\n",
              " 492: 'muchacha',\n",
              " 493: 'flaca',\n",
              " 494: 'desco\\xadlorida',\n",
              " 495: 'descarnada',\n",
              " 496: 'camisa',\n",
              " 497: 'vestido',\n",
              " 498: 'helada',\n",
              " 499: 'temblorosa',\n",
              " 500: 'desnudez',\n",
              " 501: 'manos',\n",
              " 502: 'rojas',\n",
              " 503: 'boca',\n",
              " 504: 'entreabierta',\n",
              " 505: 'desfigurada',\n",
              " 506: 'dientes',\n",
              " 507: 'brillo',\n",
              " 508: 'insolente',\n",
              " 509: 'formas',\n",
              " 510: 'abor\\xadtadas',\n",
              " 511: 'corrompida',\n",
              " 512: 'cincuenta',\n",
              " 513: 'mezclados',\n",
              " 514: 'quin\\xadce',\n",
              " 515: 'seres',\n",
              " 516: 'débiles',\n",
              " 517: 'horribles',\n",
              " 518: 'estremecer',\n",
              " 519: 'aquellos',\n",
              " 520: 'quienes',\n",
              " 521: 'llorar',\n",
              " 522: 'resto',\n",
              " 523: 'belleza',\n",
              " 524: 'moría',\n",
              " 525: 'dieciséis',\n",
              " 526: 'semblante',\n",
              " 527: 'feroz',\n",
              " 528: 'temible',\n",
              " 529: 'veces',\n",
              " 530: 'tanta',\n",
              " 531: 'inquietud',\n",
              " 532: 'encuentro',\n",
              " 533: 'perro',\n",
              " 534: 'presa',\n",
              " 535: 'lobo',\n",
              " 536: 'erizaron',\n",
              " 537: 'entiendo',\n",
              " 538: 'decir',\n",
              " 539: 'saco',\n",
              " 540: 'palo',\n",
              " 541: 'rincón',\n",
              " 542: 'guardado',\n",
              " 543: 'pasaporte',\n",
              " 544: 'bolsillo',\n",
              " 545: 'tomado',\n",
              " 546: 'asiento',\n",
              " 547: 'baptistina',\n",
              " 548: 'dulzura',\n",
              " 549: 'ocho',\n",
              " 550: 'accidentado',\n",
              " 551: 'cochera',\n",
              " 552: 'hostería',\n",
              " 553: 'arras',\n",
              " 554: 'mal',\n",
              " 555: 'naturalezas',\n",
              " 556: 'amar',\n",
              " 557: 'alguien',\n",
              " 558: 'odiar',\n",
              " 559: 'amaba',\n",
              " 560: 'apasionada\\xadmente',\n",
              " 561: 'detes\\xadtara',\n",
              " 562: 'forastera',\n",
              " 563: 'amor',\n",
              " 564: 'aspectos',\n",
              " 565: 'terribles',\n",
              " 566: 'preocupara',\n",
              " 567: 'quitaba',\n",
              " 568: 'respiraban',\n",
              " 569: 'pasaba',\n",
              " 570: 'golpeara',\n",
              " 571: 'cruelmente',\n",
              " 572: 'coset\\xadte',\n",
              " 573: 'fueron',\n",
              " 574: 'niñas',\n",
              " 575: 'edad',\n",
              " 576: 'imitadoras',\n",
              " 577: 'situación',\n",
              " 578: 'floreciente',\n",
              " 579: 'fue\\xadron',\n",
              " 580: 'necesarios',\n",
              " 581: 'difíciles',\n",
              " 582: 'duros',\n",
              " 583: 'padecido',\n",
              " 584: 'materia',\n",
              " 585: 'desamparo',\n",
              " 586: 'hecho',\n",
              " 587: 'excepto',\n",
              " 588: 'contraer',\n",
              " 589: 'deudas',\n",
              " 590: 'pre\\xadfería',\n",
              " 591: 'comer',\n",
              " 592: 'pedir',\n",
              " 593: 'prestado',\n",
              " 594: 'pasa\\xaddo',\n",
              " 595: 'muchos',\n",
              " 596: 'ayunando',\n",
              " 597: 'tenéis',\n",
              " 598: 'preguntó',\n",
              " 599: 'ves',\n",
              " 600: 'trabajar',\n",
              " 601: 'agre\\xadgó',\n",
              " 602: 'viajero',\n",
              " 603: 'sentarse',\n",
              " 604: 'junto',\n",
              " 605: 'hogar',\n",
              " 606: 'ex\\xadtendió',\n",
              " 607: 'fuego',\n",
              " 608: 'doloridos',\n",
              " 609: 'cansancio',\n",
              " 610: 'principales',\n",
              " 611: 'prouvaire',\n",
              " 612: 'feuilly',\n",
              " 613: 'bahorel',\n",
              " 614: 'joly',\n",
              " 615: 'grantaire',\n",
              " 616: 'aprovechó',\n",
              " 617: 'vacilación',\n",
              " 618: 'perseguidores',\n",
              " 619: 'salió',\n",
              " 620: 'ocultado',\n",
              " 621: 'brazos',\n",
              " 622: 'cruzó',\n",
              " 623: 'austerlitz',\n",
              " 624: 'sombra',\n",
              " 625: 'carreta',\n",
              " 626: 'esperanza',\n",
              " 627: 'hubieran',\n",
              " 628: 'entraba',\n",
              " 629: 'delante',\n",
              " 630: 'conseguía',\n",
              " 631: 'terrenos',\n",
              " 632: 'casas',\n",
              " 633: 'escapar',\n",
              " 634: 'decidió',\n",
              " 635: 'debía',\n",
              " 636: 'aquella',\n",
              " 637: 'silenciosa',\n",
              " 638: 'razón',\n",
              " 639: 'respuesta',\n",
              " 640: 'quedaron',\n",
              " 641: 'mudos',\n",
              " 642: 'indicaron',\n",
              " 643: 'movimiento',\n",
              " 644: 'conocían',\n",
              " 645: 'magdalena',\n",
              " 646: 'jurados',\n",
              " 647: 'tranquila',\n",
              " 648: 'paseaba',\n",
              " 649: 'desván',\n",
              " 650: 'extremo',\n",
              " 651: 'largos',\n",
              " 652: 'brilla\\xadban',\n",
              " 653: 'espectáculo',\n",
              " 654: 'extraño',\n",
              " 655: 'aquél',\n",
              " 656: 'harapos',\n",
              " 657: 'estrecharon',\n",
              " 658: 'cintas',\n",
              " 659: 'rosadas',\n",
              " 660: 'verdad',\n",
              " 661: 'enton\\xadces',\n",
              " 662: 'encontramos',\n",
              " 663: 'huyendo',\n",
              " 664: 'hemos',\n",
              " 665: 'detenido',\n",
              " 666: 'cubiertos',\n",
              " 667: 'bizcocho',\n",
              " 668: 'perfil',\n",
              " 669: 'llegado',\n",
              " 670: 'mirarlos',\n",
              " 671: 'pie',\n",
              " 672: 'prontitud',\n",
              " 673: 'mono',\n",
              " 674: 'echándose',\n",
              " 675: 'atrás',\n",
              " 676: 'arrancándose',\n",
              " 677: 'anteojos',\n",
              " 678: 'sacándose',\n",
              " 679: 'nariz',\n",
              " 680: 'quitó',\n",
              " 681: 'quita',\n",
              " 682: 'sombrero',\n",
              " 683: 'cosa',\n",
              " 684: 'curiosa',\n",
              " 685: 'ma\\xadrius',\n",
              " 686: 'recibido',\n",
              " 687: 'traidora',\n",
              " 688: 'casualidad',\n",
              " 689: 'dado',\n",
              " 690: 'nosotros',\n",
              " 691: 'aullaron',\n",
              " 692: 'bandidos',\n",
              " 693: 'lanzó',\n",
              " 694: 'estridente',\n",
              " 695: 'lúgu\\xadbre',\n",
              " 696: 'tosía',\n",
              " 697: 'anteriores',\n",
              " 698: 'paseos',\n",
              " 699: 'jardín',\n",
              " 700: 'cuidado',\n",
              " 701: 'donde',\n",
              " 702: 'manzano',\n",
              " 703: 'cena',\n",
              " 704: 'perdió',\n",
              " 705: 'adán',\n",
              " 706: 'salvar',\n",
              " 707: 'conque',\n",
              " 708: 'quieres',\n",
              " 709: 'notad',\n",
              " 710: 'estáis',\n",
              " 711: 'nuestro',\n",
              " 712: 'nuestra',\n",
              " 713: 'discreción',\n",
              " 714: 'ningún',\n",
              " 715: 'humano',\n",
              " 716: 'puede',\n",
              " 717: 'sacaros',\n",
              " 718: 'afligi\\xadría',\n",
              " 719: 'verdaderamente',\n",
              " 720: 'vernos',\n",
              " 721: 'obligados',\n",
              " 722: 'recurrir',\n",
              " 723: 'desagradables',\n",
              " 724: 'extremos',\n",
              " 725: 'sé',\n",
              " 726: 'vuestro',\n",
              " 727: 'hom\\xadbre',\n",
              " 728: 'señas',\n",
              " 729: 'vuestra',\n",
              " 730: 'preven\\xadgo',\n",
              " 731: 'seguiréis',\n",
              " 732: 'atado',\n",
              " 733: 'vuelva',\n",
              " 734: 'persona',\n",
              " 735: 'encargada',\n",
              " 736: 'llevar',\n",
              " 737: 'dignaos',\n",
              " 738: 'aterraba',\n",
              " 739: 'pobre',\n",
              " 740: 'servía',\n",
              " 741: 'criada',\n",
              " 742: 'buscar',\n",
              " 743: 'faltaba',\n",
              " 744: 'espantada',\n",
              " 745: 'idea',\n",
              " 746: 'fuente',\n",
              " 747: 'cuidaba',\n",
              " 748: 'faltara',\n",
              " 749: 'nunca',\n",
              " 750: 'abrió',\n",
              " 751: 'unos',\n",
              " 752: 'enormes',\n",
              " 753: 'azules',\n",
              " 754: 'descubrió',\n",
              " 755: 'otras',\n",
              " 756: 'sacó',\n",
              " 757: 'lengua',\n",
              " 758: 'señal',\n",
              " 759: 'miró',\n",
              " 760: 'decididamente',\n",
              " 761: 'mueve',\n",
              " 762: 'pst',\n",
              " 763: 'escribía',\n",
              " 764: 'mejor',\n",
              " 765: 'tener',\n",
              " 766: 'noticias',\n",
              " 767: 'contestaban',\n",
              " 768: 'per\\xadfectamente',\n",
              " 769: 'transcurridos',\n",
              " 770: 'primeros',\n",
              " 771: 'me\\xadses',\n",
              " 772: 'remitió',\n",
              " 773: 'siete',\n",
              " 774: 'séptimo',\n",
              " 775: 'exactitud',\n",
              " 776: 'haciendo',\n",
              " 777: 'remesas',\n",
              " 778: 'antes',\n",
              " 779: 'terminar',\n",
              " 780: 'año',\n",
              " 781: 'escribió',\n",
              " 782: 'exigiéndole',\n",
              " 783: 'feliz',\n",
              " 784: 'sometió',\n",
              " 785: 'perdonad',\n",
              " 786: 'hablabais',\n",
              " 787: 'fa\\xadbontou',\n",
              " 788: 'ocupar',\n",
              " 789: 'sitio',\n",
              " 790: 'mesa',\n",
              " 791: 'cocina',\n",
              " 792: 'tejer',\n",
              " 793: 'contemplaba',\n",
              " 794: 'extraña',\n",
              " 795: 'señora',\n",
              " 796: 'sonriéndose',\n",
              " 797: 'casi',\n",
              " 798: 'timidez',\n",
              " 799: 'dejadla',\n",
              " 800: 'jugar',\n",
              " 801: 'ciudad',\n",
              " 802: 'soledad',\n",
              " 803: 'mucho',\n",
              " 804: 'sabio',\n",
              " 805: 'ha\\xadblaban',\n",
              " 806: 'convenido',\n",
              " 807: 'carnicero',\n",
              " 808: 'niega',\n",
              " 809: 'crédito',\n",
              " 810: 'añadía',\n",
              " 811: 'mudo',\n",
              " 812: 'pared',\n",
              " 813: 'enfrente',\n",
              " 814: 'arreglado',\n",
              " 815: 'exis\\xadtencia',\n",
              " 816: 'porvenir',\n",
              " 817: 'denunciarse',\n",
              " 818: 'pintó',\n",
              " 819: 'inmensa',\n",
              " 820: 'abandonar',\n",
              " 821: 'volver',\n",
              " 822: 'vivir',\n",
              " 823: 'palacio',\n",
              " 824: 'episcopal',\n",
              " 825: 'd',\n",
              " 826: 'contiguo',\n",
              " 827: 'hos\\xadpital',\n",
              " 828: 'vasto',\n",
              " 829: 'hermoso',\n",
              " 830: 'edificio',\n",
              " 831: 'construido',\n",
              " 832: 'principios',\n",
              " 833: 'último',\n",
              " 834: 'siglo',\n",
              " 835: 'respiraba',\n",
              " 836: 'grandeza',\n",
              " 837: 'salones',\n",
              " 838: 'interiores',\n",
              " 839: 'patio',\n",
              " 840: 'honor',\n",
              " 841: 'amplio',\n",
              " 842: 'galerías',\n",
              " 843: 'arcos',\n",
              " 844: 'según',\n",
              " 845: 'antigua',\n",
              " 846: 'costumbre',\n",
              " 847: 'florentina',\n",
              " 848: 'jardines',\n",
              " 849: 'plantados',\n",
              " 850: 'magníficos',\n",
              " 851: 'árboles',\n",
              " 852: 'montado',\n",
              " 853: 'perra',\n",
              " 854: 'ladrón',\n",
              " 855: 'boulatruelle',\n",
              " 856: 'amenazando',\n",
              " 857: 'puños',\n",
              " 858: 'horizonte',\n",
              " 859: 'so\\xadbre',\n",
              " 860: 'heridos',\n",
              " 861: 'debo',\n",
              " 862: 'recibir',\n",
              " 863: 'llevársela',\n",
              " 864: 'dámela',\n",
              " 865: 'contra',\n",
              " 866: 'vio',\n",
              " 867: 'gravroche',\n",
              " 868: 'lanzarse',\n",
              " 869: 'dentro',\n",
              " 870: 'pasaron',\n",
              " 871: 'minutos',\n",
              " 872: 'luz',\n",
              " 873: 'desapareció',\n",
              " 874: 'ruido',\n",
              " 875: 'indi\\xadcar',\n",
              " 876: 'ido',\n",
              " 877: 'escuchar',\n",
              " 878: 'quitado',\n",
              " 879: 'zapatos',\n",
              " 880: 'abultado',\n",
              " 881: 'bolso',\n",
              " 882: 'pesado',\n",
              " 883: 'murmuró',\n",
              " 884: 'creo',\n",
              " 885: 'ese',\n",
              " 886: 'endiablado',\n",
              " 887: 'tengo',\n",
              " 888: 'legajo',\n",
              " 889: 'calma',\n",
              " 890: 'sígueme',\n",
              " 891: 'prontas',\n",
              " 892: 'mis',\n",
              " 893: 'cosas',\n",
              " 894: 'dispuesta',\n",
              " 895: 'prepare',\n",
              " 896: 'ropa',\n",
              " 897: 'guardarla',\n",
              " 898: 'maleta',\n",
              " 899: 'verá',\n",
              " 900: 'obligado',\n",
              " 901: 'teníamos',\n",
              " 902: 'necesitábamos',\n",
              " 903: 'male\\xadta',\n",
              " 904: 'grande',\n",
              " 905: 'mí',\n",
              " 906: 'preparase',\n",
              " 907: 'semana',\n",
              " 908: 'iríamos',\n",
              " 909: 'tal',\n",
              " 910: 'inglaterra',\n",
              " 911: 'dirección',\n",
              " 912: 'quiero',\n",
              " 913: 'nicolasa',\n",
              " 914: 'saber',\n",
              " 915: 'enfermo',\n",
              " 916: 'venido',\n",
              " 917: 'víspera',\n",
              " 918: 'curva',\n",
              " 919: 'suelo',\n",
              " 920: 'ribera',\n",
              " 921: 'derecha',\n",
              " 922: 'vacía',\n",
              " 923: 'vertientes',\n",
              " 924: 'gran',\n",
              " 925: 'cloaca',\n",
              " 926: 'allá',\n",
              " 927: 'camino',\n",
              " 928: 'sabía',\n",
              " 929: 'gritos',\n",
              " 930: 'desesperados',\n",
              " 931: 'resuenan',\n",
              " 932: 'pro\\xadfundidades',\n",
              " 933: 'observa',\n",
              " 934: 'espectro',\n",
              " 935: 'desesperado',\n",
              " 936: 'decrece',\n",
              " 937: 'desaparece',\n",
              " 938: 'formaba',\n",
              " 939: 'tripula\\xadción',\n",
              " 940: 'venía',\n",
              " 941: 'vivo',\n",
              " 942: 'sucedido',\n",
              " 943: 'resbaló',\n",
              " 944: 'cayó',\n",
              " 945: 'termi\\xadnado',\n",
              " 946: 'arrancó',\n",
              " 947: 'chispas',\n",
              " 948: 'empedrado',\n",
              " 949: 'jun\\xadto',\n",
              " 950: 'tercera',\n",
              " 951: 'volcó',\n",
              " 952: 'canasto',\n",
              " 953: 'subieron',\n",
              " 954: 'ocupó',\n",
              " 955: 'asiénto',\n",
              " 956: 'ven',\n",
              " 957: 'mujer',\n",
              " 958: 'frente',\n",
              " 959: 'instalado',\n",
              " 960: 'tienda',\n",
              " 961: 'juguetes',\n",
              " 962: 'relumbrante',\n",
              " 963: 'lentejuelas',\n",
              " 964: 'abalorios',\n",
              " 965: 'vidrios',\n",
              " 966: 'colores',\n",
              " 967: 'de\\xadlante',\n",
              " 968: 'tendero',\n",
              " 969: 'inmen\\xadsa',\n",
              " 970: 'vestida',\n",
              " 971: 'color',\n",
              " 972: 'rosa',\n",
              " 973: 'espigas',\n",
              " 974: 'doradas',\n",
              " 975: 'pelo',\n",
              " 976: 'verdadero',\n",
              " 977: 'vidrio',\n",
              " 978: 'esmaltado',\n",
              " 979: 'maravilla',\n",
              " 980: 'sido',\n",
              " 981: 'duran\\xadte',\n",
              " 982: 'objeto',\n",
              " 983: 'mirones',\n",
              " 984: 'diez',\n",
              " 985: 'hubiera',\n",
              " 986: 'montfermeil',\n",
              " 987: 'rica',\n",
              " 988: 'bastan\\xadte',\n",
              " 989: 'pródiga',\n",
              " 990: 'comprársela',\n",
              " 991: 'habían',\n",
              " 992: 'pasado',\n",
              " 993: 'enteras',\n",
              " 994: 'contemplán\\xaddola',\n",
              " 995: 'misma',\n",
              " 996: 'aunque',\n",
              " 997: 'furtivamente',\n",
              " 998: 'atrevido',\n",
              " 999: 'mirarla',\n",
              " 1000: 'tengas',\n",
              " ...}"
            ]
          },
          "metadata": {},
          "execution_count": 26
        }
      ]
    },
    {
      "cell_type": "code",
      "source": [
        "# Cantidad de palabras en el vocabulario\n",
        "vocab_size = len(tok.word_counts)\n",
        "vocab_size"
      ],
      "metadata": {
        "id": "MS9x-VysNGlR",
        "colab": {
          "base_uri": "https://localhost:8080/"
        },
        "outputId": "95bb31df-e4ed-4aca-a313-cfd0a2b1cb86"
      },
      "execution_count": 27,
      "outputs": [
        {
          "output_type": "execute_result",
          "data": {
            "text/plain": [
              "1056"
            ]
          },
          "metadata": {},
          "execution_count": 27
        }
      ]
    },
    {
      "cell_type": "code",
      "source": [
        "# El índice para cada palabra\n",
        "# El sistema las ordena de las más populares a las menos populares\n",
        "print(tok.word_index)"
      ],
      "metadata": {
        "id": "-ss2qUk5NIT2",
        "colab": {
          "base_uri": "https://localhost:8080/"
        },
        "outputId": "00ea0b44-0b6e-45fb-c596-015828df71b8"
      },
      "execution_count": 28,
      "outputs": [
        {
          "output_type": "stream",
          "name": "stdout",
          "text": [
            "{'de': 1, 'la': 2, 'y': 3, 'que': 4, 'a': 5, 'el': 6, 'en': 7, 'se': 8, 'no': 9, 'los': 10, 'con': 11, 'un': 12, 'lo': 13, 'una': 14, 'su': 15, 'es': 16, 'había': 17, 'sus': 18, 'para': 19, 'las': 20, 'por': 21, 'dijo': 22, 'al': 23, 'le': 24, 'todo': 25, 'tenía': 26, 'qué': 27, 'thenardier': 28, 'pero': 29, 'esta': 30, 'del': 31, 'sin': 32, 'mi': 33, 'estaba': 34, 'cosette': 35, 'ojos': 36, 'marius': 37, 'hacia': 38, 'él': 39, 'madre': 40, 'carta': 41, 'más': 42, 'aquí': 43, 'aquel': 44, 'parís': 45, 'allí': 46, 'hombre': 47, 'fue': 48, 'si': 49, 'señor': 50, 'menos': 51, 'cuando': 52, 'ella': 53, 'me': 54, 'algo': 55, 'muy': 56, 'dos': 57, 'eso': 58, 'sí': 59, 'después': 60, 'entonces': 61, 'también': 62, 'otro': 63, 'siempre': 64, 'decía': 65, 'puerta': 66, 'niña': 67, 'jean': 68, 'valjean': 69, 'ha': 70, 'parte': 71, 'voz': 72, 'aire': 73, 'eponina': 74, 'yo': 75, 'o': 76, 'tres': 77, 'visto': 78, 'jondrette': 79, 'viaje': 80, 'vez': 81, 'así': 82, 'algunos': 83, 'algunas': 84, 'años': 85, 'como': 86, 'parecía': 87, 'laigle': 88, 'momento': 89, 'ya': 90, 'tienes': 91, 'abajo': 92, 'tiempo': 93, 'esos': 94, 'habéis': 95, 'demás': 96, 'está': 97, 'ir': 98, 'causa': 99, 'alegría': 100, 'todas': 101, 'acercó': 102, 'mano': 103, 'sobre': 104, 'mientras': 105, 'meses': 106, 'iba': 107, 'señorita': 108, 'gillenormand': 109, 'llevaba': 110, 'podía': 111, 'miraba': 112, 'quien': 113, 'todos': 114, 'poco': 115, 'cabo': 116, 'ahora': 117, 'replicó': 118, 'contestó': 119, 'pensó': 120, 'tiene': 121, 'pasos': 122, 'viejo': 123, 'otra': 124, 'medio': 125, 'oyó': 126, 'padre': 127, 'anciano': 128, 'buen': 129, 'casa': 130, 'noche': 131, 'esa': 132, 'uno': 133, 'carruaje': 134, 'hasta': 135, 'bien': 136, 'hija': 137, 'mes': 138, 'continuó': 139, 'hacer': 140, 'hay': 141, 'desesperación': 142, 'dormido': 143, 'cuatro': 144, 'horas': 145, 'dejado': 146, 'barricada': 147, 'piedra': 148, 'halla': 149, 'agua': 150, 'altura': 151, 'sol': 152, 'inmediatamente': 153, 'dicha': 154, 'siendo': 155, 'fases': 156, 'tan': 157, 'os': 158, 'vos': 159, 'mismo': 160, 'sea': 161, 'crecía': 162, 'hora': 163, 'misa': 164, 'temblando': 165, 'pensar': 166, 'vuelta': 167, 'miedo': 168, 'vieja': 169, 'puesto': 170, 'nada': 171, 'hizo': 172, 'jugaban': 173, 'cuerda': 174, 'debajo': 175, 'esto': 176, 'dio': 177, 'abuelo': 178, 'días': 179, 'están': 180, 'pilluelo': 181, 'va': 182, 'esté': 183, 'pues': 184, 'mala': 185, 'mirada': 186, 'joven': 187, 'son': 188, 'hacen': 189, 'rostro': 190, 'seis': 191, 'nombre': 192, 'cabellos': 193, 'queréis': 194, 'hablaba': 195, 'eran': 196, 'cerca': 197, 'entró': 198, 'pueden': 199, 'hijas': 200, 'cual': 201, 'triste': 202, 'tenga': 203, 'día': 204, 'azelma': 205, 'llegar': 206, 'tenemos': 207, 'babet': 208, 'pies': 209, 'enjolras': 210, 'combeferre': 211, 'courfeyrac': 212, 'puente': 213, 'callejuela': 214, 'entrar': 215, 'cabeza': 216, 'volvió': 217, 'muñeca': 218, 'monseñor': 219, 'este': 220, 'fuera': 221, 'respondió': 222, 'libro': 223, 'aún': 224, 'carcajada': 225, 'manzana': 226, 'vida': 227, 'gavroche': 228, 'ah': 229, 'poder': 230, 'nos': 231, 'ni': 232, 'escribir': 233, 'pequeña': 234, 'era': 235, 'admiración': 236, 'obispo': 237, 'dicho': 238, 'hacía': 239, 'francos': 240, 'bastante': 241, 'doce': 242, 'envió': 243, 'puso': 244, 'atención': 245, 'gritó': 246, 'ama': 247, 'pontmercy': 248, 'fauchelevent': 249, 'cierto': 250, 'habitaciones': 251, 'añadió': 252, 'bala': 253, 'además': 254, 'mañana': 255, 'partir': 256, 'porque': 257, 'dirigía': 258, 'sena': 259, 'hace': 260, 'vela': 261, 'aleja': 262, 'mira': 263, 'cochero': 264, 'traje': 265, 'dulce': 266, 'toma': 267, 'sabes': 268, 'cabriolé': 269, 'esperándote': 270, 'inmediato': 271, 'vuelve': 272, 'volando': 273, 'v': 274, 'interior': 275, 'acos\\xadtumbraba': 276, 'dedicar': 277, 'reposo': 278, 'javert': 279, 'repitió': 280, 'media': 281, 'papel': 282, 'señores': 283, 'han': 284, 'estas': 285, 'señoritas': 286, 'traído': 287, 'desde': 288, 'expuesta': 289, 'lepra': 290, 'efectos': 291, 'humedad': 292, 'líquen': 293, 'inmundicias': 294, 'pájaros': 295, 'pone': 296, 'verde': 297, 'enne\\xadgrece': 298, 'próxima': 299, 'ninguna': 300, 'senda': 301, 'agradable': 302, 'pasear': 303, 'lado': 304, 'hierba': 305, 'bañan': 306, 'rayos': 307, 'suben': 308, 'lagartos': 309, 'alrededor': 310, 'mecen': 311, 'tallos': 312, 'avena': 313, 'agitados': 314, 'viento': 315, 'primavera': 316, 'cantan': 317, 'árbol': 318, 'currucas': 319, 'niños': 320, 'aceptan': 321, 'toda': 322, 'naturalidad': 323, 'ellos': 324, 'mis\\xadmos': 325, 'naturalmente': 326, 'examinó': 327, 'despiadado': 328, 'problema': 329, 'mostró': 330, 'agujero': 331, 'negro': 332, 'imposible': 333, 'deciros': 334, 'depósito': 335, 'fiel': 336, 'honradamente': 337, 'en\\xadtregado': 338, 'acto': 339, 'probidad': 340, 'merecéis': 341, 'recompense': 342, 'fijad': 343, 'cantidad': 344, 'temáis': 345, 'elevada': 346, 'atmósfera': 347, 'cada': 348, 'escapaba': 349, 'coronel': 350, 'furti\\xadvamente': 351, 'apostaba': 352, 'san': 353, 'sulpicio': 354, 'tía': 355, 'darse': 356, 'verlo': 357, 'oculto': 358, 'detrás': 359, 'pilar': 360, 'inmóvil': 361, 'atreverse': 362, 'apenas': 363, 'respirar': 364, 'hijo': 365, 'lleno': 366, 'cicatrices': 367, 'solterona': 368, 'real': 369, 'rebuscarlo': 370, 'veredicto': 371, 'jurado': 372, 'de\\xadclaraba': 373, 'inocente': 374, 'champmathieu': 375, 'libertad': 376, 'estupefacto': 377, 'pensando': 378, 'estaban': 379, 'locos': 380, 'com\\xadprender': 381, 'oh': 382, 'bienhechor': 383, 'exclamó': 384, 'de\\xadlirante': 385, 'cómo': 386, 'sabéis': 387, 'llamo': 388, 'mujeres': 389, 'montfer\\xadmeil': 390, 'habló': 391, 'criaturas': 392, 'reían': 393, 'felices': 394, 'napoleón': 395, 'regresaba': 396, 'vencido': 397, 'setenta': 398, 'mil': 399, 'hombres': 400, 'desangraban': 401, 'paz': 402, 'esparcía': 403, 'mundo': 404, 'coméis': 405, 'comeré': 406, 'abrir': 407, 'cerrar': 408, 'estuvo': 409, 'verga': 410, 'llegó': 411, 'punta': 412, 'ató': 413, 'dejó': 414, 'suelto': 415, 'empezó': 416, 'bajar': 417, 'deslizándose': 418, 'marinero': 419, 'hubo': 420, 'doble': 421, 'angustia': 422, 'suspen\\xaddido': 423, 'abismo': 424, 'engullid': 425, 'monigotes': 426, 'amabilidad': 427, 'santos': 428, 'saint\\xadmerry': 429, 'ello': 430, 'alcantarillas': 431, 'calles': 432, 'encrucijadas': 433, 'plazas': 434, 'callejuelas': 435, 'salida': 436, 'arterias': 437, 'circula\\xadción': 438, 'llenas': 439, 'fango': 440, 'acabó': 441, 'permaneció': 442, 'me\\xadditabundo': 443, 'distancia': 444, 'recibió': 445, 'abogado': 446, 'fría': 447, 'llena': 448, 'sumisión': 449, 'respeto': 450, 'cogió': 451, 'leyó': 452, 'tiró': 453, 'hecha': 454, 'pedazos': 455, 'cesto': 456, 'solo': 457, 'cuarto': 458, 'hablar': 459, 'alta': 460, 'sucedía': 461, 'agitado': 462, 'dios': 463, 'echan': 464, 'derribando': 465, 'gracias': 466, 'mo\\xadnedas': 467, 'procurarse': 468, 'teatro': 469, 'transfigura': 470, 'basta': 471, 'poderoso': 472, 'entu\\xadsiasmo': 473, 'aplausos': 474, 'sala': 475, 'estre\\xadcha': 476, 'fétida': 477, 'obscura': 478, 'fea': 479, 'malsana': 480, 'repugnante': 481, 'paraíso': 482, 'i': 483, 'compasión': 484, 'desdichados': 485, 'indulgencia': 486, 'dichosos': 487, 'juega': 488, 'desconocido': 489, 'ante': 490, 'encontraba': 491, 'muchacha': 492, 'flaca': 493, 'desco\\xadlorida': 494, 'descarnada': 495, 'camisa': 496, 'vestido': 497, 'helada': 498, 'temblorosa': 499, 'desnudez': 500, 'manos': 501, 'rojas': 502, 'boca': 503, 'entreabierta': 504, 'desfigurada': 505, 'dientes': 506, 'brillo': 507, 'insolente': 508, 'formas': 509, 'abor\\xadtadas': 510, 'corrompida': 511, 'cincuenta': 512, 'mezclados': 513, 'quin\\xadce': 514, 'seres': 515, 'débiles': 516, 'horribles': 517, 'estremecer': 518, 'aquellos': 519, 'quienes': 520, 'llorar': 521, 'resto': 522, 'belleza': 523, 'moría': 524, 'dieciséis': 525, 'semblante': 526, 'feroz': 527, 'temible': 528, 'veces': 529, 'tanta': 530, 'inquietud': 531, 'encuentro': 532, 'perro': 533, 'presa': 534, 'lobo': 535, 'erizaron': 536, 'entiendo': 537, 'decir': 538, 'saco': 539, 'palo': 540, 'rincón': 541, 'guardado': 542, 'pasaporte': 543, 'bolsillo': 544, 'tomado': 545, 'asiento': 546, 'baptistina': 547, 'dulzura': 548, 'ocho': 549, 'accidentado': 550, 'cochera': 551, 'hostería': 552, 'arras': 553, 'mal': 554, 'naturalezas': 555, 'amar': 556, 'alguien': 557, 'odiar': 558, 'amaba': 559, 'apasionada\\xadmente': 560, 'detes\\xadtara': 561, 'forastera': 562, 'amor': 563, 'aspectos': 564, 'terribles': 565, 'preocupara': 566, 'quitaba': 567, 'respiraban': 568, 'pasaba': 569, 'golpeara': 570, 'cruelmente': 571, 'coset\\xadte': 572, 'fueron': 573, 'niñas': 574, 'edad': 575, 'imitadoras': 576, 'situación': 577, 'floreciente': 578, 'fue\\xadron': 579, 'necesarios': 580, 'difíciles': 581, 'duros': 582, 'padecido': 583, 'materia': 584, 'desamparo': 585, 'hecho': 586, 'excepto': 587, 'contraer': 588, 'deudas': 589, 'pre\\xadfería': 590, 'comer': 591, 'pedir': 592, 'prestado': 593, 'pasa\\xaddo': 594, 'muchos': 595, 'ayunando': 596, 'tenéis': 597, 'preguntó': 598, 'ves': 599, 'trabajar': 600, 'agre\\xadgó': 601, 'viajero': 602, 'sentarse': 603, 'junto': 604, 'hogar': 605, 'ex\\xadtendió': 606, 'fuego': 607, 'doloridos': 608, 'cansancio': 609, 'principales': 610, 'prouvaire': 611, 'feuilly': 612, 'bahorel': 613, 'joly': 614, 'grantaire': 615, 'aprovechó': 616, 'vacilación': 617, 'perseguidores': 618, 'salió': 619, 'ocultado': 620, 'brazos': 621, 'cruzó': 622, 'austerlitz': 623, 'sombra': 624, 'carreta': 625, 'esperanza': 626, 'hubieran': 627, 'entraba': 628, 'delante': 629, 'conseguía': 630, 'terrenos': 631, 'casas': 632, 'escapar': 633, 'decidió': 634, 'debía': 635, 'aquella': 636, 'silenciosa': 637, 'razón': 638, 'respuesta': 639, 'quedaron': 640, 'mudos': 641, 'indicaron': 642, 'movimiento': 643, 'conocían': 644, 'magdalena': 645, 'jurados': 646, 'tranquila': 647, 'paseaba': 648, 'desván': 649, 'extremo': 650, 'largos': 651, 'brilla\\xadban': 652, 'espectáculo': 653, 'extraño': 654, 'aquél': 655, 'harapos': 656, 'estrecharon': 657, 'cintas': 658, 'rosadas': 659, 'verdad': 660, 'enton\\xadces': 661, 'encontramos': 662, 'huyendo': 663, 'hemos': 664, 'detenido': 665, 'cubiertos': 666, 'bizcocho': 667, 'perfil': 668, 'llegado': 669, 'mirarlos': 670, 'pie': 671, 'prontitud': 672, 'mono': 673, 'echándose': 674, 'atrás': 675, 'arrancándose': 676, 'anteojos': 677, 'sacándose': 678, 'nariz': 679, 'quitó': 680, 'quita': 681, 'sombrero': 682, 'cosa': 683, 'curiosa': 684, 'ma\\xadrius': 685, 'recibido': 686, 'traidora': 687, 'casualidad': 688, 'dado': 689, 'nosotros': 690, 'aullaron': 691, 'bandidos': 692, 'lanzó': 693, 'estridente': 694, 'lúgu\\xadbre': 695, 'tosía': 696, 'anteriores': 697, 'paseos': 698, 'jardín': 699, 'cuidado': 700, 'donde': 701, 'manzano': 702, 'cena': 703, 'perdió': 704, 'adán': 705, 'salvar': 706, 'conque': 707, 'quieres': 708, 'notad': 709, 'estáis': 710, 'nuestro': 711, 'nuestra': 712, 'discreción': 713, 'ningún': 714, 'humano': 715, 'puede': 716, 'sacaros': 717, 'afligi\\xadría': 718, 'verdaderamente': 719, 'vernos': 720, 'obligados': 721, 'recurrir': 722, 'desagradables': 723, 'extremos': 724, 'sé': 725, 'vuestro': 726, 'hom\\xadbre': 727, 'señas': 728, 'vuestra': 729, 'preven\\xadgo': 730, 'seguiréis': 731, 'atado': 732, 'vuelva': 733, 'persona': 734, 'encargada': 735, 'llevar': 736, 'dignaos': 737, 'aterraba': 738, 'pobre': 739, 'servía': 740, 'criada': 741, 'buscar': 742, 'faltaba': 743, 'espantada': 744, 'idea': 745, 'fuente': 746, 'cuidaba': 747, 'faltara': 748, 'nunca': 749, 'abrió': 750, 'unos': 751, 'enormes': 752, 'azules': 753, 'descubrió': 754, 'otras': 755, 'sacó': 756, 'lengua': 757, 'señal': 758, 'miró': 759, 'decididamente': 760, 'mueve': 761, 'pst': 762, 'escribía': 763, 'mejor': 764, 'tener': 765, 'noticias': 766, 'contestaban': 767, 'per\\xadfectamente': 768, 'transcurridos': 769, 'primeros': 770, 'me\\xadses': 771, 'remitió': 772, 'siete': 773, 'séptimo': 774, 'exactitud': 775, 'haciendo': 776, 'remesas': 777, 'antes': 778, 'terminar': 779, 'año': 780, 'escribió': 781, 'exigiéndole': 782, 'feliz': 783, 'sometió': 784, 'perdonad': 785, 'hablabais': 786, 'fa\\xadbontou': 787, 'ocupar': 788, 'sitio': 789, 'mesa': 790, 'cocina': 791, 'tejer': 792, 'contemplaba': 793, 'extraña': 794, 'señora': 795, 'sonriéndose': 796, 'casi': 797, 'timidez': 798, 'dejadla': 799, 'jugar': 800, 'ciudad': 801, 'soledad': 802, 'mucho': 803, 'sabio': 804, 'ha\\xadblaban': 805, 'convenido': 806, 'carnicero': 807, 'niega': 808, 'crédito': 809, 'añadía': 810, 'mudo': 811, 'pared': 812, 'enfrente': 813, 'arreglado': 814, 'exis\\xadtencia': 815, 'porvenir': 816, 'denunciarse': 817, 'pintó': 818, 'inmensa': 819, 'abandonar': 820, 'volver': 821, 'vivir': 822, 'palacio': 823, 'episcopal': 824, 'd': 825, 'contiguo': 826, 'hos\\xadpital': 827, 'vasto': 828, 'hermoso': 829, 'edificio': 830, 'construido': 831, 'principios': 832, 'último': 833, 'siglo': 834, 'respiraba': 835, 'grandeza': 836, 'salones': 837, 'interiores': 838, 'patio': 839, 'honor': 840, 'amplio': 841, 'galerías': 842, 'arcos': 843, 'según': 844, 'antigua': 845, 'costumbre': 846, 'florentina': 847, 'jardines': 848, 'plantados': 849, 'magníficos': 850, 'árboles': 851, 'montado': 852, 'perra': 853, 'ladrón': 854, 'boulatruelle': 855, 'amenazando': 856, 'puños': 857, 'horizonte': 858, 'so\\xadbre': 859, 'heridos': 860, 'debo': 861, 'recibir': 862, 'llevársela': 863, 'dámela': 864, 'contra': 865, 'vio': 866, 'gravroche': 867, 'lanzarse': 868, 'dentro': 869, 'pasaron': 870, 'minutos': 871, 'luz': 872, 'desapareció': 873, 'ruido': 874, 'indi\\xadcar': 875, 'ido': 876, 'escuchar': 877, 'quitado': 878, 'zapatos': 879, 'abultado': 880, 'bolso': 881, 'pesado': 882, 'murmuró': 883, 'creo': 884, 'ese': 885, 'endiablado': 886, 'tengo': 887, 'legajo': 888, 'calma': 889, 'sígueme': 890, 'prontas': 891, 'mis': 892, 'cosas': 893, 'dispuesta': 894, 'prepare': 895, 'ropa': 896, 'guardarla': 897, 'maleta': 898, 'verá': 899, 'obligado': 900, 'teníamos': 901, 'necesitábamos': 902, 'male\\xadta': 903, 'grande': 904, 'mí': 905, 'preparase': 906, 'semana': 907, 'iríamos': 908, 'tal': 909, 'inglaterra': 910, 'dirección': 911, 'quiero': 912, 'nicolasa': 913, 'saber': 914, 'enfermo': 915, 'venido': 916, 'víspera': 917, 'curva': 918, 'suelo': 919, 'ribera': 920, 'derecha': 921, 'vacía': 922, 'vertientes': 923, 'gran': 924, 'cloaca': 925, 'allá': 926, 'camino': 927, 'sabía': 928, 'gritos': 929, 'desesperados': 930, 'resuenan': 931, 'pro\\xadfundidades': 932, 'observa': 933, 'espectro': 934, 'desesperado': 935, 'decrece': 936, 'desaparece': 937, 'formaba': 938, 'tripula\\xadción': 939, 'venía': 940, 'vivo': 941, 'sucedido': 942, 'resbaló': 943, 'cayó': 944, 'termi\\xadnado': 945, 'arrancó': 946, 'chispas': 947, 'empedrado': 948, 'jun\\xadto': 949, 'tercera': 950, 'volcó': 951, 'canasto': 952, 'subieron': 953, 'ocupó': 954, 'asiénto': 955, 'ven': 956, 'mujer': 957, 'frente': 958, 'instalado': 959, 'tienda': 960, 'juguetes': 961, 'relumbrante': 962, 'lentejuelas': 963, 'abalorios': 964, 'vidrios': 965, 'colores': 966, 'de\\xadlante': 967, 'tendero': 968, 'inmen\\xadsa': 969, 'vestida': 970, 'color': 971, 'rosa': 972, 'espigas': 973, 'doradas': 974, 'pelo': 975, 'verdadero': 976, 'vidrio': 977, 'esmaltado': 978, 'maravilla': 979, 'sido': 980, 'duran\\xadte': 981, 'objeto': 982, 'mirones': 983, 'diez': 984, 'hubiera': 985, 'montfermeil': 986, 'rica': 987, 'bastan\\xadte': 988, 'pródiga': 989, 'comprársela': 990, 'habían': 991, 'pasado': 992, 'enteras': 993, 'contemplán\\xaddola': 994, 'misma': 995, 'aunque': 996, 'furtivamente': 997, 'atrevido': 998, 'mirarla': 999, 'tengas': 1000, 'estoy': 1001, 'tómate': 1002, 'cállate': 1003, 'duerme': 1004, 'soltó': 1005, 'llévame': 1006, 'dote': 1007, 'director': 1008, 'menester': 1009, 'resignarse': 1010, 'cualquier': 1011, 'modo': 1012, 'alondra': 1013, 'veré': 1014, 'traerla': 1015, 'acabará': 1016, 'daré': 1017, 'sangre': 1018, 'preciso': 1019, 'libertaré': 1020, 'detendrá': 1021, 'des\\xadconocido': 1022, 'contrastaba': 1023, 'ex\\xadtrañamente': 1024, 'mendigo': 1025, 'quizá': 1026, 'llegará': 1027, '1830': 1028, 'dueño': 1029, 'murió': 1030, 'viuda': 1031, 'supo': 1032, 'mantener': 1033, 'prestigio': 1034, 'taberna': 1035, 'coci\\xadna': 1036, 'bajó': 1037, 'calidad': 1038, 'vino': 1039, 'malo': 1040, 'intomable': 1041, 'embargo': 1042, 'camaradas': 1043, 'continuaron': 1044, 'yendo': 1045, 'com\\xadpasión': 1046, 'adoptando': 1047, 'acento': 1048, 'tierna': 1049, 'autoridad': 1050, 'protección': 1051, 'bueno': 1052, 'primero': 1053, 'páginas': 1054, 'historia': 1055, 'digo': 1056}\n"
          ]
        }
      ]
    },
    {
      "cell_type": "code",
      "source": [
        "# Cantidad de veces quea aparece cada palabra en cada \"documento\"\n",
        "# (1 documento = 1 caso de entrada)\n",
        "print(tok.word_docs)"
      ],
      "metadata": {
        "id": "ByanJtXaNJ8h",
        "colab": {
          "base_uri": "https://localhost:8080/"
        },
        "outputId": "b2912354-7c55-4063-c6f8-fae4f6f96c39"
      },
      "execution_count": 29,
      "outputs": [
        {
          "output_type": "stream",
          "name": "stdout",
          "text": [
            "defaultdict(<class 'int'>, {'esta': 8, 'cabriolé': 1, 'tienes': 3, 'lo': 21, 'carta': 5, 'ya': 3, 'hay': 2, 'un': 23, 'inmediato': 1, 'vuelve': 1, 'abajo': 3, 'hacer': 2, 'parte': 3, 'que': 39, 'de': 50, 'sabes': 1, 'esperándote': 1, 'volando': 1, 'toma': 1, 'y': 55, 'v': 1, 'el': 48, 'interior': 1, 'desesperación': 2, 'la': 42, 'horas': 2, 'tiempo': 3, 'acos\\xadtumbraba': 1, 'reposo': 1, 'cuatro': 2, 'dormido': 2, 'dedicar': 1, 'había': 12, 'no': 24, 'al': 11, 'más': 5, 'repitió': 1, 'media': 1, 'javert': 1, 'voz': 4, 'a': 39, 'señores': 1, 'papel': 1, 'es': 16, 'han': 1, 'dejado': 2, 'esos': 3, 'estas': 1, 'señoritas': 1, 'para': 10, 'aquí': 5, 'desde': 1, 'barricada': 2, 'habéis': 3, 'traído': 1, 'agitados': 1, 'primavera': 1, 'menos': 4, 'del': 5, 'su': 20, 'aire': 4, 'demás': 3, 'avena': 1, 'árbol': 1, 'pone': 1, 'verde': 1, 'piedra': 2, 'tallos': 1, 'alrededor': 1, 'suben': 1, 'lado': 1, 'humedad': 1, 'está': 3, 'por': 14, 'expuesta': 1, 'lagartos': 1, 'se': 31, 'hierba': 1, 'altura': 2, 'halla': 2, 'mecen': 1, 'en': 28, 'rayos': 1, 'aquel': 6, 'bañan': 1, 'cantan': 1, 'pájaros': 1, 'enne\\xadgrece': 1, 'efectos': 1, 'ir': 3, 'líquen': 1, 'senda': 1, 'pasear': 1, 'viento': 1, 'cuando': 5, 'sol': 2, 'lepra': 1, 'currucas': 1, 'los': 21, 'agua': 2, 'causa': 3, 'ninguna': 1, 'próxima': 1, 'las': 11, 'inmundicias': 1, 'ella': 5, 'agradable': 1, 'dicha': 1, 'naturalmente': 1, 'inmediatamente': 2, 'ellos': 1, 'toda': 1, 'alegría': 2, 'mis\\xadmos': 1, 'niños': 1, 'naturalidad': 1, 'con': 24, 'siendo': 2, 'aceptan': 1, 'sus': 15, 'despiadado': 1, 'fases': 2, 'problema': 1, 'examinó': 1, 'todas': 3, 'mostró': 1, 'agujero': 1, 'ojos': 6, 'negro': 1, 'acercó': 3, 'eponina': 4, 'mano': 3, 'le': 9, 'marius': 6, 'yo': 4, 'sobre': 3, 'cantidad': 1, 'elevada': 1, 'sea': 2, 'merecéis': 1, 'algo': 5, 'deciros': 1, 'acto': 1, 'probidad': 1, 'vos': 2, 'os': 2, 'recompense': 1, 'fiel': 1, 'muy': 5, 'me': 5, 'honradamente': 1, 'temáis': 1, 'mismo': 2, 'depósito': 1, 'tan': 2, 'fijad': 1, 'imposible': 1, 'en\\xadtregado': 1, 'atreverse': 1, 'tres': 4, 'oculto': 1, 'tenía': 9, 'hora': 2, 'vieja': 2, 'solterona': 1, 'cada': 1, 'iba': 3, 'cicatrices': 1, 'verlo': 1, 'atmósfera': 1, 'pensar': 2, 'apostaba': 1, 'parís': 4, 'hombre': 6, 'detrás': 1, 'hijo': 1, 'una': 17, 'dos': 5, 'lleno': 1, 'furti\\xadvamente': 1, 'sulpicio': 1, 'gillenormand': 2, 'pilar': 1, 'señorita': 3, 'escapaba': 1, 'darse': 1, 'vuelta': 2, 'apenas': 1, 'inmóvil': 1, 'o': 4, 'san': 1, 'miraba': 3, 'coronel': 1, 'llevaba': 3, 'podía': 3, 'tía': 1, 'mientras': 3, 'crecía': 2, 'meses': 3, 'sin': 7, 'misa': 2, 'miedo': 2, 'respirar': 1, 'allí': 5, 'temblando': 2, 'real': 1, 'sí': 5, 'eso': 4, 'rebuscarlo': 1, 'champmathieu': 1, 'nada': 2, 'estupefacto': 1, 'de\\xadclaraba': 1, 'después': 5, 'estaban': 1, 'libertad': 1, 'visto': 4, 'com\\xadprender': 1, 'locos': 1, 'todos': 3, 'quien': 3, 'jurado': 1, 'inocente': 1, 'pensando': 1, 'veredicto': 1, 'fue': 6, 'puesto': 2, 'exclamó': 1, 'oh': 1, 'mi': 6, 'de\\xadlirante': 1, 'bienhechor': 1, 'jondrette': 4, 'llamo': 1, 'cómo': 1, 'sabéis': 1, 'mujeres': 1, 'habló': 1, 'dijo': 14, 'hizo': 2, 'viaje': 4, 'thenardier': 7, 'montfer\\xadmeil': 1, 'criaturas': 1, 'jugaban': 2, 'felices': 1, 'reían': 1, 'mundo': 1, 'napoleón': 1, 'vencido': 1, 'paz': 1, 'esparcía': 1, 'setenta': 1, 'poco': 2, 'hombres': 1, 'desangraban': 1, 'mil': 1, 'regresaba': 1, 'si': 5, 'también': 5, 'coméis': 1, 'comeré': 1, 'entonces': 5, 'estuvo': 1, 'verga': 1, 'otro': 5, 'punta': 1, 'angustia': 1, 'dejó': 1, 'cuerda': 1, 'hubo': 1, 'empezó': 1, 'suspen\\xaddido': 1, 'llegó': 1, 'marinero': 1, 'deslizándose': 1, 'vez': 4, 'cabo': 2, 'ató': 1, 'suelto': 1, 'abismo': 1, 'doble': 1, 'bajar': 1, 'abrir': 1, 'cerrar': 1, 'monigotes': 1, 'ahora': 3, 'engullid': 1, 'replicó': 3, 'amabilidad': 1, 'santos': 1, 'señor': 6, 'contestó': 3, 'saint\\xadmerry': 1, 'hacia': 7, 'así': 4, 'pensó': 3, 'ello': 1, 'alcantarillas': 1, 'callejuelas': 1, 'llenas': 1, 'calles': 1, 'encrucijadas': 1, 'debajo': 2, 'circula\\xadción': 1, 'fango': 1, 'plazas': 1, 'salida': 1, 'tiene': 3, 'arterias': 1, 'otra': 3, 'pasos': 3, 'viejo': 3, 'acabó': 1, 'algunos': 4, 'distancia': 1, 'permaneció': 1, 'me\\xadditabundo': 1, 'alta': 1, 'sumisión': 1, 'todo': 8, 'días': 2, 'cogió': 1, 'pero': 8, 'abuelo': 2, 'padre': 3, 'llena': 1, 'decía': 5, 'oyó': 2, 'dio': 2, 'abogado': 1, 'fría': 1, 'anciano': 3, 'cesto': 1, 'estaba': 6, 'pedazos': 1, 'hablar': 1, 'tiró': 1, 'esto': 2, 'recibió': 1, 'leyó': 1, 'respeto': 1, 'cuarto': 1, 'sucedía': 1, 'solo': 1, 'siempre': 5, 'medio': 3, 'agitado': 1, 'hecha': 1, 'echan': 1, 'están': 2, 'buen': 3, 'casa': 3, 'qué': 9, 'derribando': 1, 'puerta': 5, 'dios': 1, 'mo\\xadnedas': 1, 'aplausos': 1, 'obscura': 1, 'malsana': 1, 'repugnante': 1, 'él': 7, 'transfigura': 1, 'esté': 2, 'basta': 1, 'teatro': 1, 'va': 2, 'paraíso': 1, 'pilluelo': 2, 'gracias': 1, 'noche': 3, 'estre\\xadcha': 1, 'procurarse': 1, 'sala': 1, 'esa': 3, 'fea': 1, 'entu\\xadsiasmo': 1, 'fétida': 1, 'algunas': 4, 'poderoso': 1, 'indulgencia': 1, 'compasión': 1, 'dichosos': 1, 'desdichados': 1, 'i': 1, 'pues': 2, 'cosette': 8, 'juega': 1, 'desconocido': 1, 'son': 2, 'moría': 1, 'horribles': 1, 'insolente': 1, 'quin\\xadce': 1, 'desco\\xadlorida': 1, 'hacen': 1, 'encontraba': 1, 'vestido': 1, 'rostro': 2, 'mirada': 1, 'desfigurada': 1, 'aquellos': 1, 'llorar': 1, 'mala': 2, 'flaca': 1, 'boca': 1, 'dientes': 1, 'estremecer': 1, 'camisa': 1, 'brillo': 1, 'joven': 2, 'abor\\xadtadas': 1, 'cincuenta': 1, 'resto': 1, 'dieciséis': 1, 'mezclados': 1, 'seres': 1, 'débiles': 1, 'temblorosa': 1, 'muchacha': 1, 'ante': 1, 'formas': 1, 'uno': 3, 'años': 3, 'quienes': 1, 'descarnada': 1, 'entreabierta': 1, 'rojas': 1, 'manos': 1, 'helada': 1, 'corrompida': 1, 'belleza': 1, 'desnudez': 1, 'semblante': 1, 'presa': 1, 'como': 4, 'lobo': 1, 'veces': 1, 'inquietud': 1, 'perro': 1, 'temible': 1, 'tanta': 1, 'encuentro': 1, 'feroz': 1, 'seis': 2, 'nombre': 2, 'cabellos': 2, 'erizaron': 1, 'queréis': 2, 'decir': 1, 'entiendo': 1, 'palo': 1, 'tomado': 1, 'asiento': 1, 'baptistina': 1, 'pasaporte': 1, 'dulzura': 1, 'rincón': 1, 'guardado': 1, 'bolsillo': 1, 'hablaba': 2, 'saco': 1, 'entró': 2, 'cerca': 2, 'cochera': 1, 'hostería': 1, 'arras': 1, 'ocho': 1, 'accidentado': 1, 'eran': 2, 'carruaje': 3, 'mal': 1, 'azelma': 2, 'cual': 2, 'hijas': 1, 'aspectos': 1, 'pasaba': 1, 'imitadoras': 1, 'detes\\xadtara': 1, 'amar': 1, 'preocupara': 1, 'pueden': 2, 'odiar': 1, 'tenga': 2, 'día': 2, 'cruelmente': 1, 'hasta': 3, 'coset\\xadte': 1, 'alguien': 1, 'fueron': 1, 'quitaba': 1, 'madre': 4, 'niña': 5, 'amor': 1, 'forastera': 1, 'triste': 2, 'niñas': 1, 'naturalezas': 1, 'amaba': 1, 'apasionada\\xadmente': 1, 'respiraban': 1, 'edad': 1, 'terribles': 1, 'parecía': 4, 'golpeara': 1, 'difíciles': 1, 'muchos': 1, 'excepto': 1, 'necesarios': 1, 'fue\\xadron': 1, 'hecho': 1, 'llegar': 2, 'situación': 1, 'materia': 1, 'contraer': 1, 'duros': 1, 'desamparo': 1, 'pasa\\xaddo': 1, 'pre\\xadfería': 1, 'prestado': 1, 'ayunando': 1, 'comer': 1, 'floreciente': 1, 'padecido': 1, 'pedir': 1, 'deudas': 1, 'preguntó': 1, 'tenéis': 1, 'babet': 2, 'ves': 1, 'trabajar': 1, 'agre\\xadgó': 1, 'tenemos': 2, 'junto': 1, 'hogar': 1, 'viajero': 1, 'doloridos': 1, 'cansancio': 1, 'sentarse': 1, 'fuego': 1, 'ex\\xadtendió': 1, 'pies': 2, 'combeferre': 2, 'prouvaire': 1, 'courfeyrac': 2, 'laigle': 4, 'principales': 1, 'feuilly': 1, 'enjolras': 2, 'bahorel': 1, 'grantaire': 1, 'joly': 1, 'perseguidores': 1, 'carreta': 1, 'puente': 2, 'delante': 1, 'conseguía': 1, 'casas': 1, 'esperanza': 1, 'silenciosa': 1, 'salió': 1, 'cruzó': 1, 'escapar': 1, 'aquella': 1, 'entrar': 2, 'entraba': 1, 'debía': 1, 'vacilación': 1, 'valjean': 5, 'brazos': 1, 'callejuela': 1, 'terrenos': 1, 'ocultado': 1, 'decidió': 1, 'sombra': 1, 'jean': 5, 'austerlitz': 1, 'aprovechó': 1, 'hubieran': 1, 'respuesta': 1, 'razón': 1, 'tranquila': 1, 'mudos': 1, 'jurados': 1, 'volvió': 2, 'quedaron': 1, 'movimiento': 1, 'magdalena': 1, 'conocían': 1, 'cabeza': 2, 'indicaron': 1, 'largos': 1, 'paseaba': 1, 'desván': 1, 'brilla\\xadban': 1, 'extremo': 1, 'espectáculo': 1, 'harapos': 1, 'aquél': 1, 'rosadas': 1, 'muñeca': 2, 'cintas': 1, 'extraño': 1, 'estrecharon': 1, 'cubiertos': 1, 'enton\\xadces': 1, 'encontramos': 1, 'monseñor': 2, 'fuera': 2, 'este': 2, 'hemos': 1, 'huyendo': 1, 'detenido': 1, 'verdad': 1, 'bizcocho': 1, 'respondió': 2, 'ha': 3, 'perfil': 1, 'libro': 2, 'mirarlos': 1, 'aún': 2, 'momento': 4, 'llegado': 1, 'pie': 1, 'sacándose': 1, 'nariz': 1, 'echándose': 1, 'anteojos': 1, 'quita': 1, 'quitó': 1, 'sombrero': 1, 'mono': 1, 'arrancándose': 1, 'prontitud': 1, 'atrás': 1, 'cosa': 1, 'curiosa': 1, 'casualidad': 1, 'traidora': 1, 'recibido': 1, 'ma\\xadrius': 1, 'dado': 1, 'bandidos': 1, 'nosotros': 1, 'aullaron': 1, 'carcajada': 2, 'lanzó': 1, 'tosía': 1, 'lúgu\\xadbre': 1, 'estridente': 1, 'paseos': 1, 'anteriores': 1, 'gavroche': 2, 'manzana': 1, 'cuidado': 1, 'salvar': 1, 'jardín': 1, 'perdió': 1, 'cena': 1, 'vida': 2, 'manzano': 1, 'adán': 1, 'donde': 1, 'conque': 1, 'ah': 2, 'quieres': 1, 'notad': 1, 'extremos': 1, 'estáis': 1, 'nuestro': 1, 'desagradables': 1, 'sacaros': 1, 'bien': 3, 'preven\\xadgo': 1, 'vuestra': 1, 'atado': 1, 'vernos': 1, 'hom\\xadbre': 1, 'humano': 1, 'nos': 2, 'persona': 1, 'seguiréis': 1, 'recurrir': 1, 'señas': 1, 'dignaos': 1, 'escribir': 2, 'encargada': 1, 'obligados': 1, 'vuestro': 1, 'llevar': 1, 'ni': 1, 'vuelva': 1, 'ningún': 1, 'sé': 1, 'verdaderamente': 1, 'puede': 1, 'nuestra': 1, 'discreción': 1, 'poder': 1, 'afligi\\xadría': 1, 'nunca': 1, 'pobre': 1, 'faltara': 1, 'era': 2, 'espantada': 1, 'fuente': 1, 'criada': 1, 'servía': 1, 'buscar': 1, 'aterraba': 1, 'faltaba': 1, 'idea': 1, 'cuidaba': 1, 'pequeña': 2, 'unos': 1, 'descubrió': 1, 'abrió': 1, 'señal': 1, 'otras': 1, 'sacó': 1, 'azules': 1, 'lengua': 1, 'enormes': 1, 'admiración': 2, 'obispo': 2, 'miró': 1, 'decididamente': 1, 'mueve': 1, 'pst': 1, 'noticias': 1, 'escribía': 1, 'continuó': 3, 'envió': 2, 'francos': 1, 'exactitud': 1, 'antes': 1, 'mes': 1, 'siete': 1, 'remesas': 1, 'dicho': 2, 'bastante': 2, 'escribió': 1, 'haciendo': 1, 'tener': 1, 'hacía': 2, 'primeros': 1, 'me\\xadses': 1, 'séptimo': 1, 'feliz': 1, 'sometió': 1, 'per\\xadfectamente': 1, 'contestaban': 1, 'año': 1, 'exigiéndole': 1, 'hija': 3, 'doce': 1, 'transcurridos': 1, 'terminar': 1, 'mejor': 1, 'remitió': 1, 'puso': 2, 'atención': 2, 'gritó': 2, 'perdonad': 1, 'hablabais': 1, 'fa\\xadbontou': 1, 'tejer': 1, 'extraña': 1, 'sitio': 1, 'cocina': 1, 'mesa': 1, 'ocupar': 1, 'contemplaba': 1, 'sonriéndose': 1, 'señora': 1, 'timidez': 1, 'dejadla': 1, 'jugar': 1, 'casi': 1, 'ciudad': 1, 'soledad': 1, 'sabio': 1, 'mucho': 1, 'ama': 1, 'convenido': 1, 'fauchelevent': 2, 'ha\\xadblaban': 1, 'pontmercy': 2, 'crédito': 1, 'carnicero': 1, 'niega': 1, 'añadía': 1, 'mudo': 1, 'pared': 1, 'enfrente': 1, 'arreglado': 1, 'exis\\xadtencia': 1, 'volver': 1, 'vivir': 1, 'porvenir': 1, 'pintó': 1, 'denunciarse': 1, 'inmensa': 1, 'abandonar': 1, 'galerías': 1, 'hermoso': 1, 'cierto': 2, 'construido': 1, 'principios': 1, 'amplio': 1, 'según': 1, 'habitaciones': 1, 'grandeza': 1, 'hos\\xadpital': 1, 'respiraba': 1, 'último': 1, 'siglo': 1, 'arcos': 1, 'plantados': 1, 'vasto': 1, 'salones': 1, 'edificio': 1, 'jardines': 1, 'palacio': 1, 'd': 1, 'contiguo': 1, 'costumbre': 1, 'episcopal': 1, 'árboles': 1, 'interiores': 1, 'honor': 1, 'antigua': 1, 'patio': 1, 'florentina': 1, 'magníficos': 1, 'montado': 1, 'perra': 1, 'ladrón': 1, 'amenazando': 1, 'puños': 1, 'boulatruelle': 1, 'horizonte': 1, 'heridos': 1, 'so\\xadbre': 1, 'debo': 1, 'dámela': 1, 'recibir': 1, 'llevársela': 1, 'añadió': 2, 'vio': 1, 'lanzarse': 1, 'bala': 2, 'contra': 1, 'gravroche': 1, 'dentro': 1, 'ido': 1, 'indi\\xadcar': 1, 'quitado': 1, 'desapareció': 1, 'zapatos': 1, 'ruido': 1, 'pasaron': 1, 'escuchar': 1, 'minutos': 1, 'luz': 1, 'abultado': 1, 'pesado': 1, 'bolso': 1, 'además': 2, 'endiablado': 1, 'murmuró': 1, 'ese': 1, 'creo': 1, 'calma': 1, 'legajo': 1, 'tengo': 1, 'sígueme': 1, 'grande': 1, 'mis': 1, 'semana': 1, 'prepare': 1, 'mí': 1, 'iríamos': 1, 'verá': 1, 'tal': 1, 'prontas': 1, 'cosas': 1, 'preparase': 1, 'ropa': 1, 'partir': 1, 'porque': 2, 'mañana': 2, 'obligado': 1, 'guardarla': 1, 'dispuesta': 1, 'teníamos': 1, 'male\\xadta': 1, 'necesitábamos': 1, 'inglaterra': 1, 'maleta': 1, 'dirección': 1, 'quiero': 1, 'enfermo': 1, 'víspera': 1, 'saber': 1, 'nicolasa': 1, 'venido': 1, 'dirigía': 1, 'gran': 1, 'suelo': 1, 'camino': 1, 'sabía': 1, 'sena': 1, 'hace': 2, 'allá': 1, 'cloaca': 1, 'derecha': 1, 'vacía': 1, 'ribera': 1, 'curva': 1, 'vertientes': 1, 'pro\\xadfundidades': 1, 'aleja': 1, 'tripula\\xadción': 1, 'cayó': 1, 'observa': 1, 'venía': 1, 'desesperado': 1, 'sucedido': 1, 'vivo': 1, 'mira': 1, 'termi\\xadnado': 1, 'espectro': 1, 'gritos': 1, 'resbaló': 1, 'formaba': 1, 'desaparece': 1, 'desesperados': 1, 'decrece': 1, 'vela': 1, 'resuenan': 1, 'arrancó': 1, 'tercera': 1, 'jun\\xadto': 1, 'empedrado': 1, 'canasto': 1, 'volcó': 1, 'chispas': 1, 'asiénto': 1, 'cochero': 2, 'subieron': 1, 'ocupó': 1, 'ven': 1, 'mujer': 1, 'abalorios': 1, 'maravilla': 1, 'inmen\\xadsa': 1, 'de\\xadlante': 1, 'pródiga': 1, 'doradas': 1, 'diez': 1, 'vestida': 1, 'juguetes': 1, 'furtivamente': 1, 'lentejuelas': 1, 'color': 1, 'relumbrante': 1, 'misma': 1, 'comprársela': 1, 'verdadero': 1, 'mirarla': 1, 'hubiera': 1, 'pasado': 1, 'mirones': 1, 'colores': 1, 'espigas': 1, 'tienda': 1, 'pelo': 1, 'sido': 1, 'contemplán\\xaddola': 1, 'traje': 2, 'esmaltado': 1, 'rosa': 1, 'objeto': 1, 'enteras': 1, 'frente': 1, 'aunque': 1, 'vidrios': 1, 'atrevido': 1, 'duran\\xadte': 1, 'instalado': 1, 'bastan\\xadte': 1, 'habían': 1, 'rica': 1, 'vidrio': 1, 'montfermeil': 1, 'tendero': 1, 'estoy': 1, 'cállate': 1, 'tómate': 1, 'duerme': 1, 'tengas': 1, 'soltó': 1, 'llévame': 1, 'dote': 1, 'menester': 1, 'resignarse': 1, 'director': 1, 'acabará': 1, 'libertaré': 1, 'sangre': 1, 'detendrá': 1, 'preciso': 1, 'daré': 1, 'modo': 1, 'veré': 1, 'traerla': 1, 'alondra': 1, 'cualquier': 1, 'mendigo': 1, 'contrastaba': 1, 'ex\\xadtrañamente': 1, 'dulce': 2, 'des\\xadconocido': 1, 'quizá': 1, 'llegará': 1, '1830': 1, 'com\\xadpasión': 1, 'embargo': 1, 'mantener': 1, 'calidad': 1, 'bajó': 1, 'camaradas': 1, 'intomable': 1, 'viuda': 1, 'vino': 1, 'murió': 1, 'prestigio': 1, 'continuaron': 1, 'supo': 1, 'coci\\xadna': 1, 'yendo': 1, 'malo': 1, 'taberna': 1, 'dueño': 1, 'protección': 1, 'tierna': 1, 'acento': 1, 'autoridad': 1, 'adoptando': 1, 'bueno': 1, 'historia': 1, 'páginas': 1, 'primero': 1, 'digo': 1})\n"
          ]
        }
      ]
    },
    {
      "cell_type": "markdown",
      "source": [
        "### Funciones a utilizar\n"
      ],
      "metadata": {
        "id": "WD-jBUXqNNMQ"
      }
    },
    {
      "cell_type": "markdown",
      "source": [
        "Dado que por el momento no hay implementaciones adecuadas de la perplejidad que puedan operar en tiempo de entrenamiento, armaremos un Callback *ad-hoc* que la calcule en cada epoch.\n",
        "\n",
        "**Nota**: un Callback es una rutina gatillada por algún evento, son muy útiles para relevar datos en diferentes momentos del desarrollo del modelo. En este caso queremos hacer un cálculo cada vez que termina una epoch de entrenamiento."
      ],
      "metadata": {
        "id": "xT3FWLKnNP1N"
      }
    },
    {
      "cell_type": "code",
      "source": [
        "class PplCallback(keras.callbacks.Callback):\n",
        "\n",
        "    '''\n",
        "    Este callback es una solución ad-hoc para calcular al final de cada epoch de\n",
        "    entrenamiento la métrica de Perplejidad sobre un conjunto de datos de validación.\n",
        "    La perplejidad es una métrica cuantitativa para evaluar la calidad de la generación de secuencias.\n",
        "    Además implementa la finalización del entrenamiento (Early Stopping)\n",
        "    si la perplejidad no mejora después de `patience` epochs.\n",
        "    '''\n",
        "\n",
        "    def __init__(self, val_data, history_ppl, model_name, patience=5):\n",
        "      # El callback lo inicializamos con secuencias de validación sobre las cuales\n",
        "      # mediremos la perplejidad y la paciencia para detener el entrenamiento.\n",
        "      self.val_data = val_data\n",
        "\n",
        "      self.target = []\n",
        "      self.padded = []\n",
        "\n",
        "      count = 0\n",
        "      self.info = []\n",
        "      self.history_ppl = history_ppl\n",
        "      self.min_score = np.inf\n",
        "      self.patience_counter = 0\n",
        "      self.patience = patience\n",
        "      self.model_name = model_name\n",
        "\n",
        "      # nos movemos en todas las secuencias de los datos de validación\n",
        "      for seq in self.val_data:\n",
        "\n",
        "        len_seq = len(seq)\n",
        "        # armamos todas las subsecuencias\n",
        "        subseq = [seq[:i] for i in range(len_seq)]\n",
        "        self.target.extend([seq[i] for i in range(len_seq)])\n",
        "\n",
        "        if len(subseq)!=0:\n",
        "\n",
        "          self.padded.append(pad_sequences(subseq, maxlen=max_context_size, padding='pre'))\n",
        "\n",
        "          self.info.append((count,count+len_seq))\n",
        "          count += len_seq\n",
        "\n",
        "      self.padded = np.vstack(self.padded)\n",
        "\n",
        "\n",
        "    def on_epoch_end(self, epoch, logs=None):\n",
        "\n",
        "        # en `scores` iremos guardando la perplejidad de cada secuencia\n",
        "        scores = []\n",
        "\n",
        "        predictions = self.model.predict(self.padded,verbose=0)\n",
        "\n",
        "        # para cada secuencia de validación\n",
        "        for start,end in self.info:\n",
        "\n",
        "          # en `probs` iremos guardando las probabilidades de los términos target\n",
        "          probs = [predictions[idx_seq,-1,idx_vocab] for idx_seq, idx_vocab in zip(range(start,end),self.target[start:end])]\n",
        "\n",
        "          # calculamos la perplejidad por medio de logaritmos\n",
        "          scores.append(np.exp(-np.sum(np.log(probs))/(end-start)))\n",
        "\n",
        "        # promediamos todos los scores e imprimimos el valor promedio\n",
        "        current_score = np.mean(scores)\n",
        "        self.history_ppl.append(current_score)\n",
        "        print(f'\\n mean perplexity: {current_score} \\n')\n",
        "\n",
        "        # chequeamos si tenemos que detener el entrenamiento\n",
        "        if current_score < self.min_score:\n",
        "          self.min_score = current_score\n",
        "          self.model.save(f\"{self.model_name}.keras\")\n",
        "          print(\"Saved new model!\")\n",
        "          self.patience_counter = 0\n",
        "        else:\n",
        "          self.patience_counter += 1\n",
        "          if self.patience_counter == self.patience:\n",
        "            print(\"Stopping training...\")\n",
        "            self.model.stop_training = True\n"
      ],
      "metadata": {
        "id": "BeTkcXx2NnKg"
      },
      "execution_count": 30,
      "outputs": []
    },
    {
      "cell_type": "code",
      "source": [
        "def generate_seq(model, tokenizer, seed_text, max_length, n_words):\n",
        "    \"\"\"\n",
        "        Exec model sequence prediction\n",
        "\n",
        "        Args:\n",
        "            model (keras): modelo entrenado\n",
        "            tokenizer (keras tokenizer): tonenizer utilizado en el preprocesamiento\n",
        "            seed_text (string): texto de entrada (input_seq)\n",
        "            max_length (int): máxima longitud de la sequencia de entrada\n",
        "            n_words (int): números de palabras a agregar a la sequencia de entrada\n",
        "        returns:\n",
        "            output_text (string): sentencia con las \"n_words\" agregadas\n",
        "    \"\"\"\n",
        "    output_text = seed_text\n",
        "\t  # generate a fixed number of words\n",
        "    for _ in range(n_words):\n",
        "\t\t  # Tokenizamos\n",
        "      encoded = tokenizer.texts_to_sequences([output_text])[0]\n",
        "\n",
        "\t\t  # Si tienen distinto largo\n",
        "      encoded = pad_sequences([encoded], maxlen=max_length, padding='pre')\n",
        "\n",
        "\t\t  # Predicción softmax\n",
        "      y_hat = np.argmax(model.predict(encoded)[0,-1,:])\n",
        "\n",
        "      # Vamos concatenando las predicciones\n",
        "      out_word = ''\n",
        "\n",
        "      # Debemos buscar en el vocabulario la palabra\n",
        "      # que corresopnde al indice (y_hat) predicho por le modelo\n",
        "      for word, index in tokenizer.word_index.items():\n",
        "        if index == y_hat:\n",
        "          out_word = word\n",
        "          break\n",
        "\n",
        "\t\t  # Agrego las palabras a la frase predicha\n",
        "      output_text += ' ' + out_word\n",
        "\n",
        "    return output_text"
      ],
      "metadata": {
        "id": "6YmS739xN7Ab"
      },
      "execution_count": 31,
      "outputs": []
    },
    {
      "cell_type": "code",
      "source": [
        "# funcionalidades para hacer encoding y decoding\n",
        "\n",
        "def encode(text,max_length=max_context_size):\n",
        "\n",
        "    encoded = tok.texts_to_sequences([text])[0]\n",
        "    encoded = pad_sequences([encoded], maxlen=max_length, padding='pre')\n",
        "\n",
        "    return encoded\n",
        "\n",
        "def decode(seq):\n",
        "    return tok.sequences_to_texts([seq])"
      ],
      "metadata": {
        "id": "Uk-MkFvHN8h8"
      },
      "execution_count": 32,
      "outputs": []
    },
    {
      "cell_type": "code",
      "source": [
        "from scipy.special import softmax\n",
        "\n",
        "# función que selecciona candidatos para el beam search\n",
        "def select_candidates(pred,num_beams,vocab_size,history_probs,history_tokens,temp,mode):\n",
        "\n",
        "  # colectar todas las probabilidades para la siguiente búsqueda\n",
        "  pred_large = []\n",
        "\n",
        "  for idx,pp in enumerate(pred):\n",
        "    pred_large.extend(np.log(pp+1E-10)+history_probs[idx])\n",
        "\n",
        "  pred_large = np.array(pred_large)\n",
        "\n",
        "  # criterio de selección\n",
        "  if mode == 'det':\n",
        "    idx_select = np.argsort(pred_large)[::-1][:num_beams] # beam search determinista\n",
        "  elif mode == 'sto':\n",
        "    idx_select = np.random.choice(np.arange(pred_large.shape[0]), num_beams, p=softmax(pred_large/temp)) # beam search con muestreo aleatorio\n",
        "  else:\n",
        "    raise ValueError(f'Wrong selection mode. {mode} was given. det and sto are supported.')\n",
        "\n",
        "  # traducir a índices de token en el vocabulario\n",
        "  new_history_tokens = np.concatenate((np.array(history_tokens)[idx_select//vocab_size],\n",
        "                        np.array([idx_select%vocab_size]).T),\n",
        "                      axis=1)\n",
        "\n",
        "  # devolver el producto de las probabilidades (log) y la secuencia de tokens seleccionados\n",
        "  return pred_large[idx_select.astype(int)], new_history_tokens.astype(int)\n",
        "\n",
        "\n",
        "def beam_search(model,num_beams,num_words,input,temp=1,mode='det'):\n",
        "\n",
        "    # first iteration\n",
        "\n",
        "    # encode\n",
        "    encoded = encode(input)\n",
        "\n",
        "    # first prediction\n",
        "    y_hat = model.predict(encoded,verbose=0)[0,-1,:]\n",
        "\n",
        "    # get vocabulary size\n",
        "    vocab_size = y_hat.shape[0]\n",
        "\n",
        "    # initialize history\n",
        "    history_probs = [0]*num_beams\n",
        "    history_tokens = [encoded[0]]*num_beams\n",
        "\n",
        "    # select num_beams candidates\n",
        "    history_probs, history_tokens = select_candidates([y_hat],\n",
        "                                        num_beams,\n",
        "                                        vocab_size,\n",
        "                                        history_probs,\n",
        "                                        history_tokens,\n",
        "                                        temp,\n",
        "                                        mode)\n",
        "\n",
        "    # beam search loop\n",
        "    for i in range(num_words-1):\n",
        "\n",
        "      preds = []\n",
        "\n",
        "      for hist in history_tokens:\n",
        "\n",
        "        # actualizar secuencia de tokens\n",
        "        input_update = np.array([hist[i+1:]]).copy()\n",
        "\n",
        "        # predicción\n",
        "        y_hat = model.predict(input_update,verbose=0)[0,-1,:]\n",
        "\n",
        "        preds.append(y_hat)\n",
        "\n",
        "      history_probs, history_tokens = select_candidates(preds,\n",
        "                                                        num_beams,\n",
        "                                                        vocab_size,\n",
        "                                                        history_probs,\n",
        "                                                        history_tokens,\n",
        "                                                        temp,\n",
        "                                                        mode)\n",
        "\n",
        "    return history_tokens"
      ],
      "metadata": {
        "id": "1UQQX500N_ec"
      },
      "execution_count": 33,
      "outputs": []
    },
    {
      "cell_type": "code",
      "source": [
        "import matplotlib.pyplot as plt\n",
        "import seaborn as sns\n",
        "\n",
        "# Podemos graficar la evolución de la perplejidad con las épocas.\n",
        "# Recordar que el valor de perplejidad del modelo trivial es el tamaño del vocabulario.\n",
        "def plot_model_history(history_ppl, model_name):\n",
        "  epoch_count = range(1, len(history_ppl) + 1)\n",
        "  sns.lineplot(x=epoch_count,  y=history_ppl)\n",
        "  plt.title(model_name)\n",
        "  plt.xlabel('Epoch')\n",
        "  plt.ylabel('Perplexity')\n",
        "  plt.show()"
      ],
      "metadata": {
        "id": "rNdMfFN8ObTc"
      },
      "execution_count": 34,
      "outputs": []
    },
    {
      "cell_type": "code",
      "source": [
        "import gradio as gr\n",
        "\n",
        "def model_response(model, human_text):\n",
        "\n",
        "    # Encodeamos\n",
        "    encoded = tok.texts_to_sequences([human_text])[0]\n",
        "    # Si tienen distinto largo\n",
        "    encoded = pad_sequences([encoded], maxlen=max_context_size, padding='pre')\n",
        "\n",
        "    # Predicción softmax\n",
        "    y_hat = np.argmax(model.predict(encoded)[0,-1,:])\n",
        "\n",
        "\n",
        "    # Debemos buscar en el vocabulario la palabra\n",
        "    # que corresopnde al indice (y_hat) predicho por le modelo\n",
        "    out_word = ''\n",
        "    for word, index in tok.word_index.items():\n",
        "        if index == y_hat:\n",
        "            out_word = word\n",
        "            break\n",
        "\n",
        "    # Agrego la palabra a la frase predicha\n",
        "    return human_text + ' ' + out_word\n",
        "\n",
        "def predict_with_gradio(model):\n",
        "    iface = gr.Interface(\n",
        "        fn=lambda text: model_response(model, text),\n",
        "        inputs=[\"textbox\"],\n",
        "        outputs=\"text\")\n",
        "\n",
        "    iface.launch(debug=True)"
      ],
      "metadata": {
        "id": "UOk_-d3GOdYW"
      },
      "execution_count": 35,
      "outputs": []
    },
    {
      "cell_type": "markdown",
      "source": [
        "### Modelo 1: Simple RNN"
      ],
      "metadata": {
        "id": "w2pHYctWOj33"
      }
    },
    {
      "cell_type": "code",
      "source": [
        "from keras.layers import Embedding, SimpleRNN, Dense, Dropout\n",
        "from keras.models import Sequential\n",
        "from keras.losses import SparseCategoricalCrossentropy\n",
        "model1 = Sequential()\n",
        "\n",
        "# Capa de embedding entrenable\n",
        "model1.add(Embedding(input_dim=vocab_size+1, output_dim=64, input_shape=(None,)))\n",
        "\n",
        "# SimpleRNN\n",
        "model1.add(SimpleRNN(128, return_sequences=True))\n",
        "model1.add(Dropout(0.2))\n",
        "model1.add(SimpleRNN(128, return_sequences=True))\n",
        "model1.add(Dropout(0.2))\n",
        "\n",
        "# Predicción de clasificación con softmax\n",
        "model1.add(Dense(vocab_size+1, activation='softmax'))\n",
        "\n",
        "model1.compile(loss=SparseCategoricalCrossentropy(), optimizer='rmsprop')\n",
        "\n",
        "model1.summary()"
      ],
      "metadata": {
        "id": "eLyokk7ZOiSw",
        "colab": {
          "base_uri": "https://localhost:8080/",
          "height": 395
        },
        "outputId": "7dc6d2ad-558d-4950-c2bf-6bec602d9c80"
      },
      "execution_count": 36,
      "outputs": [
        {
          "output_type": "stream",
          "name": "stderr",
          "text": [
            "/usr/local/lib/python3.10/dist-packages/keras/src/layers/core/embedding.py:93: UserWarning: Do not pass an `input_shape`/`input_dim` argument to a layer. When using Sequential models, prefer using an `Input(shape)` object as the first layer in the model instead.\n",
            "  super().__init__(**kwargs)\n"
          ]
        },
        {
          "output_type": "display_data",
          "data": {
            "text/plain": [
              "\u001b[1mModel: \"sequential\"\u001b[0m\n"
            ],
            "text/html": [
              "<pre style=\"white-space:pre;overflow-x:auto;line-height:normal;font-family:Menlo,'DejaVu Sans Mono',consolas,'Courier New',monospace\"><span style=\"font-weight: bold\">Model: \"sequential\"</span>\n",
              "</pre>\n"
            ]
          },
          "metadata": {}
        },
        {
          "output_type": "display_data",
          "data": {
            "text/plain": [
              "┏━━━━━━━━━━━━━━━━━━━━━━━━━━━━━━━━━━━━━━┳━━━━━━━━━━━━━━━━━━━━━━━━━━━━━┳━━━━━━━━━━━━━━━━━┓\n",
              "┃\u001b[1m \u001b[0m\u001b[1mLayer (type)                        \u001b[0m\u001b[1m \u001b[0m┃\u001b[1m \u001b[0m\u001b[1mOutput Shape               \u001b[0m\u001b[1m \u001b[0m┃\u001b[1m \u001b[0m\u001b[1m        Param #\u001b[0m\u001b[1m \u001b[0m┃\n",
              "┡━━━━━━━━━━━━━━━━━━━━━━━━━━━━━━━━━━━━━━╇━━━━━━━━━━━━━━━━━━━━━━━━━━━━━╇━━━━━━━━━━━━━━━━━┩\n",
              "│ embedding (\u001b[38;5;33mEmbedding\u001b[0m)                │ (\u001b[38;5;45mNone\u001b[0m, \u001b[38;5;45mNone\u001b[0m, \u001b[38;5;34m64\u001b[0m)            │          \u001b[38;5;34m67,648\u001b[0m │\n",
              "├──────────────────────────────────────┼─────────────────────────────┼─────────────────┤\n",
              "│ simple_rnn (\u001b[38;5;33mSimpleRNN\u001b[0m)               │ (\u001b[38;5;45mNone\u001b[0m, \u001b[38;5;45mNone\u001b[0m, \u001b[38;5;34m128\u001b[0m)           │          \u001b[38;5;34m24,704\u001b[0m │\n",
              "├──────────────────────────────────────┼─────────────────────────────┼─────────────────┤\n",
              "│ dropout (\u001b[38;5;33mDropout\u001b[0m)                    │ (\u001b[38;5;45mNone\u001b[0m, \u001b[38;5;45mNone\u001b[0m, \u001b[38;5;34m128\u001b[0m)           │               \u001b[38;5;34m0\u001b[0m │\n",
              "├──────────────────────────────────────┼─────────────────────────────┼─────────────────┤\n",
              "│ simple_rnn_1 (\u001b[38;5;33mSimpleRNN\u001b[0m)             │ (\u001b[38;5;45mNone\u001b[0m, \u001b[38;5;45mNone\u001b[0m, \u001b[38;5;34m128\u001b[0m)           │          \u001b[38;5;34m32,896\u001b[0m │\n",
              "├──────────────────────────────────────┼─────────────────────────────┼─────────────────┤\n",
              "│ dropout_1 (\u001b[38;5;33mDropout\u001b[0m)                  │ (\u001b[38;5;45mNone\u001b[0m, \u001b[38;5;45mNone\u001b[0m, \u001b[38;5;34m128\u001b[0m)           │               \u001b[38;5;34m0\u001b[0m │\n",
              "├──────────────────────────────────────┼─────────────────────────────┼─────────────────┤\n",
              "│ dense (\u001b[38;5;33mDense\u001b[0m)                        │ (\u001b[38;5;45mNone\u001b[0m, \u001b[38;5;45mNone\u001b[0m, \u001b[38;5;34m1057\u001b[0m)          │         \u001b[38;5;34m136,353\u001b[0m │\n",
              "└──────────────────────────────────────┴─────────────────────────────┴─────────────────┘\n"
            ],
            "text/html": [
              "<pre style=\"white-space:pre;overflow-x:auto;line-height:normal;font-family:Menlo,'DejaVu Sans Mono',consolas,'Courier New',monospace\">┏━━━━━━━━━━━━━━━━━━━━━━━━━━━━━━━━━━━━━━┳━━━━━━━━━━━━━━━━━━━━━━━━━━━━━┳━━━━━━━━━━━━━━━━━┓\n",
              "┃<span style=\"font-weight: bold\"> Layer (type)                         </span>┃<span style=\"font-weight: bold\"> Output Shape                </span>┃<span style=\"font-weight: bold\">         Param # </span>┃\n",
              "┡━━━━━━━━━━━━━━━━━━━━━━━━━━━━━━━━━━━━━━╇━━━━━━━━━━━━━━━━━━━━━━━━━━━━━╇━━━━━━━━━━━━━━━━━┩\n",
              "│ embedding (<span style=\"color: #0087ff; text-decoration-color: #0087ff\">Embedding</span>)                │ (<span style=\"color: #00d7ff; text-decoration-color: #00d7ff\">None</span>, <span style=\"color: #00d7ff; text-decoration-color: #00d7ff\">None</span>, <span style=\"color: #00af00; text-decoration-color: #00af00\">64</span>)            │          <span style=\"color: #00af00; text-decoration-color: #00af00\">67,648</span> │\n",
              "├──────────────────────────────────────┼─────────────────────────────┼─────────────────┤\n",
              "│ simple_rnn (<span style=\"color: #0087ff; text-decoration-color: #0087ff\">SimpleRNN</span>)               │ (<span style=\"color: #00d7ff; text-decoration-color: #00d7ff\">None</span>, <span style=\"color: #00d7ff; text-decoration-color: #00d7ff\">None</span>, <span style=\"color: #00af00; text-decoration-color: #00af00\">128</span>)           │          <span style=\"color: #00af00; text-decoration-color: #00af00\">24,704</span> │\n",
              "├──────────────────────────────────────┼─────────────────────────────┼─────────────────┤\n",
              "│ dropout (<span style=\"color: #0087ff; text-decoration-color: #0087ff\">Dropout</span>)                    │ (<span style=\"color: #00d7ff; text-decoration-color: #00d7ff\">None</span>, <span style=\"color: #00d7ff; text-decoration-color: #00d7ff\">None</span>, <span style=\"color: #00af00; text-decoration-color: #00af00\">128</span>)           │               <span style=\"color: #00af00; text-decoration-color: #00af00\">0</span> │\n",
              "├──────────────────────────────────────┼─────────────────────────────┼─────────────────┤\n",
              "│ simple_rnn_1 (<span style=\"color: #0087ff; text-decoration-color: #0087ff\">SimpleRNN</span>)             │ (<span style=\"color: #00d7ff; text-decoration-color: #00d7ff\">None</span>, <span style=\"color: #00d7ff; text-decoration-color: #00d7ff\">None</span>, <span style=\"color: #00af00; text-decoration-color: #00af00\">128</span>)           │          <span style=\"color: #00af00; text-decoration-color: #00af00\">32,896</span> │\n",
              "├──────────────────────────────────────┼─────────────────────────────┼─────────────────┤\n",
              "│ dropout_1 (<span style=\"color: #0087ff; text-decoration-color: #0087ff\">Dropout</span>)                  │ (<span style=\"color: #00d7ff; text-decoration-color: #00d7ff\">None</span>, <span style=\"color: #00d7ff; text-decoration-color: #00d7ff\">None</span>, <span style=\"color: #00af00; text-decoration-color: #00af00\">128</span>)           │               <span style=\"color: #00af00; text-decoration-color: #00af00\">0</span> │\n",
              "├──────────────────────────────────────┼─────────────────────────────┼─────────────────┤\n",
              "│ dense (<span style=\"color: #0087ff; text-decoration-color: #0087ff\">Dense</span>)                        │ (<span style=\"color: #00d7ff; text-decoration-color: #00d7ff\">None</span>, <span style=\"color: #00d7ff; text-decoration-color: #00d7ff\">None</span>, <span style=\"color: #00af00; text-decoration-color: #00af00\">1057</span>)          │         <span style=\"color: #00af00; text-decoration-color: #00af00\">136,353</span> │\n",
              "└──────────────────────────────────────┴─────────────────────────────┴─────────────────┘\n",
              "</pre>\n"
            ]
          },
          "metadata": {}
        },
        {
          "output_type": "display_data",
          "data": {
            "text/plain": [
              "\u001b[1m Total params: \u001b[0m\u001b[38;5;34m261,601\u001b[0m (1021.88 KB)\n"
            ],
            "text/html": [
              "<pre style=\"white-space:pre;overflow-x:auto;line-height:normal;font-family:Menlo,'DejaVu Sans Mono',consolas,'Courier New',monospace\"><span style=\"font-weight: bold\"> Total params: </span><span style=\"color: #00af00; text-decoration-color: #00af00\">261,601</span> (1021.88 KB)\n",
              "</pre>\n"
            ]
          },
          "metadata": {}
        },
        {
          "output_type": "display_data",
          "data": {
            "text/plain": [
              "\u001b[1m Trainable params: \u001b[0m\u001b[38;5;34m261,601\u001b[0m (1021.88 KB)\n"
            ],
            "text/html": [
              "<pre style=\"white-space:pre;overflow-x:auto;line-height:normal;font-family:Menlo,'DejaVu Sans Mono',consolas,'Courier New',monospace\"><span style=\"font-weight: bold\"> Trainable params: </span><span style=\"color: #00af00; text-decoration-color: #00af00\">261,601</span> (1021.88 KB)\n",
              "</pre>\n"
            ]
          },
          "metadata": {}
        },
        {
          "output_type": "display_data",
          "data": {
            "text/plain": [
              "\u001b[1m Non-trainable params: \u001b[0m\u001b[38;5;34m0\u001b[0m (0.00 B)\n"
            ],
            "text/html": [
              "<pre style=\"white-space:pre;overflow-x:auto;line-height:normal;font-family:Menlo,'DejaVu Sans Mono',consolas,'Courier New',monospace\"><span style=\"font-weight: bold\"> Non-trainable params: </span><span style=\"color: #00af00; text-decoration-color: #00af00\">0</span> (0.00 B)\n",
              "</pre>\n"
            ]
          },
          "metadata": {}
        }
      ]
    },
    {
      "cell_type": "markdown",
      "source": [
        "#### Entrenamiento"
      ],
      "metadata": {
        "id": "3f0j-l_NQMgQ"
      }
    },
    {
      "cell_type": "code",
      "source": [
        "# fiteamos, nótese el agregado del callback con su inicialización. El batch_size lo podemos seleccionar a mano\n",
        "# en general, lo mejor es escoger el batch más grande posible que minimice el tiempo de cada época.\n",
        "# En la variable `history_ppl` se guardarán los valores de perplejidad para cada época.\n",
        "import time\n",
        "\n",
        "history_ppl1 = []\n",
        "model1_name = \"SimpleRNN\"\n",
        "\n",
        "# Inicia el temporizador\n",
        "start_time = time.time()\n",
        "\n",
        "# Entrena el modelo\n",
        "hist1 = model1.fit(\n",
        "    X,\n",
        "    y,\n",
        "    epochs=20,\n",
        "    callbacks=[PplCallback(tokenized_sentences_val, history_ppl1, model1_name)],\n",
        "    batch_size=64\n",
        ")\n",
        "\n",
        "# Calcula el tiempo transcurrido+\n",
        "training_time_SimpleRNN = time.time() - start_time\n",
        "\n",
        "# Imprime el tiempo de entrenamiento\n",
        "print(f\"Tiempo de entrenamiento para {model1_name}: {training_time_SimpleRNN:.2f} segundos\")"
      ],
      "metadata": {
        "id": "a1qePzSgQN5-",
        "colab": {
          "base_uri": "https://localhost:8080/"
        },
        "outputId": "df52b847-b96e-4994-885f-9778e715d9a9"
      },
      "execution_count": 37,
      "outputs": [
        {
          "output_type": "stream",
          "name": "stdout",
          "text": [
            "Epoch 1/20\n",
            "\u001b[1m221/221\u001b[0m \u001b[32m━━━━━━━━━━━━━━━━━━━━\u001b[0m\u001b[37m\u001b[0m \u001b[1m0s\u001b[0m 41ms/step - loss: 3.3304\n",
            " mean perplexity: 264525.1178739976 \n",
            "\n",
            "Saved new model!\n",
            "\u001b[1m221/221\u001b[0m \u001b[32m━━━━━━━━━━━━━━━━━━━━\u001b[0m\u001b[37m\u001b[0m \u001b[1m15s\u001b[0m 46ms/step - loss: 3.3270\n",
            "Epoch 2/20\n",
            "\u001b[1m219/221\u001b[0m \u001b[32m━━━━━━━━━━━━━━━━━━━\u001b[0m\u001b[37m━\u001b[0m \u001b[1m0s\u001b[0m 29ms/step - loss: 1.1950\n",
            " mean perplexity: 527246.865979942 \n",
            "\n",
            "\u001b[1m221/221\u001b[0m \u001b[32m━━━━━━━━━━━━━━━━━━━━\u001b[0m\u001b[37m\u001b[0m \u001b[1m7s\u001b[0m 30ms/step - loss: 1.1912\n",
            "Epoch 3/20\n",
            "\u001b[1m219/221\u001b[0m \u001b[32m━━━━━━━━━━━━━━━━━━━\u001b[0m\u001b[37m━\u001b[0m \u001b[1m0s\u001b[0m 28ms/step - loss: 0.4927\n",
            " mean perplexity: 482725.72717784415 \n",
            "\n",
            "\u001b[1m221/221\u001b[0m \u001b[32m━━━━━━━━━━━━━━━━━━━━\u001b[0m\u001b[37m\u001b[0m \u001b[1m7s\u001b[0m 30ms/step - loss: 0.4921\n",
            "Epoch 4/20\n",
            "\u001b[1m219/221\u001b[0m \u001b[32m━━━━━━━━━━━━━━━━━━━\u001b[0m\u001b[37m━\u001b[0m \u001b[1m0s\u001b[0m 29ms/step - loss: 0.3521\n",
            " mean perplexity: 441584.6964412978 \n",
            "\n",
            "\u001b[1m221/221\u001b[0m \u001b[32m━━━━━━━━━━━━━━━━━━━━\u001b[0m\u001b[37m\u001b[0m \u001b[1m7s\u001b[0m 30ms/step - loss: 0.3518\n",
            "Epoch 5/20\n",
            "\u001b[1m219/221\u001b[0m \u001b[32m━━━━━━━━━━━━━━━━━━━\u001b[0m\u001b[37m━\u001b[0m \u001b[1m0s\u001b[0m 29ms/step - loss: 0.2981\n",
            " mean perplexity: 426468.2237920836 \n",
            "\n",
            "\u001b[1m221/221\u001b[0m \u001b[32m━━━━━━━━━━━━━━━━━━━━\u001b[0m\u001b[37m\u001b[0m \u001b[1m7s\u001b[0m 30ms/step - loss: 0.2980\n",
            "Epoch 6/20\n",
            "\u001b[1m219/221\u001b[0m \u001b[32m━━━━━━━━━━━━━━━━━━━\u001b[0m\u001b[37m━\u001b[0m \u001b[1m0s\u001b[0m 28ms/step - loss: 0.2619\n",
            " mean perplexity: 587794.233422177 \n",
            "\n",
            "Stopping training...\n",
            "\u001b[1m221/221\u001b[0m \u001b[32m━━━━━━━━━━━━━━━━━━━━\u001b[0m\u001b[37m\u001b[0m \u001b[1m7s\u001b[0m 30ms/step - loss: 0.2618\n",
            "Tiempo de entrenamiento para SimpleRNN: 48.34 segundos\n"
          ]
        }
      ]
    },
    {
      "cell_type": "code",
      "source": [
        "plot_model_history(history_ppl1, model1_name)"
      ],
      "metadata": {
        "id": "ea4C64qhk2_s",
        "colab": {
          "base_uri": "https://localhost:8080/",
          "height": 472
        },
        "outputId": "12633ce1-b8d0-42ec-e9cd-85b25d1d70bc"
      },
      "execution_count": 38,
      "outputs": [
        {
          "output_type": "display_data",
          "data": {
            "text/plain": [
              "<Figure size 640x480 with 1 Axes>"
            ],
            "image/png": "[encoded data removed]"
          },
          "metadata": {}
        }
      ]
    },
    {
      "cell_type": "code",
      "source": [
        "# Cargamos el mejor modelo guardado del entrenamiento para hacer inferencia\n",
        "model1 = keras.models.load_model(f'{model1_name}.keras')"
      ],
      "metadata": {
        "id": "l7cpy3HTk5lg"
      },
      "execution_count": 39,
      "outputs": []
    },
    {
      "cell_type": "markdown",
      "source": [
        "Hacemos predict de una palabra"
      ],
      "metadata": {
        "id": "UA1c7bmhk-eK"
      }
    },
    {
      "cell_type": "code",
      "source": [
        "predict_with_gradio(model1)"
      ],
      "metadata": {
        "id": "R6lEPQWlk_Af",
        "colab": {
          "base_uri": "https://localhost:8080/",
          "height": 715
        },
        "outputId": "eba5f822-25b5-49a9-ff7f-57bff2744444"
      },
      "execution_count": 40,
      "outputs": [
        {
          "output_type": "stream",
          "name": "stdout",
          "text": [
            "Running Gradio in a Colab notebook requires sharing enabled. Automatically setting `share=True` (you can turn this off by setting `share=False` in `launch()` explicitly).\n",
            "\n",
            "Colab notebook detected. This cell will run indefinitely so that you can see errors and logs. To turn off, set debug=False in launch().\n",
            "* Running on public URL: https://040682048afb3bab92.gradio.live\n",
            "\n",
            "This share link expires in 72 hours. For free permanent hosting and GPU upgrades, run `gradio deploy` from the terminal in the working directory to deploy to Hugging Face Spaces (https://huggingface.co/spaces)\n"
          ]
        },
        {
          "output_type": "display_data",
          "data": {
            "text/plain": [
              "<IPython.core.display.HTML object>"
            ],
            "text/html": [
              "<div><iframe src=\"https://040682048afb3bab92.gradio.live\" width=\"100%\" height=\"500\" allow=\"autoplay; camera; microphone; clipboard-read; clipboard-write;\" frameborder=\"0\" allowfullscreen></iframe></div>"
            ]
          },
          "metadata": {}
        },
        {
          "output_type": "stream",
          "name": "stdout",
          "text": [
            "\u001b[1m1/1\u001b[0m \u001b[32m━━━━━━━━━━━━━━━━━━━━\u001b[0m\u001b[37m\u001b[0m \u001b[1m1s\u001b[0m 537ms/step\n",
            "\u001b[1m1/1\u001b[0m \u001b[32m━━━━━━━━━━━━━━━━━━━━\u001b[0m\u001b[37m\u001b[0m \u001b[1m0s\u001b[0m 17ms/step\n",
            "Keyboard interruption in main thread... closing server.\n",
            "Killing tunnel 127.0.0.1:7860 <> https://040682048afb3bab92.gradio.live\n"
          ]
        }
      ]
    },
    {
      "cell_type": "markdown",
      "source": [
        "#### Generación de secuencias"
      ],
      "metadata": {
        "id": "iWXd5AM6lW13"
      }
    },
    {
      "cell_type": "code",
      "source": [
        "input_text='Las costumbres de los'\n",
        "\n",
        "generate_seq(model1, tok, input_text, max_length=max_context_size, n_words=10)"
      ],
      "metadata": {
        "id": "TytU2I3UlV7M",
        "colab": {
          "base_uri": "https://localhost:8080/",
          "height": 209
        },
        "outputId": "9cdf861c-f4ad-4d57-ef2c-70681c112db3"
      },
      "execution_count": 41,
      "outputs": [
        {
          "output_type": "stream",
          "name": "stdout",
          "text": [
            "\u001b[1m1/1\u001b[0m \u001b[32m━━━━━━━━━━━━━━━━━━━━\u001b[0m\u001b[37m\u001b[0m \u001b[1m0s\u001b[0m 17ms/step\n",
            "\u001b[1m1/1\u001b[0m \u001b[32m━━━━━━━━━━━━━━━━━━━━\u001b[0m\u001b[37m\u001b[0m \u001b[1m0s\u001b[0m 19ms/step\n",
            "\u001b[1m1/1\u001b[0m \u001b[32m━━━━━━━━━━━━━━━━━━━━\u001b[0m\u001b[37m\u001b[0m \u001b[1m0s\u001b[0m 17ms/step\n",
            "\u001b[1m1/1\u001b[0m \u001b[32m━━━━━━━━━━━━━━━━━━━━\u001b[0m\u001b[37m\u001b[0m \u001b[1m0s\u001b[0m 17ms/step\n",
            "\u001b[1m1/1\u001b[0m \u001b[32m━━━━━━━━━━━━━━━━━━━━\u001b[0m\u001b[37m\u001b[0m \u001b[1m0s\u001b[0m 24ms/step\n",
            "\u001b[1m1/1\u001b[0m \u001b[32m━━━━━━━━━━━━━━━━━━━━\u001b[0m\u001b[37m\u001b[0m \u001b[1m0s\u001b[0m 17ms/step\n",
            "\u001b[1m1/1\u001b[0m \u001b[32m━━━━━━━━━━━━━━━━━━━━\u001b[0m\u001b[37m\u001b[0m \u001b[1m0s\u001b[0m 17ms/step\n",
            "\u001b[1m1/1\u001b[0m \u001b[32m━━━━━━━━━━━━━━━━━━━━\u001b[0m\u001b[37m\u001b[0m \u001b[1m0s\u001b[0m 17ms/step\n",
            "\u001b[1m1/1\u001b[0m \u001b[32m━━━━━━━━━━━━━━━━━━━━\u001b[0m\u001b[37m\u001b[0m \u001b[1m0s\u001b[0m 17ms/step\n",
            "\u001b[1m1/1\u001b[0m \u001b[32m━━━━━━━━━━━━━━━━━━━━\u001b[0m\u001b[37m\u001b[0m \u001b[1m0s\u001b[0m 18ms/step\n"
          ]
        },
        {
          "output_type": "execute_result",
          "data": {
            "text/plain": [
              "'Las costumbres de los la tenga siempre está próxima a ninguna senda y no'"
            ],
            "application/vnd.google.colaboratory.intrinsic+json": {
              "type": "string"
            }
          },
          "metadata": {},
          "execution_count": 41
        }
      ]
    },
    {
      "cell_type": "code",
      "source": [
        "input_text='Los Thenardier se habían instalado'\n",
        "generate_seq(model1, tok, input_text, max_length=max_context_size, n_words=10)"
      ],
      "metadata": {
        "id": "_PcllEuMo6Td",
        "colab": {
          "base_uri": "https://localhost:8080/",
          "height": 209
        },
        "outputId": "e0747e78-8172-4306-a74c-0c6dedc2f45b"
      },
      "execution_count": 42,
      "outputs": [
        {
          "output_type": "stream",
          "name": "stdout",
          "text": [
            "\u001b[1m1/1\u001b[0m \u001b[32m━━━━━━━━━━━━━━━━━━━━\u001b[0m\u001b[37m\u001b[0m \u001b[1m0s\u001b[0m 17ms/step\n",
            "\u001b[1m1/1\u001b[0m \u001b[32m━━━━━━━━━━━━━━━━━━━━\u001b[0m\u001b[37m\u001b[0m \u001b[1m0s\u001b[0m 17ms/step\n",
            "\u001b[1m1/1\u001b[0m \u001b[32m━━━━━━━━━━━━━━━━━━━━\u001b[0m\u001b[37m\u001b[0m \u001b[1m0s\u001b[0m 17ms/step\n",
            "\u001b[1m1/1\u001b[0m \u001b[32m━━━━━━━━━━━━━━━━━━━━\u001b[0m\u001b[37m\u001b[0m \u001b[1m0s\u001b[0m 17ms/step\n",
            "\u001b[1m1/1\u001b[0m \u001b[32m━━━━━━━━━━━━━━━━━━━━\u001b[0m\u001b[37m\u001b[0m \u001b[1m0s\u001b[0m 17ms/step\n",
            "\u001b[1m1/1\u001b[0m \u001b[32m━━━━━━━━━━━━━━━━━━━━\u001b[0m\u001b[37m\u001b[0m \u001b[1m0s\u001b[0m 18ms/step\n",
            "\u001b[1m1/1\u001b[0m \u001b[32m━━━━━━━━━━━━━━━━━━━━\u001b[0m\u001b[37m\u001b[0m \u001b[1m0s\u001b[0m 18ms/step\n",
            "\u001b[1m1/1\u001b[0m \u001b[32m━━━━━━━━━━━━━━━━━━━━\u001b[0m\u001b[37m\u001b[0m \u001b[1m0s\u001b[0m 18ms/step\n",
            "\u001b[1m1/1\u001b[0m \u001b[32m━━━━━━━━━━━━━━━━━━━━\u001b[0m\u001b[37m\u001b[0m \u001b[1m0s\u001b[0m 17ms/step\n",
            "\u001b[1m1/1\u001b[0m \u001b[32m━━━━━━━━━━━━━━━━━━━━\u001b[0m\u001b[37m\u001b[0m \u001b[1m0s\u001b[0m 17ms/step\n"
          ]
        },
        {
          "output_type": "execute_result",
          "data": {
            "text/plain": [
              "'Los Thenardier se habían instalado la pone en la leyó que la tiró hecha cuatro'"
            ],
            "application/vnd.google.colaboratory.intrinsic+json": {
              "type": "string"
            }
          },
          "metadata": {},
          "execution_count": 42
        }
      ]
    },
    {
      "cell_type": "markdown",
      "source": [
        "Los textos predichos no tienen mucha coherencia"
      ],
      "metadata": {
        "id": "OsUy79Y4pFVj"
      }
    },
    {
      "cell_type": "markdown",
      "source": [
        "####  Beam search y muestreo aleatorio"
      ],
      "metadata": {
        "id": "l_-3FVwHpTof"
      }
    },
    {
      "cell_type": "code",
      "source": [
        "temps = [1, 10, 15]\n",
        "num_beams_list = [3, 4, 5]  # Lista con los valores para el número de \"beams\"\n",
        "\n",
        "for temp in temps:\n",
        "    for num_beams in num_beams_list:\n",
        "        print(f\"Temperatura: {temp}, Número de beams: {num_beams}\")\n",
        "        salidas = beam_search(model1, num_beams=num_beams, num_words=6, input=\"Los Thenardier\", temp=temp, mode='sto')\n",
        "        for idx, salida in enumerate(salidas):\n",
        "            print(f\"Salida {idx + 1}: {decode(salida)}\")\n",
        "        print()"
      ],
      "metadata": {
        "id": "qPyHKpznpSGk",
        "colab": {
          "base_uri": "https://localhost:8080/"
        },
        "outputId": "2ff05dae-45ad-439c-8d86-69c139a7a178"
      },
      "execution_count": 43,
      "outputs": [
        {
          "output_type": "stream",
          "name": "stdout",
          "text": [
            "Temperatura: 1, Número de beams: 3\n",
            "Salida 1: ['los thenardier se en en no está próxima']\n",
            "Salida 2: ['los thenardier se en en no próxima al']\n",
            "Salida 3: ['los thenardier se en en no próxima cruzó']\n",
            "\n",
            "Temperatura: 1, Número de beams: 4\n",
            "Salida 1: ['los thenardier no está temblando los sus por']\n",
            "Salida 2: ['los thenardier no está temblando los sus desfigurada']\n",
            "Salida 3: ['los thenardier no está temblando los sus seis']\n",
            "Salida 4: ['los thenardier no está temblando los sus lo']\n",
            "\n",
            "Temperatura: 1, Número de beams: 5\n",
            "Salida 1: ['los thenardier las sobre de la niña es']\n",
            "Salida 2: ['los thenardier las sobre de la niña del']\n",
            "Salida 3: ['los thenardier las sobre de la niña de']\n",
            "Salida 4: ['los thenardier las sobre de la sombra fue']\n",
            "Salida 5: ['los thenardier las sobre de la niña lo']\n",
            "\n",
            "Temperatura: 10, Número de beams: 3\n",
            "Salida 1: ['los thenardier verá sus padre seis colores silenciosa']\n",
            "Salida 2: ['los thenardier verá sus padre enormes forastera sangre']\n",
            "Salida 3: ['los thenardier verá sus padre enormes forastera primeros']\n",
            "\n",
            "Temperatura: 10, Número de beams: 4\n",
            "Salida 1: ['los thenardier quin\\xadce interiores semana esperándote aquí primero']\n",
            "Salida 2: ['los thenardier quin\\xadce interiores semana esperándote aquí difíciles']\n",
            "Salida 3: ['los thenardier quin\\xadce interiores semana esperándote aquí naturalmente']\n",
            "Salida 4: ['los thenardier quin\\xadce interiores pesado fría joven obligados']\n",
            "\n",
            "Temperatura: 10, Número de beams: 5\n",
            "Salida 1: ['los thenardier también grantaire por años felices laigle']\n",
            "Salida 2: ['los thenardier también grantaire por entrar hijas aquél']\n",
            "Salida 3: ['los thenardier también grantaire por entrar hijas napoleón']\n",
            "Salida 4: ['los thenardier materia la recurrir deslizándose abuelo media']\n",
            "Salida 5: ['los thenardier materia poder viaje contiguo sala fue\\xadron']\n",
            "\n",
            "Temperatura: 15, Número de beams: 3\n",
            "Salida 1: ['los thenardier vidrios espectáculo crédito acercó materia respondió']\n",
            "Salida 2: ['los thenardier las daré desapareció señorita detendrá bastante']\n",
            "Salida 3: ['los thenardier vidrios espectáculo crédito acercó veré malsana']\n",
            "\n",
            "Temperatura: 15, Número de beams: 4\n",
            "Salida 1: ['los thenardier brillo gran en camino fa\\xadbontou terribles']\n",
            "Salida 2: ['los thenardier perfil hecho alrededor director desaparece solo']\n",
            "Salida 3: ['los thenardier brillo gran en frente combeferre detes\\xadtara']\n",
            "Salida 4: ['los thenardier brillo gran en frente combeferre poder']\n",
            "\n",
            "Temperatura: 15, Número de beams: 5\n",
            "Salida 1: ['los thenardier digo niña estremecer desco\\xadlorida iba observa']\n",
            "Salida 2: ['los thenardier digo niña estremecer desco\\xadlorida quedaron árbol']\n",
            "Salida 3: ['los thenardier digo niña estremecer desco\\xadlorida traerla fría']\n",
            "Salida 4: ['los thenardier digo niña estremecer desco\\xadlorida iba entu\\xadsiasmo']\n",
            "Salida 5: ['los thenardier digo niña estremecer desco\\xadlorida quedaron imitadoras']\n",
            "\n"
          ]
        }
      ]
    },
    {
      "cell_type": "markdown",
      "source": [
        "### Modelo 2: LSTM_1\n",
        "\n"
      ],
      "metadata": {
        "id": "7BvBL3deehHT"
      }
    },
    {
      "cell_type": "code",
      "source": [
        "\n",
        "model2 = Sequential()\n",
        "\n",
        "# Capa de embedding entrenable\n",
        "model2.add(Embedding(input_dim=vocab_size+1, output_dim=64, input_shape=(None,)))\n",
        "\n",
        "# SimpleRNN\n",
        "model2.add(LSTM(128, return_sequences=True))\n",
        "model2.add(Dropout(0.2))\n",
        "model2.add(LSTM(128, return_sequences=True))\n",
        "model2.add(Dropout(0.2))\n",
        "\n",
        "# Predicción de clasificación con softmax\n",
        "model2.add(Dense(vocab_size+1, activation='softmax'))\n",
        "\n",
        "model2.compile(loss=SparseCategoricalCrossentropy(), optimizer='rmsprop')\n",
        "\n",
        "model2.summary()"
      ],
      "metadata": {
        "colab": {
          "base_uri": "https://localhost:8080/",
          "height": 395
        },
        "id": "aDm3ZctKegFR",
        "outputId": "a8484e2c-7615-4371-d39f-b457c49e0b94"
      },
      "execution_count": 44,
      "outputs": [
        {
          "output_type": "stream",
          "name": "stderr",
          "text": [
            "/usr/local/lib/python3.10/dist-packages/keras/src/layers/core/embedding.py:93: UserWarning: Do not pass an `input_shape`/`input_dim` argument to a layer. When using Sequential models, prefer using an `Input(shape)` object as the first layer in the model instead.\n",
            "  super().__init__(**kwargs)\n"
          ]
        },
        {
          "output_type": "display_data",
          "data": {
            "text/plain": [
              "\u001b[1mModel: \"sequential_1\"\u001b[0m\n"
            ],
            "text/html": [
              "<pre style=\"white-space:pre;overflow-x:auto;line-height:normal;font-family:Menlo,'DejaVu Sans Mono',consolas,'Courier New',monospace\"><span style=\"font-weight: bold\">Model: \"sequential_1\"</span>\n",
              "</pre>\n"
            ]
          },
          "metadata": {}
        },
        {
          "output_type": "display_data",
          "data": {
            "text/plain": [
              "┏━━━━━━━━━━━━━━━━━━━━━━━━━━━━━━━━━━━━━━┳━━━━━━━━━━━━━━━━━━━━━━━━━━━━━┳━━━━━━━━━━━━━━━━━┓\n",
              "┃\u001b[1m \u001b[0m\u001b[1mLayer (type)                        \u001b[0m\u001b[1m \u001b[0m┃\u001b[1m \u001b[0m\u001b[1mOutput Shape               \u001b[0m\u001b[1m \u001b[0m┃\u001b[1m \u001b[0m\u001b[1m        Param #\u001b[0m\u001b[1m \u001b[0m┃\n",
              "┡━━━━━━━━━━━━━━━━━━━━━━━━━━━━━━━━━━━━━━╇━━━━━━━━━━━━━━━━━━━━━━━━━━━━━╇━━━━━━━━━━━━━━━━━┩\n",
              "│ embedding_1 (\u001b[38;5;33mEmbedding\u001b[0m)              │ (\u001b[38;5;45mNone\u001b[0m, \u001b[38;5;45mNone\u001b[0m, \u001b[38;5;34m64\u001b[0m)            │          \u001b[38;5;34m67,648\u001b[0m │\n",
              "├──────────────────────────────────────┼─────────────────────────────┼─────────────────┤\n",
              "│ lstm (\u001b[38;5;33mLSTM\u001b[0m)                          │ (\u001b[38;5;45mNone\u001b[0m, \u001b[38;5;45mNone\u001b[0m, \u001b[38;5;34m128\u001b[0m)           │          \u001b[38;5;34m98,816\u001b[0m │\n",
              "├──────────────────────────────────────┼─────────────────────────────┼─────────────────┤\n",
              "│ dropout_2 (\u001b[38;5;33mDropout\u001b[0m)                  │ (\u001b[38;5;45mNone\u001b[0m, \u001b[38;5;45mNone\u001b[0m, \u001b[38;5;34m128\u001b[0m)           │               \u001b[38;5;34m0\u001b[0m │\n",
              "├──────────────────────────────────────┼─────────────────────────────┼─────────────────┤\n",
              "│ lstm_1 (\u001b[38;5;33mLSTM\u001b[0m)                        │ (\u001b[38;5;45mNone\u001b[0m, \u001b[38;5;45mNone\u001b[0m, \u001b[38;5;34m128\u001b[0m)           │         \u001b[38;5;34m131,584\u001b[0m │\n",
              "├──────────────────────────────────────┼─────────────────────────────┼─────────────────┤\n",
              "│ dropout_3 (\u001b[38;5;33mDropout\u001b[0m)                  │ (\u001b[38;5;45mNone\u001b[0m, \u001b[38;5;45mNone\u001b[0m, \u001b[38;5;34m128\u001b[0m)           │               \u001b[38;5;34m0\u001b[0m │\n",
              "├──────────────────────────────────────┼─────────────────────────────┼─────────────────┤\n",
              "│ dense_1 (\u001b[38;5;33mDense\u001b[0m)                      │ (\u001b[38;5;45mNone\u001b[0m, \u001b[38;5;45mNone\u001b[0m, \u001b[38;5;34m1057\u001b[0m)          │         \u001b[38;5;34m136,353\u001b[0m │\n",
              "└──────────────────────────────────────┴─────────────────────────────┴─────────────────┘\n"
            ],
            "text/html": [
              "<pre style=\"white-space:pre;overflow-x:auto;line-height:normal;font-family:Menlo,'DejaVu Sans Mono',consolas,'Courier New',monospace\">┏━━━━━━━━━━━━━━━━━━━━━━━━━━━━━━━━━━━━━━┳━━━━━━━━━━━━━━━━━━━━━━━━━━━━━┳━━━━━━━━━━━━━━━━━┓\n",
              "┃<span style=\"font-weight: bold\"> Layer (type)                         </span>┃<span style=\"font-weight: bold\"> Output Shape                </span>┃<span style=\"font-weight: bold\">         Param # </span>┃\n",
              "┡━━━━━━━━━━━━━━━━━━━━━━━━━━━━━━━━━━━━━━╇━━━━━━━━━━━━━━━━━━━━━━━━━━━━━╇━━━━━━━━━━━━━━━━━┩\n",
              "│ embedding_1 (<span style=\"color: #0087ff; text-decoration-color: #0087ff\">Embedding</span>)              │ (<span style=\"color: #00d7ff; text-decoration-color: #00d7ff\">None</span>, <span style=\"color: #00d7ff; text-decoration-color: #00d7ff\">None</span>, <span style=\"color: #00af00; text-decoration-color: #00af00\">64</span>)            │          <span style=\"color: #00af00; text-decoration-color: #00af00\">67,648</span> │\n",
              "├──────────────────────────────────────┼─────────────────────────────┼─────────────────┤\n",
              "│ lstm (<span style=\"color: #0087ff; text-decoration-color: #0087ff\">LSTM</span>)                          │ (<span style=\"color: #00d7ff; text-decoration-color: #00d7ff\">None</span>, <span style=\"color: #00d7ff; text-decoration-color: #00d7ff\">None</span>, <span style=\"color: #00af00; text-decoration-color: #00af00\">128</span>)           │          <span style=\"color: #00af00; text-decoration-color: #00af00\">98,816</span> │\n",
              "├──────────────────────────────────────┼─────────────────────────────┼─────────────────┤\n",
              "│ dropout_2 (<span style=\"color: #0087ff; text-decoration-color: #0087ff\">Dropout</span>)                  │ (<span style=\"color: #00d7ff; text-decoration-color: #00d7ff\">None</span>, <span style=\"color: #00d7ff; text-decoration-color: #00d7ff\">None</span>, <span style=\"color: #00af00; text-decoration-color: #00af00\">128</span>)           │               <span style=\"color: #00af00; text-decoration-color: #00af00\">0</span> │\n",
              "├──────────────────────────────────────┼─────────────────────────────┼─────────────────┤\n",
              "│ lstm_1 (<span style=\"color: #0087ff; text-decoration-color: #0087ff\">LSTM</span>)                        │ (<span style=\"color: #00d7ff; text-decoration-color: #00d7ff\">None</span>, <span style=\"color: #00d7ff; text-decoration-color: #00d7ff\">None</span>, <span style=\"color: #00af00; text-decoration-color: #00af00\">128</span>)           │         <span style=\"color: #00af00; text-decoration-color: #00af00\">131,584</span> │\n",
              "├──────────────────────────────────────┼─────────────────────────────┼─────────────────┤\n",
              "│ dropout_3 (<span style=\"color: #0087ff; text-decoration-color: #0087ff\">Dropout</span>)                  │ (<span style=\"color: #00d7ff; text-decoration-color: #00d7ff\">None</span>, <span style=\"color: #00d7ff; text-decoration-color: #00d7ff\">None</span>, <span style=\"color: #00af00; text-decoration-color: #00af00\">128</span>)           │               <span style=\"color: #00af00; text-decoration-color: #00af00\">0</span> │\n",
              "├──────────────────────────────────────┼─────────────────────────────┼─────────────────┤\n",
              "│ dense_1 (<span style=\"color: #0087ff; text-decoration-color: #0087ff\">Dense</span>)                      │ (<span style=\"color: #00d7ff; text-decoration-color: #00d7ff\">None</span>, <span style=\"color: #00d7ff; text-decoration-color: #00d7ff\">None</span>, <span style=\"color: #00af00; text-decoration-color: #00af00\">1057</span>)          │         <span style=\"color: #00af00; text-decoration-color: #00af00\">136,353</span> │\n",
              "└──────────────────────────────────────┴─────────────────────────────┴─────────────────┘\n",
              "</pre>\n"
            ]
          },
          "metadata": {}
        },
        {
          "output_type": "display_data",
          "data": {
            "text/plain": [
              "\u001b[1m Total params: \u001b[0m\u001b[38;5;34m434,401\u001b[0m (1.66 MB)\n"
            ],
            "text/html": [
              "<pre style=\"white-space:pre;overflow-x:auto;line-height:normal;font-family:Menlo,'DejaVu Sans Mono',consolas,'Courier New',monospace\"><span style=\"font-weight: bold\"> Total params: </span><span style=\"color: #00af00; text-decoration-color: #00af00\">434,401</span> (1.66 MB)\n",
              "</pre>\n"
            ]
          },
          "metadata": {}
        },
        {
          "output_type": "display_data",
          "data": {
            "text/plain": [
              "\u001b[1m Trainable params: \u001b[0m\u001b[38;5;34m434,401\u001b[0m (1.66 MB)\n"
            ],
            "text/html": [
              "<pre style=\"white-space:pre;overflow-x:auto;line-height:normal;font-family:Menlo,'DejaVu Sans Mono',consolas,'Courier New',monospace\"><span style=\"font-weight: bold\"> Trainable params: </span><span style=\"color: #00af00; text-decoration-color: #00af00\">434,401</span> (1.66 MB)\n",
              "</pre>\n"
            ]
          },
          "metadata": {}
        },
        {
          "output_type": "display_data",
          "data": {
            "text/plain": [
              "\u001b[1m Non-trainable params: \u001b[0m\u001b[38;5;34m0\u001b[0m (0.00 B)\n"
            ],
            "text/html": [
              "<pre style=\"white-space:pre;overflow-x:auto;line-height:normal;font-family:Menlo,'DejaVu Sans Mono',consolas,'Courier New',monospace\"><span style=\"font-weight: bold\"> Non-trainable params: </span><span style=\"color: #00af00; text-decoration-color: #00af00\">0</span> (0.00 B)\n",
              "</pre>\n"
            ]
          },
          "metadata": {}
        }
      ]
    },
    {
      "cell_type": "markdown",
      "source": [
        "#### Entrenamiento"
      ],
      "metadata": {
        "id": "pB49ppymemFe"
      }
    },
    {
      "cell_type": "code",
      "source": [
        "import time\n",
        "\n",
        "# Variable para almacenar los valores de perplejidad\n",
        "history_ppl2 = []\n",
        "model2_name = \"LSTM1\"\n",
        "\n",
        "# Inicia el temporizador\n",
        "start_time = time.time()\n",
        "\n",
        "# Entrenamiento del modelo\n",
        "hist2 = model2.fit(\n",
        "    X,\n",
        "    y,\n",
        "    epochs=20,\n",
        "    callbacks=[PplCallback(tokenized_sentences_val, history_ppl2, model2_name)],\n",
        "    batch_size=64\n",
        ")\n",
        "\n",
        "# Calcula el tiempo de entrenamiento\n",
        "training_time_LSTM1 = time.time() - start_time\n",
        "\n",
        "# Imprime el tiempo de entrenamiento\n",
        "print(f\"Tiempo de entrenamiento para {model2_name}: {training_time_LSTM1 :.2f} segundos\")"
      ],
      "metadata": {
        "colab": {
          "base_uri": "https://localhost:8080/"
        },
        "id": "9L46DRHaenXf",
        "outputId": "538f8b08-09ab-47a8-aa60-c77eb644bb18"
      },
      "execution_count": 45,
      "outputs": [
        {
          "output_type": "stream",
          "name": "stdout",
          "text": [
            "Epoch 1/20\n",
            "\u001b[1m217/221\u001b[0m \u001b[32m━━━━━━━━━━━━━━━━━━━\u001b[0m\u001b[37m━\u001b[0m \u001b[1m0s\u001b[0m 11ms/step - loss: 3.5893\n",
            " mean perplexity: 387714.2880281776 \n",
            "\n",
            "Saved new model!\n",
            "\u001b[1m221/221\u001b[0m \u001b[32m━━━━━━━━━━━━━━━━━━━━\u001b[0m\u001b[37m\u001b[0m \u001b[1m7s\u001b[0m 13ms/step - loss: 3.5745\n",
            "Epoch 2/20\n",
            "\u001b[1m221/221\u001b[0m \u001b[32m━━━━━━━━━━━━━━━━━━━━\u001b[0m\u001b[37m\u001b[0m \u001b[1m0s\u001b[0m 10ms/step - loss: 2.5396\n",
            " mean perplexity: 540016.2177144358 \n",
            "\n",
            "\u001b[1m221/221\u001b[0m \u001b[32m━━━━━━━━━━━━━━━━━━━━\u001b[0m\u001b[37m\u001b[0m \u001b[1m3s\u001b[0m 12ms/step - loss: 2.5392\n",
            "Epoch 3/20\n",
            "\u001b[1m221/221\u001b[0m \u001b[32m━━━━━━━━━━━━━━━━━━━━\u001b[0m\u001b[37m\u001b[0m \u001b[1m0s\u001b[0m 10ms/step - loss: 2.1926\n",
            " mean perplexity: 525567.8536032195 \n",
            "\n",
            "\u001b[1m221/221\u001b[0m \u001b[32m━━━━━━━━━━━━━━━━━━━━\u001b[0m\u001b[37m\u001b[0m \u001b[1m3s\u001b[0m 12ms/step - loss: 2.1922\n",
            "Epoch 4/20\n",
            "\u001b[1m217/221\u001b[0m \u001b[32m━━━━━━━━━━━━━━━━━━━\u001b[0m\u001b[37m━\u001b[0m \u001b[1m0s\u001b[0m 10ms/step - loss: 1.8442\n",
            " mean perplexity: 566203.4016757486 \n",
            "\n",
            "\u001b[1m221/221\u001b[0m \u001b[32m━━━━━━━━━━━━━━━━━━━━\u001b[0m\u001b[37m\u001b[0m \u001b[1m3s\u001b[0m 11ms/step - loss: 1.8423\n",
            "Epoch 5/20\n",
            "\u001b[1m221/221\u001b[0m \u001b[32m━━━━━━━━━━━━━━━━━━━━\u001b[0m\u001b[37m\u001b[0m \u001b[1m0s\u001b[0m 10ms/step - loss: 1.5019\n",
            " mean perplexity: 627850.7246419685 \n",
            "\n",
            "\u001b[1m221/221\u001b[0m \u001b[32m━━━━━━━━━━━━━━━━━━━━\u001b[0m\u001b[37m\u001b[0m \u001b[1m3s\u001b[0m 11ms/step - loss: 1.5016\n",
            "Epoch 6/20\n",
            "\u001b[1m216/221\u001b[0m \u001b[32m━━━━━━━━━━━━━━━━━━━\u001b[0m\u001b[37m━\u001b[0m \u001b[1m0s\u001b[0m 10ms/step - loss: 1.2116\n",
            " mean perplexity: 249059.05794052803 \n",
            "\n",
            "Saved new model!\n",
            "\u001b[1m221/221\u001b[0m \u001b[32m━━━━━━━━━━━━━━━━━━━━\u001b[0m\u001b[37m\u001b[0m \u001b[1m3s\u001b[0m 11ms/step - loss: 1.2098\n",
            "Epoch 7/20\n",
            "\u001b[1m216/221\u001b[0m \u001b[32m━━━━━━━━━━━━━━━━━━━\u001b[0m\u001b[37m━\u001b[0m \u001b[1m0s\u001b[0m 10ms/step - loss: 0.9700\n",
            " mean perplexity: 653489.0762841874 \n",
            "\n",
            "\u001b[1m221/221\u001b[0m \u001b[32m━━━━━━━━━━━━━━━━━━━━\u001b[0m\u001b[37m\u001b[0m \u001b[1m3s\u001b[0m 12ms/step - loss: 0.9689\n",
            "Epoch 8/20\n",
            "\u001b[1m216/221\u001b[0m \u001b[32m━━━━━━━━━━━━━━━━━━━\u001b[0m\u001b[37m━\u001b[0m \u001b[1m0s\u001b[0m 10ms/step - loss: 0.8080\n",
            " mean perplexity: 160179.94730658087 \n",
            "\n",
            "Saved new model!\n",
            "\u001b[1m221/221\u001b[0m \u001b[32m━━━━━━━━━━━━━━━━━━━━\u001b[0m\u001b[37m\u001b[0m \u001b[1m3s\u001b[0m 12ms/step - loss: 0.8072\n",
            "Epoch 9/20\n",
            "\u001b[1m221/221\u001b[0m \u001b[32m━━━━━━━━━━━━━━━━━━━━\u001b[0m\u001b[37m\u001b[0m \u001b[1m0s\u001b[0m 10ms/step - loss: 0.6859\n",
            " mean perplexity: 222391.71313142922 \n",
            "\n",
            "\u001b[1m221/221\u001b[0m \u001b[32m━━━━━━━━━━━━━━━━━━━━\u001b[0m\u001b[37m\u001b[0m \u001b[1m3s\u001b[0m 11ms/step - loss: 0.6858\n",
            "Epoch 10/20\n",
            "\u001b[1m216/221\u001b[0m \u001b[32m━━━━━━━━━━━━━━━━━━━\u001b[0m\u001b[37m━\u001b[0m \u001b[1m0s\u001b[0m 10ms/step - loss: 0.5983\n",
            " mean perplexity: 244909.37285423768 \n",
            "\n",
            "\u001b[1m221/221\u001b[0m \u001b[32m━━━━━━━━━━━━━━━━━━━━\u001b[0m\u001b[37m\u001b[0m \u001b[1m3s\u001b[0m 11ms/step - loss: 0.5979\n",
            "Epoch 11/20\n",
            "\u001b[1m221/221\u001b[0m \u001b[32m━━━━━━━━━━━━━━━━━━━━\u001b[0m\u001b[37m\u001b[0m \u001b[1m0s\u001b[0m 10ms/step - loss: 0.5277\n",
            " mean perplexity: 179967.9493506258 \n",
            "\n",
            "\u001b[1m221/221\u001b[0m \u001b[32m━━━━━━━━━━━━━━━━━━━━\u001b[0m\u001b[37m\u001b[0m \u001b[1m3s\u001b[0m 11ms/step - loss: 0.5276\n",
            "Epoch 12/20\n",
            "\u001b[1m216/221\u001b[0m \u001b[32m━━━━━━━━━━━━━━━━━━━\u001b[0m\u001b[37m━\u001b[0m \u001b[1m0s\u001b[0m 11ms/step - loss: 0.4803\n",
            " mean perplexity: 169921.24809117347 \n",
            "\n",
            "\u001b[1m221/221\u001b[0m \u001b[32m━━━━━━━━━━━━━━━━━━━━\u001b[0m\u001b[37m\u001b[0m \u001b[1m3s\u001b[0m 12ms/step - loss: 0.4800\n",
            "Epoch 13/20\n",
            "\u001b[1m221/221\u001b[0m \u001b[32m━━━━━━━━━━━━━━━━━━━━\u001b[0m\u001b[37m\u001b[0m \u001b[1m0s\u001b[0m 10ms/step - loss: 0.4409\n",
            " mean perplexity: 150842.03579607775 \n",
            "\n",
            "Saved new model!\n",
            "\u001b[1m221/221\u001b[0m \u001b[32m━━━━━━━━━━━━━━━━━━━━\u001b[0m\u001b[37m\u001b[0m \u001b[1m3s\u001b[0m 12ms/step - loss: 0.4408\n",
            "Epoch 14/20\n",
            "\u001b[1m216/221\u001b[0m \u001b[32m━━━━━━━━━━━━━━━━━━━\u001b[0m\u001b[37m━\u001b[0m \u001b[1m0s\u001b[0m 10ms/step - loss: 0.4100\n",
            " mean perplexity: 197682.45431333105 \n",
            "\n",
            "\u001b[1m221/221\u001b[0m \u001b[32m━━━━━━━━━━━━━━━━━━━━\u001b[0m\u001b[37m\u001b[0m \u001b[1m3s\u001b[0m 11ms/step - loss: 0.4098\n",
            "Epoch 15/20\n",
            "\u001b[1m216/221\u001b[0m \u001b[32m━━━━━━━━━━━━━━━━━━━\u001b[0m\u001b[37m━\u001b[0m \u001b[1m0s\u001b[0m 11ms/step - loss: 0.3794\n",
            " mean perplexity: 255583.76367341488 \n",
            "\n",
            "\u001b[1m221/221\u001b[0m \u001b[32m━━━━━━━━━━━━━━━━━━━━\u001b[0m\u001b[37m\u001b[0m \u001b[1m3s\u001b[0m 12ms/step - loss: 0.3793\n",
            "Epoch 16/20\n",
            "\u001b[1m221/221\u001b[0m \u001b[32m━━━━━━━━━━━━━━━━━━━━\u001b[0m\u001b[37m\u001b[0m \u001b[1m0s\u001b[0m 11ms/step - loss: 0.3559\n",
            " mean perplexity: 156796.36355641307 \n",
            "\n",
            "\u001b[1m221/221\u001b[0m \u001b[32m━━━━━━━━━━━━━━━━━━━━\u001b[0m\u001b[37m\u001b[0m \u001b[1m3s\u001b[0m 12ms/step - loss: 0.3559\n",
            "Epoch 17/20\n",
            "\u001b[1m221/221\u001b[0m \u001b[32m━━━━━━━━━━━━━━━━━━━━\u001b[0m\u001b[37m\u001b[0m \u001b[1m0s\u001b[0m 11ms/step - loss: 0.3413\n",
            " mean perplexity: 151871.46577245428 \n",
            "\n",
            "\u001b[1m221/221\u001b[0m \u001b[32m━━━━━━━━━━━━━━━━━━━━\u001b[0m\u001b[37m\u001b[0m \u001b[1m3s\u001b[0m 12ms/step - loss: 0.3413\n",
            "Epoch 18/20\n",
            "\u001b[1m221/221\u001b[0m \u001b[32m━━━━━━━━━━━━━━━━━━━━\u001b[0m\u001b[37m\u001b[0m \u001b[1m0s\u001b[0m 11ms/step - loss: 0.3275\n",
            " mean perplexity: 128658.765632033 \n",
            "\n",
            "Saved new model!\n",
            "\u001b[1m221/221\u001b[0m \u001b[32m━━━━━━━━━━━━━━━━━━━━\u001b[0m\u001b[37m\u001b[0m \u001b[1m3s\u001b[0m 12ms/step - loss: 0.3275\n",
            "Epoch 19/20\n",
            "\u001b[1m216/221\u001b[0m \u001b[32m━━━━━━━━━━━━━━━━━━━\u001b[0m\u001b[37m━\u001b[0m \u001b[1m0s\u001b[0m 11ms/step - loss: 0.3164\n",
            " mean perplexity: 146448.34833515342 \n",
            "\n",
            "\u001b[1m221/221\u001b[0m \u001b[32m━━━━━━━━━━━━━━━━━━━━\u001b[0m\u001b[37m\u001b[0m \u001b[1m3s\u001b[0m 12ms/step - loss: 0.3163\n",
            "Epoch 20/20\n",
            "\u001b[1m216/221\u001b[0m \u001b[32m━━━━━━━━━━━━━━━━━━━\u001b[0m\u001b[37m━\u001b[0m \u001b[1m0s\u001b[0m 11ms/step - loss: 0.3047\n",
            " mean perplexity: 132844.9756258879 \n",
            "\n",
            "\u001b[1m221/221\u001b[0m \u001b[32m━━━━━━━━━━━━━━━━━━━━\u001b[0m\u001b[37m\u001b[0m \u001b[1m3s\u001b[0m 12ms/step - loss: 0.3046\n",
            "Tiempo de entrenamiento para LSTM1: 55.85 segundos\n"
          ]
        }
      ]
    },
    {
      "cell_type": "code",
      "source": [
        "plot_model_history(history_ppl2, model2_name)"
      ],
      "metadata": {
        "colab": {
          "base_uri": "https://localhost:8080/",
          "height": 472
        },
        "id": "YLO0S704eq9y",
        "outputId": "b2513242-24bf-4c8a-ed3d-d27b8691ec17"
      },
      "execution_count": 46,
      "outputs": [
        {
          "output_type": "display_data",
          "data": {
            "text/plain": [
              "<Figure size 640x480 with 1 Axes>"
            ],
            "image/png": "[encoded data removed]"
          },
          "metadata": {}
        }
      ]
    },
    {
      "cell_type": "code",
      "source": [
        "# Cargamos el mejor modelo guardado del entrenamiento para hacer inferencia\n",
        "model2 = keras.models.load_model(f'{model2_name}.keras')"
      ],
      "metadata": {
        "id": "eStlKHF3etRZ"
      },
      "execution_count": 47,
      "outputs": []
    },
    {
      "cell_type": "markdown",
      "source": [
        "#### Predicción de próxima palabra"
      ],
      "metadata": {
        "id": "coYl49YhevAm"
      }
    },
    {
      "cell_type": "code",
      "source": [
        "predict_with_gradio(model2)"
      ],
      "metadata": {
        "colab": {
          "base_uri": "https://localhost:8080/",
          "height": 732
        },
        "id": "VIU0rPjXewdH",
        "outputId": "e48effe0-18d1-437b-e7e6-56632536731b"
      },
      "execution_count": 48,
      "outputs": [
        {
          "output_type": "stream",
          "name": "stdout",
          "text": [
            "Running Gradio in a Colab notebook requires sharing enabled. Automatically setting `share=True` (you can turn this off by setting `share=False` in `launch()` explicitly).\n",
            "\n",
            "Colab notebook detected. This cell will run indefinitely so that you can see errors and logs. To turn off, set debug=False in launch().\n",
            "* Running on public URL: https://dc3cf74a25a218e47f.gradio.live\n",
            "\n",
            "This share link expires in 72 hours. For free permanent hosting and GPU upgrades, run `gradio deploy` from the terminal in the working directory to deploy to Hugging Face Spaces (https://huggingface.co/spaces)\n"
          ]
        },
        {
          "output_type": "display_data",
          "data": {
            "text/plain": [
              "<IPython.core.display.HTML object>"
            ],
            "text/html": [
              "<div><iframe src=\"https://dc3cf74a25a218e47f.gradio.live\" width=\"100%\" height=\"500\" allow=\"autoplay; camera; microphone; clipboard-read; clipboard-write;\" frameborder=\"0\" allowfullscreen></iframe></div>"
            ]
          },
          "metadata": {}
        },
        {
          "output_type": "stream",
          "name": "stdout",
          "text": [
            "\u001b[1m1/1\u001b[0m \u001b[32m━━━━━━━━━━━━━━━━━━━━\u001b[0m\u001b[37m\u001b[0m \u001b[1m0s\u001b[0m 182ms/step\n",
            "\u001b[1m1/1\u001b[0m \u001b[32m━━━━━━━━━━━━━━━━━━━━\u001b[0m\u001b[37m\u001b[0m \u001b[1m0s\u001b[0m 19ms/step\n",
            "\u001b[1m1/1\u001b[0m \u001b[32m━━━━━━━━━━━━━━━━━━━━\u001b[0m\u001b[37m\u001b[0m \u001b[1m0s\u001b[0m 18ms/step\n",
            "Keyboard interruption in main thread... closing server.\n",
            "Killing tunnel 127.0.0.1:7860 <> https://dc3cf74a25a218e47f.gradio.live\n"
          ]
        }
      ]
    },
    {
      "cell_type": "markdown",
      "source": [
        "#### Generación de secuencias"
      ],
      "metadata": {
        "id": "km1wy_KwezTI"
      }
    },
    {
      "cell_type": "code",
      "source": [
        "input_text='Los Thenardier estan'\n",
        "\n",
        "generate_seq(model2, tok, input_text, max_length=max_context_size, n_words=10)"
      ],
      "metadata": {
        "id": "3YS3sxsje0Pn",
        "colab": {
          "base_uri": "https://localhost:8080/",
          "height": 209
        },
        "outputId": "884e89af-8214-4ba6-a13f-afb595a3a5c1"
      },
      "execution_count": 49,
      "outputs": [
        {
          "output_type": "stream",
          "name": "stdout",
          "text": [
            "\u001b[1m1/1\u001b[0m \u001b[32m━━━━━━━━━━━━━━━━━━━━\u001b[0m\u001b[37m\u001b[0m \u001b[1m0s\u001b[0m 19ms/step\n",
            "\u001b[1m1/1\u001b[0m \u001b[32m━━━━━━━━━━━━━━━━━━━━\u001b[0m\u001b[37m\u001b[0m \u001b[1m0s\u001b[0m 18ms/step\n",
            "\u001b[1m1/1\u001b[0m \u001b[32m━━━━━━━━━━━━━━━━━━━━\u001b[0m\u001b[37m\u001b[0m \u001b[1m0s\u001b[0m 21ms/step\n",
            "\u001b[1m1/1\u001b[0m \u001b[32m━━━━━━━━━━━━━━━━━━━━\u001b[0m\u001b[37m\u001b[0m \u001b[1m0s\u001b[0m 20ms/step\n",
            "\u001b[1m1/1\u001b[0m \u001b[32m━━━━━━━━━━━━━━━━━━━━\u001b[0m\u001b[37m\u001b[0m \u001b[1m0s\u001b[0m 21ms/step\n",
            "\u001b[1m1/1\u001b[0m \u001b[32m━━━━━━━━━━━━━━━━━━━━\u001b[0m\u001b[37m\u001b[0m \u001b[1m0s\u001b[0m 18ms/step\n",
            "\u001b[1m1/1\u001b[0m \u001b[32m━━━━━━━━━━━━━━━━━━━━\u001b[0m\u001b[37m\u001b[0m \u001b[1m0s\u001b[0m 18ms/step\n",
            "\u001b[1m1/1\u001b[0m \u001b[32m━━━━━━━━━━━━━━━━━━━━\u001b[0m\u001b[37m\u001b[0m \u001b[1m0s\u001b[0m 18ms/step\n",
            "\u001b[1m1/1\u001b[0m \u001b[32m━━━━━━━━━━━━━━━━━━━━\u001b[0m\u001b[37m\u001b[0m \u001b[1m0s\u001b[0m 20ms/step\n",
            "\u001b[1m1/1\u001b[0m \u001b[32m━━━━━━━━━━━━━━━━━━━━\u001b[0m\u001b[37m\u001b[0m \u001b[1m0s\u001b[0m 19ms/step\n"
          ]
        },
        {
          "output_type": "execute_result",
          "data": {
            "text/plain": [
              "'Los Thenardier estan contestaban siempre cosette está per\\xadfectamente transcurridos los seis primeros me\\xadses'"
            ],
            "application/vnd.google.colaboratory.intrinsic+json": {
              "type": "string"
            }
          },
          "metadata": {},
          "execution_count": 49
        }
      ]
    },
    {
      "cell_type": "markdown",
      "source": [
        "####  Beam search y muestreo aleatorio LSTM1"
      ],
      "metadata": {
        "id": "2shmmXjwfawx"
      }
    },
    {
      "cell_type": "code",
      "source": [
        "temps = [1, 10, 15]\n",
        "num_beams_list = [3, 4, 5]  # Lista con los valores para el número de \"beams\"\n",
        "\n",
        "for temp in temps:\n",
        "    for num_beams in num_beams_list:\n",
        "        print(f\"Temperatura: {temp}, Número de beams: {num_beams}\")\n",
        "        salidas = beam_search(model1, num_beams=num_beams, num_words=6, input=\"Los Thenardier\", temp=temp, mode='sto')\n",
        "        for idx, salida in enumerate(salidas):\n",
        "            print(f\"Salida {idx + 1}: {decode(salida)}\")\n",
        "        print()"
      ],
      "metadata": {
        "id": "HuLZg8JKfb0O",
        "colab": {
          "base_uri": "https://localhost:8080/"
        },
        "outputId": "7269e70e-ab50-48ee-913f-fce6d7a2bc75"
      },
      "execution_count": 50,
      "outputs": [
        {
          "output_type": "stream",
          "name": "stdout",
          "text": [
            "Temperatura: 1, Número de beams: 3\n",
            "Salida 1: ['los thenardier brillo a de una enne\\xadgrece en']\n",
            "Salida 2: ['los thenardier brillo a de una enne\\xadgrece verde']\n",
            "Salida 3: ['los thenardier brillo a de una altura otro']\n",
            "\n",
            "Temperatura: 1, Número de beams: 4\n",
            "Salida 1: ['los thenardier de la mirada del la próxima']\n",
            "Salida 2: ['los thenardier de la mirada del la tosía']\n",
            "Salida 3: ['los thenardier de la humedad del triste que']\n",
            "Salida 4: ['los thenardier de la mirada del la esperanza']\n",
            "\n",
            "Temperatura: 1, Número de beams: 5\n",
            "Salida 1: ['los thenardier sin su de la altura con']\n",
            "Salida 2: ['los thenardier sin su de la señorita al']\n",
            "Salida 3: ['los thenardier sin su de la señorita del']\n",
            "Salida 4: ['los thenardier sin su de la altura para']\n",
            "Salida 5: ['los thenardier sin su de la señorita aleja']\n",
            "\n",
            "Temperatura: 10, Número de beams: 3\n",
            "Salida 1: ['los thenardier preocupara guardado árboles ama luz esté']\n",
            "Salida 2: ['los thenardier años muy había fueron corrompida traído']\n",
            "Salida 3: ['los thenardier preocupara guardado árboles ama luz espectro']\n",
            "\n",
            "Temperatura: 10, Número de beams: 4\n",
            "Salida 1: ['los thenardier era era hijas leyó remesas']\n",
            "Salida 2: ['los thenardier era era hijas leyó remesas o']\n",
            "Salida 3: ['los thenardier era era hijas leyó decrece bolso']\n",
            "Salida 4: ['los thenardier era era ropa dote agre\\xadgó patio']\n",
            "\n",
            "Temperatura: 10, Número de beams: 5\n",
            "Salida 1: ['los thenardier niña hablaba inocente nosotros nombre aleja']\n",
            "Salida 2: ['los thenardier niña acos\\xadtumbraba necesitábamos qué jurados montfer\\xadmeil']\n",
            "Salida 3: ['los thenardier niña acos\\xadtumbraba necesitábamos qué jurados contra']\n",
            "Salida 4: ['los thenardier niña hablaba inocente nosotros carnicero nuestro']\n",
            "Salida 5: ['los thenardier niña hablaba inocente nosotros carnicero otro']\n",
            "\n",
            "Temperatura: 15, Número de beams: 3\n",
            "Salida 1: ['los thenardier todo desván carta quien las encrucijadas']\n",
            "Salida 2: ['los thenardier todo desván carta quien las convenido']\n",
            "Salida 3: ['los thenardier todo marius pedazos libertad inmen\\xadsa sombrero']\n",
            "\n",
            "Temperatura: 15, Número de beams: 4\n",
            "Salida 1: ['los thenardier lanzarse de llegará cerca volvió fría']\n",
            "Salida 2: ['los thenardier esa perro vernos duran\\xadte director aullaron']\n",
            "Salida 3: ['los thenardier esa perro vernos duran\\xadte director veré']\n",
            "Salida 4: ['los thenardier lanzarse de llegará un yo saint\\xadmerry']\n",
            "\n",
            "Temperatura: 15, Número de beams: 5\n",
            "Salida 1: ['los thenardier horizonte señor cierto esté agujero escuchar']\n",
            "Salida 2: ['los thenardier horizonte señor cierto esté agujero tenía']\n",
            "Salida 3: ['los thenardier horizonte señor cierto esté agujero formas']\n",
            "Salida 4: ['los thenardier depósito admiración san humedad pobre dientes']\n",
            "Salida 5: ['los thenardier horizonte al vencido todas cierto minutos']\n",
            "\n"
          ]
        }
      ]
    },
    {
      "cell_type": "markdown",
      "source": [
        "Definir el modelo 2: LSTM_2"
      ],
      "metadata": {
        "id": "wI2-I9i4yamA"
      }
    },
    {
      "cell_type": "code",
      "source": [
        "from tensorflow.keras.models import Sequential\n",
        "from tensorflow.keras.layers import Embedding, LSTM, Dropout, Dense\n",
        "from tensorflow.keras.optimizers import RMSprop\n",
        "from tensorflow.keras.losses import SparseCategoricalCrossentropy\n",
        "# Define the model with different hyperparameters\n",
        "embedding_dim = 300  # Embedding dimension\n",
        "lstm_units = 100     # Number of LSTM units\n",
        "dropout_rate = 0.3   # Dropout rate\n",
        "learning_rate = 0.001  # Learning rate\n",
        "batch_size = 64      # Batch size\n",
        "epochs = 30          # Number of epochs\n",
        "\n",
        "model3 = Sequential()\n",
        "model3.add(Embedding(input_dim=vocab_size+1, output_dim=embedding_dim, input_shape=(None,)))\n",
        "model3.add(LSTM(lstm_units, return_sequences=True))\n",
        "model3.add(Dropout(dropout_rate))\n",
        "model3.add(LSTM(lstm_units, return_sequences=True))\n",
        "model3.add(Dropout(dropout_rate))\n",
        "model3.add(Dense(vocab_size+1, activation='softmax'))\n",
        "\n",
        "# Compile the model with the specified learning rate\n",
        "optimizer = RMSprop(learning_rate=learning_rate)\n",
        "model3.compile(loss=SparseCategoricalCrossentropy(), optimizer=optimizer)"
      ],
      "metadata": {
        "colab": {
          "base_uri": "https://localhost:8080/"
        },
        "id": "p7q4JvR2yaBD",
        "outputId": "7ac71bcc-e492-4507-e8cb-bd71b8db7b05"
      },
      "execution_count": 51,
      "outputs": [
        {
          "output_type": "stream",
          "name": "stderr",
          "text": [
            "/usr/local/lib/python3.10/dist-packages/keras/src/layers/core/embedding.py:93: UserWarning: Do not pass an `input_shape`/`input_dim` argument to a layer. When using Sequential models, prefer using an `Input(shape)` object as the first layer in the model instead.\n",
            "  super().__init__(**kwargs)\n"
          ]
        }
      ]
    },
    {
      "cell_type": "markdown",
      "source": [
        "Entrenamiento"
      ],
      "metadata": {
        "id": "4KV14mgE3me7"
      }
    },
    {
      "cell_type": "code",
      "source": [
        "import time\n",
        "\n",
        "# Variable para almacenar los valores de perplejidad\n",
        "history_ppl3 = []\n",
        "model3_name = \"LSTM2\"\n",
        "\n",
        "# Inicia el temporizador\n",
        "start_time = time.time()\n",
        "\n",
        "# Entrenamiento del modelo\n",
        "hist3 = model3.fit(\n",
        "    X,\n",
        "    y,\n",
        "    epochs=20,\n",
        "    callbacks=[PplCallback(tokenized_sentences_val, history_ppl3, model3_name)],\n",
        "    batch_size=64\n",
        ")\n",
        "\n",
        "# Calcula el tiempo de entrenamiento\n",
        "training_time_LSTM2 = time.time() - start_time\n",
        "\n",
        "# Imprime el tiempo de entrenamiento\n",
        "print(f\"Tiempo de entrenamiento para {model3_name}: {training_time_LSTM2:.2f} segundos\")"
      ],
      "metadata": {
        "colab": {
          "base_uri": "https://localhost:8080/"
        },
        "id": "VBjkXaSs3l4E",
        "outputId": "12a403a6-a75a-48d5-baa4-662b2e58ad72"
      },
      "execution_count": 65,
      "outputs": [
        {
          "output_type": "stream",
          "name": "stdout",
          "text": [
            "Epoch 1/20\n",
            "\u001b[1m217/221\u001b[0m \u001b[32m━━━━━━━━━━━━━━━━━━━\u001b[0m\u001b[37m━\u001b[0m \u001b[1m0s\u001b[0m 11ms/step - loss: 2.5296\n",
            " mean perplexity: 918021.1932454164 \n",
            "\n",
            "Saved new model!\n",
            "\u001b[1m221/221\u001b[0m \u001b[32m━━━━━━━━━━━━━━━━━━━━\u001b[0m\u001b[37m\u001b[0m \u001b[1m4s\u001b[0m 13ms/step - loss: 2.5271\n",
            "Epoch 2/20\n",
            "\u001b[1m216/221\u001b[0m \u001b[32m━━━━━━━━━━━━━━━━━━━\u001b[0m\u001b[37m━\u001b[0m \u001b[1m0s\u001b[0m 11ms/step - loss: 2.1219\n",
            " mean perplexity: 1426448.5589095685 \n",
            "\n",
            "\u001b[1m221/221\u001b[0m \u001b[32m━━━━━━━━━━━━━━━━━━━━\u001b[0m\u001b[37m\u001b[0m \u001b[1m3s\u001b[0m 12ms/step - loss: 2.1189\n",
            "Epoch 3/20\n",
            "\u001b[1m221/221\u001b[0m \u001b[32m━━━━━━━━━━━━━━━━━━━━\u001b[0m\u001b[37m\u001b[0m \u001b[1m0s\u001b[0m 11ms/step - loss: 1.7441\n",
            " mean perplexity: 1187337.8762451285 \n",
            "\n",
            "\u001b[1m221/221\u001b[0m \u001b[32m━━━━━━━━━━━━━━━━━━━━\u001b[0m\u001b[37m\u001b[0m \u001b[1m3s\u001b[0m 12ms/step - loss: 1.7437\n",
            "Epoch 4/20\n",
            "\u001b[1m221/221\u001b[0m \u001b[32m━━━━━━━━━━━━━━━━━━━━\u001b[0m\u001b[37m\u001b[0m \u001b[1m0s\u001b[0m 11ms/step - loss: 1.4012\n",
            " mean perplexity: 1060712.529126151 \n",
            "\n",
            "\u001b[1m221/221\u001b[0m \u001b[32m━━━━━━━━━━━━━━━━━━━━\u001b[0m\u001b[37m\u001b[0m \u001b[1m3s\u001b[0m 12ms/step - loss: 1.4009\n",
            "Epoch 5/20\n",
            "\u001b[1m216/221\u001b[0m \u001b[32m━━━━━━━━━━━━━━━━━━━\u001b[0m\u001b[37m━\u001b[0m \u001b[1m0s\u001b[0m 11ms/step - loss: 1.1543\n",
            " mean perplexity: 1063250.2818808756 \n",
            "\n",
            "\u001b[1m221/221\u001b[0m \u001b[32m━━━━━━━━━━━━━━━━━━━━\u001b[0m\u001b[37m\u001b[0m \u001b[1m3s\u001b[0m 12ms/step - loss: 1.1528\n",
            "Epoch 6/20\n",
            "\u001b[1m221/221\u001b[0m \u001b[32m━━━━━━━━━━━━━━━━━━━━\u001b[0m\u001b[37m\u001b[0m \u001b[1m0s\u001b[0m 11ms/step - loss: 0.9416\n",
            " mean perplexity: 1088114.6402842554 \n",
            "\n",
            "Stopping training...\n",
            "\u001b[1m221/221\u001b[0m \u001b[32m━━━━━━━━━━━━━━━━━━━━\u001b[0m\u001b[37m\u001b[0m \u001b[1m3s\u001b[0m 12ms/step - loss: 0.9415\n",
            "Tiempo de entrenamiento para LSTM2: 16.76 segundos\n"
          ]
        }
      ]
    },
    {
      "cell_type": "code",
      "source": [
        "plot_model_history(history_ppl3, model3_name)"
      ],
      "metadata": {
        "colab": {
          "base_uri": "https://localhost:8080/",
          "height": 472
        },
        "id": "lfWioDql3uCE",
        "outputId": "95f9a5c9-3cee-4712-f041-9a00b8c7519a"
      },
      "execution_count": 66,
      "outputs": [
        {
          "output_type": "display_data",
          "data": {
            "text/plain": [
              "<Figure size 640x480 with 1 Axes>"
            ],
            "image/png": "[encoded data removed]"
          },
          "metadata": {}
        }
      ]
    },
    {
      "cell_type": "code",
      "source": [
        "# Cargamos el mejor modelo guardado del entrenamiento para hacer inferencia\n",
        "model3 = keras.models.load_model(f'{model3_name}.keras')"
      ],
      "metadata": {
        "id": "KmDzcbNT4bzH"
      },
      "execution_count": 67,
      "outputs": []
    },
    {
      "cell_type": "markdown",
      "source": [
        "Predict proxima palabra"
      ],
      "metadata": {
        "id": "moaXIpKX6C0P"
      }
    },
    {
      "cell_type": "code",
      "source": [
        "predict_with_gradio(model3)"
      ],
      "metadata": {
        "colab": {
          "base_uri": "https://localhost:8080/",
          "height": 680
        },
        "id": "qEveNExV6DNb",
        "outputId": "b7b41796-138e-4e79-c739-19d27cdea097"
      },
      "execution_count": 68,
      "outputs": [
        {
          "output_type": "stream",
          "name": "stdout",
          "text": [
            "Running Gradio in a Colab notebook requires sharing enabled. Automatically setting `share=True` (you can turn this off by setting `share=False` in `launch()` explicitly).\n",
            "\n",
            "Colab notebook detected. This cell will run indefinitely so that you can see errors and logs. To turn off, set debug=False in launch().\n",
            "* Running on public URL: https://a482e7128a13e6efeb.gradio.live\n",
            "\n",
            "This share link expires in 72 hours. For free permanent hosting and GPU upgrades, run `gradio deploy` from the terminal in the working directory to deploy to Hugging Face Spaces (https://huggingface.co/spaces)\n"
          ]
        },
        {
          "output_type": "display_data",
          "data": {
            "text/plain": [
              "<IPython.core.display.HTML object>"
            ],
            "text/html": [
              "<div><iframe src=\"https://a482e7128a13e6efeb.gradio.live\" width=\"100%\" height=\"500\" allow=\"autoplay; camera; microphone; clipboard-read; clipboard-write;\" frameborder=\"0\" allowfullscreen></iframe></div>"
            ]
          },
          "metadata": {}
        },
        {
          "output_type": "stream",
          "name": "stdout",
          "text": [
            "Keyboard interruption in main thread... closing server.\n",
            "Killing tunnel 127.0.0.1:7860 <> https://a482e7128a13e6efeb.gradio.live\n"
          ]
        }
      ]
    },
    {
      "cell_type": "markdown",
      "source": [
        "Generacion secuencia"
      ],
      "metadata": {
        "id": "vf6sCCqz5ndX"
      }
    },
    {
      "cell_type": "code",
      "source": [
        "input_text='Los Thenardier estan'\n",
        "\n",
        "generate_seq(model3, tok, input_text, max_length=max_context_size, n_words=10)"
      ],
      "metadata": {
        "colab": {
          "base_uri": "https://localhost:8080/",
          "height": 209
        },
        "id": "OzF1ejh35nJD",
        "outputId": "f4beade3-592a-42a5-c5c9-7bb1e080fdcb"
      },
      "execution_count": 69,
      "outputs": [
        {
          "output_type": "stream",
          "name": "stdout",
          "text": [
            "\u001b[1m1/1\u001b[0m \u001b[32m━━━━━━━━━━━━━━━━━━━━\u001b[0m\u001b[37m\u001b[0m \u001b[1m0s\u001b[0m 155ms/step\n",
            "\u001b[1m1/1\u001b[0m \u001b[32m━━━━━━━━━━━━━━━━━━━━\u001b[0m\u001b[37m\u001b[0m \u001b[1m0s\u001b[0m 19ms/step\n",
            "\u001b[1m1/1\u001b[0m \u001b[32m━━━━━━━━━━━━━━━━━━━━\u001b[0m\u001b[37m\u001b[0m \u001b[1m0s\u001b[0m 18ms/step\n",
            "\u001b[1m1/1\u001b[0m \u001b[32m━━━━━━━━━━━━━━━━━━━━\u001b[0m\u001b[37m\u001b[0m \u001b[1m0s\u001b[0m 18ms/step\n",
            "\u001b[1m1/1\u001b[0m \u001b[32m━━━━━━━━━━━━━━━━━━━━\u001b[0m\u001b[37m\u001b[0m \u001b[1m0s\u001b[0m 19ms/step\n",
            "\u001b[1m1/1\u001b[0m \u001b[32m━━━━━━━━━━━━━━━━━━━━\u001b[0m\u001b[37m\u001b[0m \u001b[1m0s\u001b[0m 19ms/step\n",
            "\u001b[1m1/1\u001b[0m \u001b[32m━━━━━━━━━━━━━━━━━━━━\u001b[0m\u001b[37m\u001b[0m \u001b[1m0s\u001b[0m 20ms/step\n",
            "\u001b[1m1/1\u001b[0m \u001b[32m━━━━━━━━━━━━━━━━━━━━\u001b[0m\u001b[37m\u001b[0m \u001b[1m0s\u001b[0m 18ms/step\n",
            "\u001b[1m1/1\u001b[0m \u001b[32m━━━━━━━━━━━━━━━━━━━━\u001b[0m\u001b[37m\u001b[0m \u001b[1m0s\u001b[0m 18ms/step\n",
            "\u001b[1m1/1\u001b[0m \u001b[32m━━━━━━━━━━━━━━━━━━━━\u001b[0m\u001b[37m\u001b[0m \u001b[1m0s\u001b[0m 18ms/step\n"
          ]
        },
        {
          "output_type": "execute_result",
          "data": {
            "text/plain": [
              "'Los Thenardier estan se a a a la a a a la a'"
            ],
            "application/vnd.google.colaboratory.intrinsic+json": {
              "type": "string"
            }
          },
          "metadata": {},
          "execution_count": 69
        }
      ]
    },
    {
      "cell_type": "markdown",
      "source": [
        "####  Beam search y muestreo aleatorio LSTM2"
      ],
      "metadata": {
        "id": "BRpPsuIu53kG"
      }
    },
    {
      "cell_type": "code",
      "source": [
        "temps = [1, 10, 15]\n",
        "num_beams_list = [3, 4, 5]  # Lista con los valores para el número de \"beams\"\n",
        "\n",
        "for temp in temps:\n",
        "    for num_beams in num_beams_list:\n",
        "        print(f\"Temperatura: {temp}, Número de beams: {num_beams}\")\n",
        "\n",
        "        # Pasa el modelo entrenado, no el nombre\n",
        "        salidas = beam_search(model3, num_beams=num_beams, num_words=6, input=\"Los Thenardier\", temp=temp, mode='sto')\n",
        "\n",
        "        for idx, salida in enumerate(salidas):\n",
        "            print(f\"Salida {idx + 1}: {decode(salida)}\")"
      ],
      "metadata": {
        "colab": {
          "base_uri": "https://localhost:8080/"
        },
        "id": "XsRQmNOP53RF",
        "outputId": "9289dcf3-fcbf-44ab-b785-410f63796a24"
      },
      "execution_count": 71,
      "outputs": [
        {
          "output_type": "stream",
          "name": "stdout",
          "text": [
            "Temperatura: 1, Número de beams: 3\n",
            "Salida 1: ['los thenardier en tres se siempre hijas mi']\n",
            "Salida 2: ['los thenardier en tres se siempre tiempo cada']\n",
            "Salida 3: ['los thenardier en tres se siempre hijas']\n",
            "Temperatura: 1, Número de beams: 4\n",
            "Salida 1: ['los thenardier se a triste de de la']\n",
            "Salida 2: ['los thenardier se a triste de los se']\n",
            "Salida 3: ['los thenardier se a triste de de pensar']\n",
            "Salida 4: ['los thenardier se a triste de los la']\n",
            "Temperatura: 1, Número de beams: 5\n",
            "Salida 1: ['los thenardier madre a que el el thenardier']\n",
            "Salida 2: ['los thenardier madre a que a el discreción']\n",
            "Salida 3: ['los thenardier madre a que a el hermoso']\n",
            "Salida 4: ['los thenardier madre a que el el un']\n",
            "Salida 5: ['los thenardier madre a que el puerta fría']\n",
            "Temperatura: 10, Número de beams: 3\n",
            "Salida 1: ['los thenardier pasos materia decrece d enjolras pueden']\n",
            "Salida 2: ['los thenardier pasos materia decrece d callejuela inmóvil']\n",
            "Salida 3: ['los thenardier pasos materia decrece d callejuela murmuró']\n",
            "Temperatura: 10, Número de beams: 4\n",
            "Salida 1: ['los thenardier su después reposo hombres pontmercy llegará']\n",
            "Salida 2: ['los thenardier su después reposo hombres pontmercy malo']\n",
            "Salida 3: ['los thenardier su después reposo hombres ido montfermeil']\n",
            "Salida 4: ['los thenardier su después reposo hombres ido temible']\n",
            "Temperatura: 10, Número de beams: 5\n",
            "Salida 1: ['los thenardier sabio lentejuelas señores avena antigua flaca']\n",
            "Salida 2: ['los thenardier saint\\xadmerry i naturalezas derecha dedicar verde']\n",
            "Salida 3: ['los thenardier sabio lentejuelas señores avena antigua lanzarse']\n",
            "Salida 4: ['los thenardier sabio lentejuelas señores avena antigua mis']\n",
            "Salida 5: ['los thenardier sabio lentejuelas señores avena antigua azelma']\n",
            "Temperatura: 15, Número de beams: 3\n",
            "Salida 1: ['los thenardier grandeza sentarse cuatro temáis cuando anteriores']\n",
            "Salida 2: ['los thenardier grandeza sentarse cuatro temáis cuando árboles']\n",
            "Salida 3: ['los thenardier grandeza sentarse cuatro temáis cuando sucedía']\n",
            "Temperatura: 15, Número de beams: 4\n",
            "Salida 1: ['los thenardier suspen\\xaddido jurados hostería saco quitado mañana']\n",
            "Salida 2: ['los thenardier suspen\\xaddido jurados hostería saco quitado bajar']\n",
            "Salida 3: ['los thenardier pensando fétida vidrio acabará bajar quizá']\n",
            "Salida 4: ['los thenardier sometió miedo verdad agua mal jun\\xadto']\n",
            "Temperatura: 15, Número de beams: 5\n",
            "Salida 1: ['los thenardier y agujero hija feliz fría miró']\n",
            "Salida 2: ['los thenardier y agujero hija tomado arras esto']\n",
            "Salida 3: ['los thenardier y agujero hija tomado arras mientras']\n",
            "Salida 4: ['los thenardier y agujero doloridos sígueme atrás parecía']\n",
            "Salida 5: ['los thenardier y agujero hija tomado arras lúgu\\xadbre']\n"
          ]
        }
      ]
    },
    {
      "cell_type": "markdown",
      "source": [
        "\n",
        "### Modelo 4: GRU"
      ],
      "metadata": {
        "id": "oK-MIrRNiY01"
      }
    },
    {
      "cell_type": "code",
      "source": [
        "from tensorflow.keras.models import Sequential\n",
        "from tensorflow.keras.layers import Embedding, GRU, Dropout, Dense\n",
        "from tensorflow.keras.losses import SparseCategoricalCrossentropy\n",
        "\n",
        "# Modelo GRU\n",
        "model4 = Sequential()\n",
        "\n",
        "# Capa de embedding entrenable\n",
        "model4.add(Embedding(input_dim=vocab_size+1, output_dim=64, input_shape=(None,)))\n",
        "\n",
        "# Capas GRU en lugar de LSTM\n",
        "model4.add(GRU(128, return_sequences=True))\n",
        "model4.add(Dropout(0.2))\n",
        "model4.add(GRU(128, return_sequences=True))\n",
        "model4.add(Dropout(0.2))\n",
        "\n",
        "# Predicción de clasificación con softmax\n",
        "model4.add(Dense(vocab_size+1, activation='softmax'))\n",
        "\n",
        "# Compilación\n",
        "model4.compile(loss=SparseCategoricalCrossentropy(), optimizer='rmsprop')\n",
        "\n",
        "model4.summary()"
      ],
      "metadata": {
        "id": "Qqfp_DqaiaVk",
        "colab": {
          "base_uri": "https://localhost:8080/",
          "height": 395
        },
        "outputId": "cc0d201f-bfa3-4f4b-b3a2-2520253212d9"
      },
      "execution_count": 72,
      "outputs": [
        {
          "output_type": "stream",
          "name": "stderr",
          "text": [
            "/usr/local/lib/python3.10/dist-packages/keras/src/layers/core/embedding.py:93: UserWarning: Do not pass an `input_shape`/`input_dim` argument to a layer. When using Sequential models, prefer using an `Input(shape)` object as the first layer in the model instead.\n",
            "  super().__init__(**kwargs)\n"
          ]
        },
        {
          "output_type": "display_data",
          "data": {
            "text/plain": [
              "\u001b[1mModel: \"sequential_4\"\u001b[0m\n"
            ],
            "text/html": [
              "<pre style=\"white-space:pre;overflow-x:auto;line-height:normal;font-family:Menlo,'DejaVu Sans Mono',consolas,'Courier New',monospace\"><span style=\"font-weight: bold\">Model: \"sequential_4\"</span>\n",
              "</pre>\n"
            ]
          },
          "metadata": {}
        },
        {
          "output_type": "display_data",
          "data": {
            "text/plain": [
              "┏━━━━━━━━━━━━━━━━━━━━━━━━━━━━━━━━━━━━━━┳━━━━━━━━━━━━━━━━━━━━━━━━━━━━━┳━━━━━━━━━━━━━━━━━┓\n",
              "┃\u001b[1m \u001b[0m\u001b[1mLayer (type)                        \u001b[0m\u001b[1m \u001b[0m┃\u001b[1m \u001b[0m\u001b[1mOutput Shape               \u001b[0m\u001b[1m \u001b[0m┃\u001b[1m \u001b[0m\u001b[1m        Param #\u001b[0m\u001b[1m \u001b[0m┃\n",
              "┡━━━━━━━━━━━━━━━━━━━━━━━━━━━━━━━━━━━━━━╇━━━━━━━━━━━━━━━━━━━━━━━━━━━━━╇━━━━━━━━━━━━━━━━━┩\n",
              "│ embedding_4 (\u001b[38;5;33mEmbedding\u001b[0m)              │ (\u001b[38;5;45mNone\u001b[0m, \u001b[38;5;45mNone\u001b[0m, \u001b[38;5;34m64\u001b[0m)            │          \u001b[38;5;34m67,648\u001b[0m │\n",
              "├──────────────────────────────────────┼─────────────────────────────┼─────────────────┤\n",
              "│ gru_2 (\u001b[38;5;33mGRU\u001b[0m)                          │ (\u001b[38;5;45mNone\u001b[0m, \u001b[38;5;45mNone\u001b[0m, \u001b[38;5;34m128\u001b[0m)           │          \u001b[38;5;34m74,496\u001b[0m │\n",
              "├──────────────────────────────────────┼─────────────────────────────┼─────────────────┤\n",
              "│ dropout_8 (\u001b[38;5;33mDropout\u001b[0m)                  │ (\u001b[38;5;45mNone\u001b[0m, \u001b[38;5;45mNone\u001b[0m, \u001b[38;5;34m128\u001b[0m)           │               \u001b[38;5;34m0\u001b[0m │\n",
              "├──────────────────────────────────────┼─────────────────────────────┼─────────────────┤\n",
              "│ gru_3 (\u001b[38;5;33mGRU\u001b[0m)                          │ (\u001b[38;5;45mNone\u001b[0m, \u001b[38;5;45mNone\u001b[0m, \u001b[38;5;34m128\u001b[0m)           │          \u001b[38;5;34m99,072\u001b[0m │\n",
              "├──────────────────────────────────────┼─────────────────────────────┼─────────────────┤\n",
              "│ dropout_9 (\u001b[38;5;33mDropout\u001b[0m)                  │ (\u001b[38;5;45mNone\u001b[0m, \u001b[38;5;45mNone\u001b[0m, \u001b[38;5;34m128\u001b[0m)           │               \u001b[38;5;34m0\u001b[0m │\n",
              "├──────────────────────────────────────┼─────────────────────────────┼─────────────────┤\n",
              "│ dense_4 (\u001b[38;5;33mDense\u001b[0m)                      │ (\u001b[38;5;45mNone\u001b[0m, \u001b[38;5;45mNone\u001b[0m, \u001b[38;5;34m1057\u001b[0m)          │         \u001b[38;5;34m136,353\u001b[0m │\n",
              "└──────────────────────────────────────┴─────────────────────────────┴─────────────────┘\n"
            ],
            "text/html": [
              "<pre style=\"white-space:pre;overflow-x:auto;line-height:normal;font-family:Menlo,'DejaVu Sans Mono',consolas,'Courier New',monospace\">┏━━━━━━━━━━━━━━━━━━━━━━━━━━━━━━━━━━━━━━┳━━━━━━━━━━━━━━━━━━━━━━━━━━━━━┳━━━━━━━━━━━━━━━━━┓\n",
              "┃<span style=\"font-weight: bold\"> Layer (type)                         </span>┃<span style=\"font-weight: bold\"> Output Shape                </span>┃<span style=\"font-weight: bold\">         Param # </span>┃\n",
              "┡━━━━━━━━━━━━━━━━━━━━━━━━━━━━━━━━━━━━━━╇━━━━━━━━━━━━━━━━━━━━━━━━━━━━━╇━━━━━━━━━━━━━━━━━┩\n",
              "│ embedding_4 (<span style=\"color: #0087ff; text-decoration-color: #0087ff\">Embedding</span>)              │ (<span style=\"color: #00d7ff; text-decoration-color: #00d7ff\">None</span>, <span style=\"color: #00d7ff; text-decoration-color: #00d7ff\">None</span>, <span style=\"color: #00af00; text-decoration-color: #00af00\">64</span>)            │          <span style=\"color: #00af00; text-decoration-color: #00af00\">67,648</span> │\n",
              "├──────────────────────────────────────┼─────────────────────────────┼─────────────────┤\n",
              "│ gru_2 (<span style=\"color: #0087ff; text-decoration-color: #0087ff\">GRU</span>)                          │ (<span style=\"color: #00d7ff; text-decoration-color: #00d7ff\">None</span>, <span style=\"color: #00d7ff; text-decoration-color: #00d7ff\">None</span>, <span style=\"color: #00af00; text-decoration-color: #00af00\">128</span>)           │          <span style=\"color: #00af00; text-decoration-color: #00af00\">74,496</span> │\n",
              "├──────────────────────────────────────┼─────────────────────────────┼─────────────────┤\n",
              "│ dropout_8 (<span style=\"color: #0087ff; text-decoration-color: #0087ff\">Dropout</span>)                  │ (<span style=\"color: #00d7ff; text-decoration-color: #00d7ff\">None</span>, <span style=\"color: #00d7ff; text-decoration-color: #00d7ff\">None</span>, <span style=\"color: #00af00; text-decoration-color: #00af00\">128</span>)           │               <span style=\"color: #00af00; text-decoration-color: #00af00\">0</span> │\n",
              "├──────────────────────────────────────┼─────────────────────────────┼─────────────────┤\n",
              "│ gru_3 (<span style=\"color: #0087ff; text-decoration-color: #0087ff\">GRU</span>)                          │ (<span style=\"color: #00d7ff; text-decoration-color: #00d7ff\">None</span>, <span style=\"color: #00d7ff; text-decoration-color: #00d7ff\">None</span>, <span style=\"color: #00af00; text-decoration-color: #00af00\">128</span>)           │          <span style=\"color: #00af00; text-decoration-color: #00af00\">99,072</span> │\n",
              "├──────────────────────────────────────┼─────────────────────────────┼─────────────────┤\n",
              "│ dropout_9 (<span style=\"color: #0087ff; text-decoration-color: #0087ff\">Dropout</span>)                  │ (<span style=\"color: #00d7ff; text-decoration-color: #00d7ff\">None</span>, <span style=\"color: #00d7ff; text-decoration-color: #00d7ff\">None</span>, <span style=\"color: #00af00; text-decoration-color: #00af00\">128</span>)           │               <span style=\"color: #00af00; text-decoration-color: #00af00\">0</span> │\n",
              "├──────────────────────────────────────┼─────────────────────────────┼─────────────────┤\n",
              "│ dense_4 (<span style=\"color: #0087ff; text-decoration-color: #0087ff\">Dense</span>)                      │ (<span style=\"color: #00d7ff; text-decoration-color: #00d7ff\">None</span>, <span style=\"color: #00d7ff; text-decoration-color: #00d7ff\">None</span>, <span style=\"color: #00af00; text-decoration-color: #00af00\">1057</span>)          │         <span style=\"color: #00af00; text-decoration-color: #00af00\">136,353</span> │\n",
              "└──────────────────────────────────────┴─────────────────────────────┴─────────────────┘\n",
              "</pre>\n"
            ]
          },
          "metadata": {}
        },
        {
          "output_type": "display_data",
          "data": {
            "text/plain": [
              "\u001b[1m Total params: \u001b[0m\u001b[38;5;34m377,569\u001b[0m (1.44 MB)\n"
            ],
            "text/html": [
              "<pre style=\"white-space:pre;overflow-x:auto;line-height:normal;font-family:Menlo,'DejaVu Sans Mono',consolas,'Courier New',monospace\"><span style=\"font-weight: bold\"> Total params: </span><span style=\"color: #00af00; text-decoration-color: #00af00\">377,569</span> (1.44 MB)\n",
              "</pre>\n"
            ]
          },
          "metadata": {}
        },
        {
          "output_type": "display_data",
          "data": {
            "text/plain": [
              "\u001b[1m Trainable params: \u001b[0m\u001b[38;5;34m377,569\u001b[0m (1.44 MB)\n"
            ],
            "text/html": [
              "<pre style=\"white-space:pre;overflow-x:auto;line-height:normal;font-family:Menlo,'DejaVu Sans Mono',consolas,'Courier New',monospace\"><span style=\"font-weight: bold\"> Trainable params: </span><span style=\"color: #00af00; text-decoration-color: #00af00\">377,569</span> (1.44 MB)\n",
              "</pre>\n"
            ]
          },
          "metadata": {}
        },
        {
          "output_type": "display_data",
          "data": {
            "text/plain": [
              "\u001b[1m Non-trainable params: \u001b[0m\u001b[38;5;34m0\u001b[0m (0.00 B)\n"
            ],
            "text/html": [
              "<pre style=\"white-space:pre;overflow-x:auto;line-height:normal;font-family:Menlo,'DejaVu Sans Mono',consolas,'Courier New',monospace\"><span style=\"font-weight: bold\"> Non-trainable params: </span><span style=\"color: #00af00; text-decoration-color: #00af00\">0</span> (0.00 B)\n",
              "</pre>\n"
            ]
          },
          "metadata": {}
        }
      ]
    },
    {
      "cell_type": "markdown",
      "source": [
        "#### Entrenamiento"
      ],
      "metadata": {
        "id": "IHcld94Gigy1"
      }
    },
    {
      "cell_type": "code",
      "source": [
        "import time\n",
        "\n",
        "# Variable para almacenar los valores de perplejidad\n",
        "history_ppl4 = []\n",
        "model4_name = \"GRU\"\n",
        "\n",
        "# Inicia el temporizador\n",
        "start_time = time.time()\n",
        "\n",
        "# Entrenamiento del modelo\n",
        "hist4 = model4.fit(\n",
        "    X,\n",
        "    y,\n",
        "    epochs=20,\n",
        "    callbacks=[PplCallback(tokenized_sentences_val, history_ppl4, model4_name)],\n",
        "    batch_size=64\n",
        ")\n",
        "\n",
        "# Calcula el tiempo de entrenamiento con el nombre del modelo\n",
        "training_time_gru = f\"{model4_name}: {time.time() - start_time:.2f} segundos\"\n",
        "\n",
        "# Imprime el tiempo de entrenamiento\n",
        "print(f\"Tiempo de entrenamiento para {training_time_gru}\")"
      ],
      "metadata": {
        "id": "8xO-7LKeigOO",
        "colab": {
          "base_uri": "https://localhost:8080/"
        },
        "outputId": "4d07286a-b40f-40fe-c68f-031176eedc9b"
      },
      "execution_count": 73,
      "outputs": [
        {
          "output_type": "stream",
          "name": "stdout",
          "text": [
            "Epoch 1/20\n",
            "\u001b[1m218/221\u001b[0m \u001b[32m━━━━━━━━━━━━━━━━━━━\u001b[0m\u001b[37m━\u001b[0m \u001b[1m0s\u001b[0m 10ms/step - loss: 3.3721\n",
            " mean perplexity: 277177.91150122765 \n",
            "\n",
            "Saved new model!\n",
            "\u001b[1m221/221\u001b[0m \u001b[32m━━━━━━━━━━━━━━━━━━━━\u001b[0m\u001b[37m\u001b[0m \u001b[1m4s\u001b[0m 12ms/step - loss: 3.3609\n",
            "Epoch 2/20\n",
            "\u001b[1m216/221\u001b[0m \u001b[32m━━━━━━━━━━━━━━━━━━━\u001b[0m\u001b[37m━\u001b[0m \u001b[1m0s\u001b[0m 10ms/step - loss: 2.0552\n",
            " mean perplexity: 482440.87981147977 \n",
            "\n",
            "\u001b[1m221/221\u001b[0m \u001b[32m━━━━━━━━━━━━━━━━━━━━\u001b[0m\u001b[37m\u001b[0m \u001b[1m2s\u001b[0m 11ms/step - loss: 2.0506\n",
            "Epoch 3/20\n",
            "\u001b[1m219/221\u001b[0m \u001b[32m━━━━━━━━━━━━━━━━━━━\u001b[0m\u001b[37m━\u001b[0m \u001b[1m0s\u001b[0m 10ms/step - loss: 1.4611\n",
            " mean perplexity: 262216.23768186296 \n",
            "\n",
            "Saved new model!\n",
            "\u001b[1m221/221\u001b[0m \u001b[32m━━━━━━━━━━━━━━━━━━━━\u001b[0m\u001b[37m\u001b[0m \u001b[1m3s\u001b[0m 11ms/step - loss: 1.4598\n",
            "Epoch 4/20\n",
            "\u001b[1m221/221\u001b[0m \u001b[32m━━━━━━━━━━━━━━━━━━━━\u001b[0m\u001b[37m\u001b[0m \u001b[1m0s\u001b[0m 10ms/step - loss: 1.0862\n",
            " mean perplexity: 333341.93184038694 \n",
            "\n",
            "\u001b[1m221/221\u001b[0m \u001b[32m━━━━━━━━━━━━━━━━━━━━\u001b[0m\u001b[37m\u001b[0m \u001b[1m2s\u001b[0m 11ms/step - loss: 1.0859\n",
            "Epoch 5/20\n",
            "\u001b[1m220/221\u001b[0m \u001b[32m━━━━━━━━━━━━━━━━━━━\u001b[0m\u001b[37m━\u001b[0m \u001b[1m0s\u001b[0m 10ms/step - loss: 0.8462\n",
            " mean perplexity: 198960.63719974866 \n",
            "\n",
            "Saved new model!\n",
            "\u001b[1m221/221\u001b[0m \u001b[32m━━━━━━━━━━━━━━━━━━━━\u001b[0m\u001b[37m\u001b[0m \u001b[1m2s\u001b[0m 11ms/step - loss: 0.8459\n",
            "Epoch 6/20\n",
            "\u001b[1m218/221\u001b[0m \u001b[32m━━━━━━━━━━━━━━━━━━━\u001b[0m\u001b[37m━\u001b[0m \u001b[1m0s\u001b[0m 10ms/step - loss: 0.7057\n",
            " mean perplexity: 344182.9370455306 \n",
            "\n",
            "\u001b[1m221/221\u001b[0m \u001b[32m━━━━━━━━━━━━━━━━━━━━\u001b[0m\u001b[37m\u001b[0m \u001b[1m2s\u001b[0m 11ms/step - loss: 0.7051\n",
            "Epoch 7/20\n",
            "\u001b[1m217/221\u001b[0m \u001b[32m━━━━━━━━━━━━━━━━━━━\u001b[0m\u001b[37m━\u001b[0m \u001b[1m0s\u001b[0m 10ms/step - loss: 0.5887\n",
            " mean perplexity: 228541.97192133873 \n",
            "\n",
            "\u001b[1m221/221\u001b[0m \u001b[32m━━━━━━━━━━━━━━━━━━━━\u001b[0m\u001b[37m\u001b[0m \u001b[1m2s\u001b[0m 11ms/step - loss: 0.5886\n",
            "Epoch 8/20\n",
            "\u001b[1m217/221\u001b[0m \u001b[32m━━━━━━━━━━━━━━━━━━━\u001b[0m\u001b[37m━\u001b[0m \u001b[1m0s\u001b[0m 10ms/step - loss: 0.5361\n",
            " mean perplexity: 188753.04322697275 \n",
            "\n",
            "Saved new model!\n",
            "\u001b[1m221/221\u001b[0m \u001b[32m━━━━━━━━━━━━━━━━━━━━\u001b[0m\u001b[37m\u001b[0m \u001b[1m3s\u001b[0m 11ms/step - loss: 0.5357\n",
            "Epoch 9/20\n",
            "\u001b[1m221/221\u001b[0m \u001b[32m━━━━━━━━━━━━━━━━━━━━\u001b[0m\u001b[37m\u001b[0m \u001b[1m0s\u001b[0m 10ms/step - loss: 0.4748\n",
            " mean perplexity: 182971.7373067871 \n",
            "\n",
            "Saved new model!\n",
            "\u001b[1m221/221\u001b[0m \u001b[32m━━━━━━━━━━━━━━━━━━━━\u001b[0m\u001b[37m\u001b[0m \u001b[1m2s\u001b[0m 11ms/step - loss: 0.4748\n",
            "Epoch 10/20\n",
            "\u001b[1m217/221\u001b[0m \u001b[32m━━━━━━━━━━━━━━━━━━━\u001b[0m\u001b[37m━\u001b[0m \u001b[1m0s\u001b[0m 10ms/step - loss: 0.4397\n",
            " mean perplexity: 155305.578608345 \n",
            "\n",
            "Saved new model!\n",
            "\u001b[1m221/221\u001b[0m \u001b[32m━━━━━━━━━━━━━━━━━━━━\u001b[0m\u001b[37m\u001b[0m \u001b[1m2s\u001b[0m 11ms/step - loss: 0.4396\n",
            "Epoch 11/20\n",
            "\u001b[1m218/221\u001b[0m \u001b[32m━━━━━━━━━━━━━━━━━━━\u001b[0m\u001b[37m━\u001b[0m \u001b[1m0s\u001b[0m 10ms/step - loss: 0.4140\n",
            " mean perplexity: 233296.28083146532 \n",
            "\n",
            "\u001b[1m221/221\u001b[0m \u001b[32m━━━━━━━━━━━━━━━━━━━━\u001b[0m\u001b[37m\u001b[0m \u001b[1m2s\u001b[0m 11ms/step - loss: 0.4139\n",
            "Epoch 12/20\n",
            "\u001b[1m217/221\u001b[0m \u001b[32m━━━━━━━━━━━━━━━━━━━\u001b[0m\u001b[37m━\u001b[0m \u001b[1m0s\u001b[0m 10ms/step - loss: 0.3960\n",
            " mean perplexity: 162826.34455893378 \n",
            "\n",
            "\u001b[1m221/221\u001b[0m \u001b[32m━━━━━━━━━━━━━━━━━━━━\u001b[0m\u001b[37m\u001b[0m \u001b[1m2s\u001b[0m 11ms/step - loss: 0.3957\n",
            "Epoch 13/20\n",
            "\u001b[1m219/221\u001b[0m \u001b[32m━━━━━━━━━━━━━━━━━━━\u001b[0m\u001b[37m━\u001b[0m \u001b[1m0s\u001b[0m 10ms/step - loss: 0.3697\n",
            " mean perplexity: 156078.06059394544 \n",
            "\n",
            "\u001b[1m221/221\u001b[0m \u001b[32m━━━━━━━━━━━━━━━━━━━━\u001b[0m\u001b[37m\u001b[0m \u001b[1m2s\u001b[0m 11ms/step - loss: 0.3696\n",
            "Epoch 14/20\n",
            "\u001b[1m218/221\u001b[0m \u001b[32m━━━━━━━━━━━━━━━━━━━\u001b[0m\u001b[37m━\u001b[0m \u001b[1m0s\u001b[0m 10ms/step - loss: 0.3561\n",
            " mean perplexity: 129327.44406601982 \n",
            "\n",
            "Saved new model!\n",
            "\u001b[1m221/221\u001b[0m \u001b[32m━━━━━━━━━━━━━━━━━━━━\u001b[0m\u001b[37m\u001b[0m \u001b[1m3s\u001b[0m 11ms/step - loss: 0.3560\n",
            "Epoch 15/20\n",
            "\u001b[1m216/221\u001b[0m \u001b[32m━━━━━━━━━━━━━━━━━━━\u001b[0m\u001b[37m━\u001b[0m \u001b[1m0s\u001b[0m 10ms/step - loss: 0.3436\n",
            " mean perplexity: 226228.43383445326 \n",
            "\n",
            "\u001b[1m221/221\u001b[0m \u001b[32m━━━━━━━━━━━━━━━━━━━━\u001b[0m\u001b[37m\u001b[0m \u001b[1m2s\u001b[0m 11ms/step - loss: 0.3434\n",
            "Epoch 16/20\n",
            "\u001b[1m216/221\u001b[0m \u001b[32m━━━━━━━━━━━━━━━━━━━\u001b[0m\u001b[37m━\u001b[0m \u001b[1m0s\u001b[0m 10ms/step - loss: 0.3302\n",
            " mean perplexity: 102061.25987123948 \n",
            "\n",
            "Saved new model!\n",
            "\u001b[1m221/221\u001b[0m \u001b[32m━━━━━━━━━━━━━━━━━━━━\u001b[0m\u001b[37m\u001b[0m \u001b[1m2s\u001b[0m 11ms/step - loss: 0.3301\n",
            "Epoch 17/20\n",
            "\u001b[1m218/221\u001b[0m \u001b[32m━━━━━━━━━━━━━━━━━━━\u001b[0m\u001b[37m━\u001b[0m \u001b[1m0s\u001b[0m 10ms/step - loss: 0.3175\n",
            " mean perplexity: 157849.75223862237 \n",
            "\n",
            "\u001b[1m221/221\u001b[0m \u001b[32m━━━━━━━━━━━━━━━━━━━━\u001b[0m\u001b[37m\u001b[0m \u001b[1m2s\u001b[0m 11ms/step - loss: 0.3175\n",
            "Epoch 18/20\n",
            "\u001b[1m217/221\u001b[0m \u001b[32m━━━━━━━━━━━━━━━━━━━\u001b[0m\u001b[37m━\u001b[0m \u001b[1m0s\u001b[0m 10ms/step - loss: 0.3102\n",
            " mean perplexity: 107139.86035494231 \n",
            "\n",
            "\u001b[1m221/221\u001b[0m \u001b[32m━━━━━━━━━━━━━━━━━━━━\u001b[0m\u001b[37m\u001b[0m \u001b[1m2s\u001b[0m 11ms/step - loss: 0.3102\n",
            "Epoch 19/20\n",
            "\u001b[1m218/221\u001b[0m \u001b[32m━━━━━━━━━━━━━━━━━━━\u001b[0m\u001b[37m━\u001b[0m \u001b[1m0s\u001b[0m 10ms/step - loss: 0.2984\n",
            " mean perplexity: 113756.1214841784 \n",
            "\n",
            "\u001b[1m221/221\u001b[0m \u001b[32m━━━━━━━━━━━━━━━━━━━━\u001b[0m\u001b[37m\u001b[0m \u001b[1m2s\u001b[0m 11ms/step - loss: 0.2984\n",
            "Epoch 20/20\n",
            "\u001b[1m219/221\u001b[0m \u001b[32m━━━━━━━━━━━━━━━━━━━\u001b[0m\u001b[37m━\u001b[0m \u001b[1m0s\u001b[0m 10ms/step - loss: 0.2915\n",
            " mean perplexity: 112588.40294690532 \n",
            "\n",
            "\u001b[1m221/221\u001b[0m \u001b[32m━━━━━━━━━━━━━━━━━━━━\u001b[0m\u001b[37m\u001b[0m \u001b[1m2s\u001b[0m 11ms/step - loss: 0.2916\n",
            "Tiempo de entrenamiento para GRU: 51.11 segundos\n"
          ]
        }
      ]
    },
    {
      "cell_type": "code",
      "source": [
        "plot_model_history(history_ppl4, model4_name)"
      ],
      "metadata": {
        "id": "QPHbDHhDjQ18",
        "colab": {
          "base_uri": "https://localhost:8080/",
          "height": 472
        },
        "outputId": "e360c6f1-a67c-4f5a-ceb1-372da2df330e"
      },
      "execution_count": 74,
      "outputs": [
        {
          "output_type": "display_data",
          "data": {
            "text/plain": [
              "<Figure size 640x480 with 1 Axes>"
            ],
            "image/png": "[encoded data removed]"
          },
          "metadata": {}
        }
      ]
    },
    {
      "cell_type": "code",
      "source": [
        "# Cargamos el mejor modelo guardado del entrenamiento para hacer inferencia\n",
        "model4 = keras.models.load_model(f'{model4_name}.keras')"
      ],
      "metadata": {
        "id": "vdlHbBtYjToE"
      },
      "execution_count": 75,
      "outputs": []
    },
    {
      "cell_type": "markdown",
      "source": [
        "\n",
        "#### Predicción de próxima palabra"
      ],
      "metadata": {
        "id": "5132b_zBjW_N"
      }
    },
    {
      "cell_type": "code",
      "source": [
        "predict_with_gradio(model4)"
      ],
      "metadata": {
        "id": "39U_nY5OjZaO",
        "colab": {
          "base_uri": "https://localhost:8080/",
          "height": 698
        },
        "outputId": "eb6ee686-c9a2-4c14-e3af-8f43fff0b8c0"
      },
      "execution_count": 76,
      "outputs": [
        {
          "output_type": "stream",
          "name": "stdout",
          "text": [
            "Running Gradio in a Colab notebook requires sharing enabled. Automatically setting `share=True` (you can turn this off by setting `share=False` in `launch()` explicitly).\n",
            "\n",
            "Colab notebook detected. This cell will run indefinitely so that you can see errors and logs. To turn off, set debug=False in launch().\n",
            "* Running on public URL: https://660e9b21fd9ec95553.gradio.live\n",
            "\n",
            "This share link expires in 72 hours. For free permanent hosting and GPU upgrades, run `gradio deploy` from the terminal in the working directory to deploy to Hugging Face Spaces (https://huggingface.co/spaces)\n"
          ]
        },
        {
          "output_type": "display_data",
          "data": {
            "text/plain": [
              "<IPython.core.display.HTML object>"
            ],
            "text/html": [
              "<div><iframe src=\"https://660e9b21fd9ec95553.gradio.live\" width=\"100%\" height=\"500\" allow=\"autoplay; camera; microphone; clipboard-read; clipboard-write;\" frameborder=\"0\" allowfullscreen></iframe></div>"
            ]
          },
          "metadata": {}
        },
        {
          "output_type": "stream",
          "name": "stdout",
          "text": [
            "\u001b[1m1/1\u001b[0m \u001b[32m━━━━━━━━━━━━━━━━━━━━\u001b[0m\u001b[37m\u001b[0m \u001b[1m0s\u001b[0m 146ms/step\n",
            "Keyboard interruption in main thread... closing server.\n",
            "Killing tunnel 127.0.0.1:7860 <> https://660e9b21fd9ec95553.gradio.live\n"
          ]
        }
      ]
    },
    {
      "cell_type": "markdown",
      "source": [
        "#### Generación de secuencias"
      ],
      "metadata": {
        "id": "qIe3QYxljfm0"
      }
    },
    {
      "cell_type": "code",
      "source": [
        "input_text='Los Thenardier estan'\n",
        "\n",
        "generate_seq(model2, tok, input_text, max_length=max_context_size, n_words=10)"
      ],
      "metadata": {
        "id": "_HZdbvcijfUI",
        "colab": {
          "base_uri": "https://localhost:8080/",
          "height": 209
        },
        "outputId": "ea2e4ab9-f16c-451e-a6f5-40fe9bd4e402"
      },
      "execution_count": 61,
      "outputs": [
        {
          "output_type": "stream",
          "name": "stdout",
          "text": [
            "\u001b[1m1/1\u001b[0m \u001b[32m━━━━━━━━━━━━━━━━━━━━\u001b[0m\u001b[37m\u001b[0m \u001b[1m0s\u001b[0m 19ms/step\n",
            "\u001b[1m1/1\u001b[0m \u001b[32m━━━━━━━━━━━━━━━━━━━━\u001b[0m\u001b[37m\u001b[0m \u001b[1m0s\u001b[0m 18ms/step\n",
            "\u001b[1m1/1\u001b[0m \u001b[32m━━━━━━━━━━━━━━━━━━━━\u001b[0m\u001b[37m\u001b[0m \u001b[1m0s\u001b[0m 18ms/step\n",
            "\u001b[1m1/1\u001b[0m \u001b[32m━━━━━━━━━━━━━━━━━━━━\u001b[0m\u001b[37m\u001b[0m \u001b[1m0s\u001b[0m 18ms/step\n",
            "\u001b[1m1/1\u001b[0m \u001b[32m━━━━━━━━━━━━━━━━━━━━\u001b[0m\u001b[37m\u001b[0m \u001b[1m0s\u001b[0m 19ms/step\n",
            "\u001b[1m1/1\u001b[0m \u001b[32m━━━━━━━━━━━━━━━━━━━━\u001b[0m\u001b[37m\u001b[0m \u001b[1m0s\u001b[0m 18ms/step\n",
            "\u001b[1m1/1\u001b[0m \u001b[32m━━━━━━━━━━━━━━━━━━━━\u001b[0m\u001b[37m\u001b[0m \u001b[1m0s\u001b[0m 18ms/step\n",
            "\u001b[1m1/1\u001b[0m \u001b[32m━━━━━━━━━━━━━━━━━━━━\u001b[0m\u001b[37m\u001b[0m \u001b[1m0s\u001b[0m 18ms/step\n",
            "\u001b[1m1/1\u001b[0m \u001b[32m━━━━━━━━━━━━━━━━━━━━\u001b[0m\u001b[37m\u001b[0m \u001b[1m0s\u001b[0m 20ms/step\n",
            "\u001b[1m1/1\u001b[0m \u001b[32m━━━━━━━━━━━━━━━━━━━━\u001b[0m\u001b[37m\u001b[0m \u001b[1m0s\u001b[0m 19ms/step\n"
          ]
        },
        {
          "output_type": "execute_result",
          "data": {
            "text/plain": [
              "'Los Thenardier estan contestaban siempre cosette está per\\xadfectamente transcurridos los seis primeros me\\xadses'"
            ],
            "application/vnd.google.colaboratory.intrinsic+json": {
              "type": "string"
            }
          },
          "metadata": {},
          "execution_count": 61
        }
      ]
    },
    {
      "cell_type": "markdown",
      "source": [
        "####  Beam search y muestreo aleatorio"
      ],
      "metadata": {
        "id": "ALuDNdryjrYa"
      }
    },
    {
      "cell_type": "code",
      "source": [
        "temps = [1, 10, 15]\n",
        "num_beams_list = [3, 4, 5]  # Lista con los valores para el número de \"beams\"\n",
        "\n",
        "for temp in temps:\n",
        "    for num_beams in num_beams_list:\n",
        "        print(f\"Temperatura: {temp}, Número de beams: {num_beams}\")\n",
        "        salidas = beam_search(model4, num_beams=num_beams, num_words=6, input=\"Los Thenardier\", temp=temp, mode='sto')\n",
        "        for idx, salida in enumerate(salidas):\n",
        "            print(f\"Salida {idx + 1}: {decode(salida)}\")\n",
        "        print()"
      ],
      "metadata": {
        "id": "CrrgpboujsLV",
        "colab": {
          "base_uri": "https://localhost:8080/"
        },
        "outputId": "bcb03501-1de7-4c4e-8e67-bf3245f8f2e8"
      },
      "execution_count": 77,
      "outputs": [
        {
          "output_type": "stream",
          "name": "stdout",
          "text": [
            "Temperatura: 1, Número de beams: 3\n",
            "Salida 1: ['los thenardier contestaban siempre cosette está per\\xadfectamente transcurridos']\n",
            "Salida 2: ['los thenardier contestaban siempre cosette está per\\xadfectamente transcurridos']\n",
            "Salida 3: ['los thenardier contestaban siempre cosette está per\\xadfectamente transcurridos']\n",
            "\n",
            "Temperatura: 1, Número de beams: 4\n",
            "Salida 1: ['los thenardier contestaban siempre cosette está per\\xadfectamente transcurridos']\n",
            "Salida 2: ['los thenardier contestaban siempre cosette está per\\xadfectamente transcurridos']\n",
            "Salida 3: ['los thenardier contestaban siempre cosette está per\\xadfectamente transcurridos']\n",
            "Salida 4: ['los thenardier contestaban siempre cosette está per\\xadfectamente transcurridos']\n",
            "\n",
            "Temperatura: 1, Número de beams: 5\n",
            "Salida 1: ['los thenardier contestaban siempre cosette está per\\xadfectamente transcurridos']\n",
            "Salida 2: ['los thenardier contestaban siempre cosette está per\\xadfectamente transcurridos']\n",
            "Salida 3: ['los thenardier contestaban siempre cosette está per\\xadfectamente transcurridos']\n",
            "Salida 4: ['los thenardier contestaban siempre cosette está per\\xadfectamente transcurridos']\n",
            "Salida 5: ['los thenardier contestaban siempre cosette está per\\xadfectamente transcurridos']\n",
            "\n",
            "Temperatura: 10, Número de beams: 3\n",
            "Salida 1: ['los thenardier mal tercera fue esparcía ah añadía']\n",
            "Salida 2: ['los thenardier mal tercera fue esparcía alta solterona']\n",
            "Salida 3: ['los thenardier mal tercera fue esparcía alta ocupar']\n",
            "\n",
            "Temperatura: 10, Número de beams: 4\n",
            "Salida 1: ['los thenardier empedrado estupefacto veces son silenciosa flaca']\n",
            "Salida 2: ['los thenardier empedrado estupefacto veces son com\\xadpasión mantener']\n",
            "Salida 3: ['los thenardier empedrado estupefacto veces son com\\xadpasión traído']\n",
            "Salida 4: ['los thenardier empedrado estupefacto veces tengas i ha']\n",
            "\n",
            "Temperatura: 10, Número de beams: 5\n",
            "Salida 1: ['los thenardier en\\xadtregado tenía vasto salida dámela deudas']\n",
            "Salida 2: ['los thenardier en\\xadtregado tenía vasto cuerda detes\\xadtara episcopal']\n",
            "Salida 3: ['los thenardier hizo guardado mis\\xadmos otras guardado bienhechor']\n",
            "Salida 4: ['los thenardier en\\xadtregado tenía vasto salida dámela hombres']\n",
            "Salida 5: ['los thenardier en\\xadtregado tenía perro plantados formaba puso']\n",
            "\n",
            "Temperatura: 15, Número de beams: 3\n",
            "Salida 1: ['los thenardier ocupó es contra pensando cosas demás']\n",
            "Salida 2: ['los thenardier transfigura transfigura hablaba dado llegará faltaba']\n",
            "Salida 3: ['los thenardier ocupó es contra pensando permaneció flaca']\n",
            "\n",
            "Temperatura: 15, Número de beams: 4\n",
            "Salida 1: ['los thenardier sí tenéis joly valjean libertaré arreglado']\n",
            "Salida 2: ['los thenardier sí tenéis joly había comeré teníamos']\n",
            "Salida 3: ['los thenardier sí tenéis joly valjean libertaré manzana']\n",
            "Salida 4: ['los thenardier sí tenéis joly valjean libertaré exigiéndole']\n",
            "\n",
            "Temperatura: 15, Número de beams: 5\n",
            "Salida 1: ['los thenardier hija casi sacándose resuenan champmathieu comer']\n",
            "Salida 2: ['los thenardier hija casi sacándose resuenan champmathieu desamparo']\n",
            "Salida 3: ['los thenardier hija casi sacándose resuenan champmathieu debajo']\n",
            "Salida 4: ['los thenardier hija casi sacándose atrás si doble']\n",
            "Salida 5: ['los thenardier hija casi sacándose resuenan alguien inglaterra']\n",
            "\n"
          ]
        }
      ]
    },
    {
      "cell_type": "markdown",
      "source": [
        "### Conclusiones:\n",
        "\n",
        "Se probaron diferentes modelos para predecir la siguiente palabra, pero todos generaban resultados incoherentes. Se intentó aumentar el tamaño del corpus (actualmente se está utilizando solo el 2%), pero esto provocaba problemas de falta de memoria. Incluso utilizando Colab Pro, al aumentar el porcentaje del corpus, la perplejidad tendía a infinito."
      ],
      "metadata": {
        "id": "WVZn3CUQ7VKK"
      }
    }
  ]
}